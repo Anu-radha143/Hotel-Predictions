{
 "cells": [
  {
   "cell_type": "markdown",
   "id": "221e787d",
   "metadata": {},
   "source": [
    "# Part-2-Problem Description "
   ]
  },
  {
   "cell_type": "markdown",
   "id": "204df949",
   "metadata": {},
   "source": [
    "Part 2 \n",
    "Here is the data set that contains the history of customer booking in a hotel.\n",
    "\n",
    "\n",
    "There are three sections in this part\n",
    "\n",
    "\n",
    "1. Train a machine learning model that \n",
    "predicts the customer who is going to be checked in. Once done, please test \n",
    "the prediction with below test data.\n",
    "\n",
    "\n",
    "\n",
    "2. Do a thorough analysis on the results and the dataset with visualizations (please feel free to add creative ways of visualization here).\n",
    "\n",
    "3. Host/Deploy the results using any hosting service you want (streamlit/flask)"
   ]
  },
  {
   "cell_type": "markdown",
   "id": "9a3c0c34",
   "metadata": {},
   "source": [
    "# Importing Libraries"
   ]
  },
  {
   "cell_type": "code",
   "execution_count": 1,
   "id": "cd22fd83",
   "metadata": {},
   "outputs": [],
   "source": [
    "import pandas as pd\n",
    "import numpy as np\n",
    "import matplotlib.pyplot as plt\n",
    "%matplotlib inline\n",
    "import seaborn as sns\n"
   ]
  },
  {
   "cell_type": "markdown",
   "id": "06d92f66",
   "metadata": {},
   "source": [
    "# Reading the Dataset "
   ]
  },
  {
   "cell_type": "code",
   "execution_count": 2,
   "id": "638d0382",
   "metadata": {
    "scrolled": true
   },
   "outputs": [
    {
     "data": {
      "text/html": [
       "<div>\n",
       "<style scoped>\n",
       "    .dataframe tbody tr th:only-of-type {\n",
       "        vertical-align: middle;\n",
       "    }\n",
       "\n",
       "    .dataframe tbody tr th {\n",
       "        vertical-align: top;\n",
       "    }\n",
       "\n",
       "    .dataframe thead th {\n",
       "        text-align: right;\n",
       "    }\n",
       "</style>\n",
       "<table border=\"1\" class=\"dataframe\">\n",
       "  <thead>\n",
       "    <tr style=\"text-align: right;\">\n",
       "      <th></th>\n",
       "      <th>ID</th>\n",
       "      <th>Nationality</th>\n",
       "      <th>Age</th>\n",
       "      <th>DaysSinceCreation</th>\n",
       "      <th>AverageLeadTime</th>\n",
       "      <th>LodgingRevenue</th>\n",
       "      <th>OtherRevenue</th>\n",
       "      <th>BookingsCanceled</th>\n",
       "      <th>BookingsNoShowed</th>\n",
       "      <th>BookingsCheckedIn</th>\n",
       "      <th>...</th>\n",
       "      <th>SRMediumFloor</th>\n",
       "      <th>SRBathtub</th>\n",
       "      <th>SRShower</th>\n",
       "      <th>SRCrib</th>\n",
       "      <th>SRKingSizeBed</th>\n",
       "      <th>SRTwinBed</th>\n",
       "      <th>SRNearElevator</th>\n",
       "      <th>SRAwayFromElevator</th>\n",
       "      <th>SRNoAlcoholInMiniBar</th>\n",
       "      <th>SRQuietRoom</th>\n",
       "    </tr>\n",
       "  </thead>\n",
       "  <tbody>\n",
       "    <tr>\n",
       "      <th>0</th>\n",
       "      <td>1</td>\n",
       "      <td>PRT</td>\n",
       "      <td>51.0</td>\n",
       "      <td>150</td>\n",
       "      <td>45</td>\n",
       "      <td>371.0</td>\n",
       "      <td>105.3</td>\n",
       "      <td>1</td>\n",
       "      <td>0</td>\n",
       "      <td>3</td>\n",
       "      <td>...</td>\n",
       "      <td>0</td>\n",
       "      <td>0</td>\n",
       "      <td>0</td>\n",
       "      <td>0</td>\n",
       "      <td>0</td>\n",
       "      <td>0</td>\n",
       "      <td>0</td>\n",
       "      <td>0</td>\n",
       "      <td>0</td>\n",
       "      <td>0</td>\n",
       "    </tr>\n",
       "    <tr>\n",
       "      <th>1</th>\n",
       "      <td>2</td>\n",
       "      <td>PRT</td>\n",
       "      <td>NaN</td>\n",
       "      <td>1095</td>\n",
       "      <td>61</td>\n",
       "      <td>280.0</td>\n",
       "      <td>53.0</td>\n",
       "      <td>0</td>\n",
       "      <td>0</td>\n",
       "      <td>1</td>\n",
       "      <td>...</td>\n",
       "      <td>0</td>\n",
       "      <td>0</td>\n",
       "      <td>0</td>\n",
       "      <td>0</td>\n",
       "      <td>0</td>\n",
       "      <td>0</td>\n",
       "      <td>0</td>\n",
       "      <td>0</td>\n",
       "      <td>0</td>\n",
       "      <td>0</td>\n",
       "    </tr>\n",
       "    <tr>\n",
       "      <th>2</th>\n",
       "      <td>3</td>\n",
       "      <td>DEU</td>\n",
       "      <td>31.0</td>\n",
       "      <td>1095</td>\n",
       "      <td>0</td>\n",
       "      <td>0.0</td>\n",
       "      <td>0.0</td>\n",
       "      <td>0</td>\n",
       "      <td>0</td>\n",
       "      <td>0</td>\n",
       "      <td>...</td>\n",
       "      <td>0</td>\n",
       "      <td>0</td>\n",
       "      <td>0</td>\n",
       "      <td>0</td>\n",
       "      <td>0</td>\n",
       "      <td>0</td>\n",
       "      <td>0</td>\n",
       "      <td>0</td>\n",
       "      <td>0</td>\n",
       "      <td>0</td>\n",
       "    </tr>\n",
       "    <tr>\n",
       "      <th>3</th>\n",
       "      <td>4</td>\n",
       "      <td>FRA</td>\n",
       "      <td>60.0</td>\n",
       "      <td>1095</td>\n",
       "      <td>93</td>\n",
       "      <td>240.0</td>\n",
       "      <td>60.0</td>\n",
       "      <td>0</td>\n",
       "      <td>0</td>\n",
       "      <td>1</td>\n",
       "      <td>...</td>\n",
       "      <td>0</td>\n",
       "      <td>0</td>\n",
       "      <td>0</td>\n",
       "      <td>0</td>\n",
       "      <td>0</td>\n",
       "      <td>0</td>\n",
       "      <td>0</td>\n",
       "      <td>0</td>\n",
       "      <td>0</td>\n",
       "      <td>0</td>\n",
       "    </tr>\n",
       "    <tr>\n",
       "      <th>4</th>\n",
       "      <td>5</td>\n",
       "      <td>FRA</td>\n",
       "      <td>51.0</td>\n",
       "      <td>1095</td>\n",
       "      <td>0</td>\n",
       "      <td>0.0</td>\n",
       "      <td>0.0</td>\n",
       "      <td>0</td>\n",
       "      <td>0</td>\n",
       "      <td>0</td>\n",
       "      <td>...</td>\n",
       "      <td>0</td>\n",
       "      <td>0</td>\n",
       "      <td>0</td>\n",
       "      <td>0</td>\n",
       "      <td>0</td>\n",
       "      <td>0</td>\n",
       "      <td>0</td>\n",
       "      <td>0</td>\n",
       "      <td>0</td>\n",
       "      <td>0</td>\n",
       "    </tr>\n",
       "  </tbody>\n",
       "</table>\n",
       "<p>5 rows × 29 columns</p>\n",
       "</div>"
      ],
      "text/plain": [
       "   ID Nationality   Age  DaysSinceCreation  AverageLeadTime  LodgingRevenue  \\\n",
       "0   1         PRT  51.0                150               45           371.0   \n",
       "1   2         PRT   NaN               1095               61           280.0   \n",
       "2   3         DEU  31.0               1095                0             0.0   \n",
       "3   4         FRA  60.0               1095               93           240.0   \n",
       "4   5         FRA  51.0               1095                0             0.0   \n",
       "\n",
       "   OtherRevenue  BookingsCanceled  BookingsNoShowed  BookingsCheckedIn  ...  \\\n",
       "0         105.3                 1                 0                  3  ...   \n",
       "1          53.0                 0                 0                  1  ...   \n",
       "2           0.0                 0                 0                  0  ...   \n",
       "3          60.0                 0                 0                  1  ...   \n",
       "4           0.0                 0                 0                  0  ...   \n",
       "\n",
       "   SRMediumFloor  SRBathtub  SRShower  SRCrib SRKingSizeBed SRTwinBed  \\\n",
       "0              0          0         0       0             0         0   \n",
       "1              0          0         0       0             0         0   \n",
       "2              0          0         0       0             0         0   \n",
       "3              0          0         0       0             0         0   \n",
       "4              0          0         0       0             0         0   \n",
       "\n",
       "   SRNearElevator  SRAwayFromElevator  SRNoAlcoholInMiniBar  SRQuietRoom  \n",
       "0               0                   0                     0            0  \n",
       "1               0                   0                     0            0  \n",
       "2               0                   0                     0            0  \n",
       "3               0                   0                     0            0  \n",
       "4               0                   0                     0            0  \n",
       "\n",
       "[5 rows x 29 columns]"
      ]
     },
     "execution_count": 2,
     "metadata": {},
     "output_type": "execute_result"
    }
   ],
   "source": [
    "hotel=pd.read_csv(\"train_data_evaluation_part_2.csv\",index_col=0)\n",
    "hotel.head()\n",
    "\n",
    "#Assigned first column as index because index and first column was same"
   ]
  },
  {
   "cell_type": "code",
   "execution_count": 3,
   "id": "24513832",
   "metadata": {},
   "outputs": [
    {
     "data": {
      "text/plain": [
       "(82580, 29)"
      ]
     },
     "execution_count": 3,
     "metadata": {},
     "output_type": "execute_result"
    }
   ],
   "source": [
    "hotel.shape"
   ]
  },
  {
   "cell_type": "markdown",
   "id": "cefb869b",
   "metadata": {},
   "source": [
    "# Data Cleaning & Exploration"
   ]
  },
  {
   "cell_type": "markdown",
   "id": "a1348788",
   "metadata": {},
   "source": [
    "Some steps which are used to clean data are:\n",
    "\n",
    "1.Remove missing values, outliers,and unnecessary rows/ columns.\n",
    "\n",
    "2.Check and impute null values.\n",
    "\n",
    "3.Check Imbalanced data.\n",
    "\n",
    "4.Re-indexing and reformatting our data."
   ]
  },
  {
   "cell_type": "code",
   "execution_count": 4,
   "id": "6a6b40a7",
   "metadata": {},
   "outputs": [
    {
     "name": "stdout",
     "output_type": "stream",
     "text": [
      "<class 'pandas.core.frame.DataFrame'>\n",
      "Int64Index: 82580 entries, 0 to 82579\n",
      "Data columns (total 29 columns):\n",
      " #   Column                Non-Null Count  Dtype  \n",
      "---  ------                --------------  -----  \n",
      " 0   ID                    82580 non-null  int64  \n",
      " 1   Nationality           82580 non-null  object \n",
      " 2   Age                   78834 non-null  float64\n",
      " 3   DaysSinceCreation     82580 non-null  int64  \n",
      " 4   AverageLeadTime       82580 non-null  int64  \n",
      " 5   LodgingRevenue        82580 non-null  float64\n",
      " 6   OtherRevenue          82580 non-null  float64\n",
      " 7   BookingsCanceled      82580 non-null  int64  \n",
      " 8   BookingsNoShowed      82580 non-null  int64  \n",
      " 9   BookingsCheckedIn     82580 non-null  int64  \n",
      " 10  PersonsNights         82580 non-null  int64  \n",
      " 11  RoomNights            82580 non-null  int64  \n",
      " 12  DaysSinceLastStay     82580 non-null  int64  \n",
      " 13  DaysSinceFirstStay    82580 non-null  int64  \n",
      " 14  DistributionChannel   82580 non-null  object \n",
      " 15  MarketSegment         82580 non-null  object \n",
      " 16  SRHighFloor           82580 non-null  int64  \n",
      " 17  SRLowFloor            82580 non-null  int64  \n",
      " 18  SRAccessibleRoom      82580 non-null  int64  \n",
      " 19  SRMediumFloor         82580 non-null  int64  \n",
      " 20  SRBathtub             82580 non-null  int64  \n",
      " 21  SRShower              82580 non-null  int64  \n",
      " 22  SRCrib                82580 non-null  int64  \n",
      " 23  SRKingSizeBed         82580 non-null  int64  \n",
      " 24  SRTwinBed             82580 non-null  int64  \n",
      " 25  SRNearElevator        82580 non-null  int64  \n",
      " 26  SRAwayFromElevator    82580 non-null  int64  \n",
      " 27  SRNoAlcoholInMiniBar  82580 non-null  int64  \n",
      " 28  SRQuietRoom           82580 non-null  int64  \n",
      "dtypes: float64(3), int64(23), object(3)\n",
      "memory usage: 18.9+ MB\n"
     ]
    }
   ],
   "source": [
    "hotel.info()"
   ]
  },
  {
   "cell_type": "markdown",
   "id": "0c224ef3",
   "metadata": {},
   "source": [
    "#### As we can see only feature \"Age\" having the null values,lets see more in dept for \"Age\" feature"
   ]
  },
  {
   "cell_type": "code",
   "execution_count": 5,
   "id": "7812c58e",
   "metadata": {},
   "outputs": [
    {
     "data": {
      "text/plain": [
       "count    78834.000000\n",
       "mean        45.468554\n",
       "std         16.526276\n",
       "min        -11.000000\n",
       "25%         34.000000\n",
       "50%         46.000000\n",
       "75%         57.000000\n",
       "max        122.000000\n",
       "Name: Age, dtype: float64"
      ]
     },
     "execution_count": 5,
     "metadata": {},
     "output_type": "execute_result"
    }
   ],
   "source": [
    "hotel['Age'].describe()"
   ]
  },
  {
   "cell_type": "markdown",
   "id": "a6abace9",
   "metadata": {},
   "source": [
    "Age can't be Negative ,so all Negative Age values are null values ,also 75% of data is less than 57 age, it means we have outlilers in age"
   ]
  },
  {
   "cell_type": "code",
   "execution_count": 6,
   "id": "c77b11b3",
   "metadata": {},
   "outputs": [
    {
     "name": "stdout",
     "output_type": "stream",
     "text": [
      "The Total No. of Negative values present in Age is : 17\n",
      "The % of Missing Values in Age is : 5\n",
      "The Total No.of outliers values present in Age is : 8\n"
     ]
    }
   ],
   "source": [
    "print('The Total No. of Negative values present in Age is :', len(hotel[hotel['Age'] < 0]))\n",
    "print('The % of Missing Values in Age is :', round(hotel['Age'].isnull().sum()*100/len(hotel)))\n",
    "print('The Total No.of outliers values present in Age is :',len(hotel[hotel['Age']>100]))"
   ]
  },
  {
   "cell_type": "markdown",
   "id": "3fa564e5",
   "metadata": {},
   "source": [
    "lets remove the negative values  & outliers from Age.\n",
    "\n",
    "null values present in Age is 5%, so we can drop these values, but instead of dropping we will impute this by using mean.\n",
    "(Reason-Loosing the data is not best approach).\n",
    " \n"
   ]
  },
  {
   "cell_type": "code",
   "execution_count": 7,
   "id": "a84d6f56",
   "metadata": {},
   "outputs": [
    {
     "data": {
      "text/plain": [
       "count    82580.000000\n",
       "mean        45.468554\n",
       "std         16.147088\n",
       "min        -11.000000\n",
       "25%         34.000000\n",
       "50%         45.468554\n",
       "75%         56.000000\n",
       "max        122.000000\n",
       "Name: Age, dtype: float64"
      ]
     },
     "execution_count": 7,
     "metadata": {},
     "output_type": "execute_result"
    }
   ],
   "source": [
    "hotel['Age'].fillna(value=hotel['Age'].mean(),inplace=True)\n",
    "hotel['Age'].describe()\n",
    "\n",
    "#imputed null values by mean"
   ]
  },
  {
   "cell_type": "code",
   "execution_count": 8,
   "id": "fd3c6e7f",
   "metadata": {},
   "outputs": [],
   "source": [
    "hotel=hotel[hotel['Age']>0]  #Deleting all Negative values\n",
    "hotel = hotel[hotel['Age'] < 100]"
   ]
  },
  {
   "cell_type": "code",
   "execution_count": 9,
   "id": "ea1bad9c",
   "metadata": {},
   "outputs": [
    {
     "name": "stdout",
     "output_type": "stream",
     "text": [
      "The Total No. of Negative values present in Age is : 0\n",
      "The % of Missing Values in Age is : 0\n",
      "The Total No.of outliers values present in Age is : 0\n"
     ]
    }
   ],
   "source": [
    "print('The Total No. of Negative values present in Age is :', len(hotel[hotel['Age'] < 0]))\n",
    "print('The % of Missing Values in Age is :', hotel['Age'].isnull().sum())\n",
    "print('The Total No.of outliers values present in Age is :',len(hotel[hotel['Age']>100]))"
   ]
  },
  {
   "cell_type": "markdown",
   "id": "11d6e98f",
   "metadata": {},
   "source": [
    "we removed all negative & outliers from age & imputed null values (5%) with mean"
   ]
  },
  {
   "cell_type": "markdown",
   "id": "1fab9612",
   "metadata": {},
   "source": [
    "### Checking how many unique values are there in each feature."
   ]
  },
  {
   "cell_type": "code",
   "execution_count": 10,
   "id": "2dbfbe1c",
   "metadata": {},
   "outputs": [
    {
     "data": {
      "text/html": [
       "<div>\n",
       "<style scoped>\n",
       "    .dataframe tbody tr th:only-of-type {\n",
       "        vertical-align: middle;\n",
       "    }\n",
       "\n",
       "    .dataframe tbody tr th {\n",
       "        vertical-align: top;\n",
       "    }\n",
       "\n",
       "    .dataframe thead th {\n",
       "        text-align: right;\n",
       "    }\n",
       "</style>\n",
       "<table border=\"1\" class=\"dataframe\">\n",
       "  <thead>\n",
       "    <tr style=\"text-align: right;\">\n",
       "      <th></th>\n",
       "      <th>Number of unique values</th>\n",
       "    </tr>\n",
       "  </thead>\n",
       "  <tbody>\n",
       "    <tr>\n",
       "      <th>ID</th>\n",
       "      <td>82515</td>\n",
       "    </tr>\n",
       "    <tr>\n",
       "      <th>Nationality</th>\n",
       "      <td>187</td>\n",
       "    </tr>\n",
       "    <tr>\n",
       "      <th>Age</th>\n",
       "      <td>94</td>\n",
       "    </tr>\n",
       "    <tr>\n",
       "      <th>DaysSinceCreation</th>\n",
       "      <td>1083</td>\n",
       "    </tr>\n",
       "    <tr>\n",
       "      <th>AverageLeadTime</th>\n",
       "      <td>418</td>\n",
       "    </tr>\n",
       "    <tr>\n",
       "      <th>LodgingRevenue</th>\n",
       "      <td>10137</td>\n",
       "    </tr>\n",
       "    <tr>\n",
       "      <th>OtherRevenue</th>\n",
       "      <td>4469</td>\n",
       "    </tr>\n",
       "    <tr>\n",
       "      <th>BookingsCanceled</th>\n",
       "      <td>6</td>\n",
       "    </tr>\n",
       "    <tr>\n",
       "      <th>BookingsNoShowed</th>\n",
       "      <td>4</td>\n",
       "    </tr>\n",
       "    <tr>\n",
       "      <th>BookingsCheckedIn</th>\n",
       "      <td>29</td>\n",
       "    </tr>\n",
       "    <tr>\n",
       "      <th>PersonsNights</th>\n",
       "      <td>56</td>\n",
       "    </tr>\n",
       "    <tr>\n",
       "      <th>RoomNights</th>\n",
       "      <td>48</td>\n",
       "    </tr>\n",
       "    <tr>\n",
       "      <th>DaysSinceLastStay</th>\n",
       "      <td>1100</td>\n",
       "    </tr>\n",
       "    <tr>\n",
       "      <th>DaysSinceFirstStay</th>\n",
       "      <td>1096</td>\n",
       "    </tr>\n",
       "    <tr>\n",
       "      <th>DistributionChannel</th>\n",
       "      <td>4</td>\n",
       "    </tr>\n",
       "    <tr>\n",
       "      <th>MarketSegment</th>\n",
       "      <td>7</td>\n",
       "    </tr>\n",
       "    <tr>\n",
       "      <th>SRHighFloor</th>\n",
       "      <td>2</td>\n",
       "    </tr>\n",
       "    <tr>\n",
       "      <th>SRLowFloor</th>\n",
       "      <td>2</td>\n",
       "    </tr>\n",
       "    <tr>\n",
       "      <th>SRAccessibleRoom</th>\n",
       "      <td>2</td>\n",
       "    </tr>\n",
       "    <tr>\n",
       "      <th>SRMediumFloor</th>\n",
       "      <td>2</td>\n",
       "    </tr>\n",
       "    <tr>\n",
       "      <th>SRBathtub</th>\n",
       "      <td>2</td>\n",
       "    </tr>\n",
       "    <tr>\n",
       "      <th>SRShower</th>\n",
       "      <td>2</td>\n",
       "    </tr>\n",
       "    <tr>\n",
       "      <th>SRCrib</th>\n",
       "      <td>2</td>\n",
       "    </tr>\n",
       "    <tr>\n",
       "      <th>SRKingSizeBed</th>\n",
       "      <td>2</td>\n",
       "    </tr>\n",
       "    <tr>\n",
       "      <th>SRTwinBed</th>\n",
       "      <td>2</td>\n",
       "    </tr>\n",
       "    <tr>\n",
       "      <th>SRNearElevator</th>\n",
       "      <td>2</td>\n",
       "    </tr>\n",
       "    <tr>\n",
       "      <th>SRAwayFromElevator</th>\n",
       "      <td>2</td>\n",
       "    </tr>\n",
       "    <tr>\n",
       "      <th>SRNoAlcoholInMiniBar</th>\n",
       "      <td>2</td>\n",
       "    </tr>\n",
       "    <tr>\n",
       "      <th>SRQuietRoom</th>\n",
       "      <td>2</td>\n",
       "    </tr>\n",
       "  </tbody>\n",
       "</table>\n",
       "</div>"
      ],
      "text/plain": [
       "                      Number of unique values\n",
       "ID                                      82515\n",
       "Nationality                               187\n",
       "Age                                        94\n",
       "DaysSinceCreation                        1083\n",
       "AverageLeadTime                           418\n",
       "LodgingRevenue                          10137\n",
       "OtherRevenue                             4469\n",
       "BookingsCanceled                            6\n",
       "BookingsNoShowed                            4\n",
       "BookingsCheckedIn                          29\n",
       "PersonsNights                              56\n",
       "RoomNights                                 48\n",
       "DaysSinceLastStay                        1100\n",
       "DaysSinceFirstStay                       1096\n",
       "DistributionChannel                         4\n",
       "MarketSegment                               7\n",
       "SRHighFloor                                 2\n",
       "SRLowFloor                                  2\n",
       "SRAccessibleRoom                            2\n",
       "SRMediumFloor                               2\n",
       "SRBathtub                                   2\n",
       "SRShower                                    2\n",
       "SRCrib                                      2\n",
       "SRKingSizeBed                               2\n",
       "SRTwinBed                                   2\n",
       "SRNearElevator                              2\n",
       "SRAwayFromElevator                          2\n",
       "SRNoAlcoholInMiniBar                        2\n",
       "SRQuietRoom                                 2"
      ]
     },
     "execution_count": 10,
     "metadata": {},
     "output_type": "execute_result"
    }
   ],
   "source": [
    "hotel.nunique().to_frame(name = 'Number of unique values')"
   ]
  },
  {
   "cell_type": "code",
   "execution_count": 11,
   "id": "709a8cab",
   "metadata": {},
   "outputs": [
    {
     "data": {
      "text/plain": [
       "False"
      ]
     },
     "execution_count": 11,
     "metadata": {},
     "output_type": "execute_result"
    }
   ],
   "source": [
    "#Check if data holds duplicate values.\n",
    "hotel.duplicated().any()"
   ]
  },
  {
   "cell_type": "markdown",
   "id": "a54bd353",
   "metadata": {},
   "source": [
    "There are no duplicate data in dataset"
   ]
  },
  {
   "cell_type": "code",
   "execution_count": 12,
   "id": "21a09ba1",
   "metadata": {},
   "outputs": [
    {
     "data": {
      "image/png": "[encoded data removed]",
      "text/plain": [
       "<Figure size 1440x1440 with 30 Axes>"
      ]
     },
     "metadata": {
      "needs_background": "light"
     },
     "output_type": "display_data"
    }
   ],
   "source": [
    "hotel.hist(figsize = (20,20))\n",
    "plt.show()"
   ]
  },
  {
   "cell_type": "markdown",
   "id": "e621d59a",
   "metadata": {},
   "source": [
    "from the above histogram, we can see the 60% our data having binary datatype, and all those binary features consist of almost 99% data is 0 only.\n",
    "\n",
    "rest 'Age' feature is normally distributed, 'AverageLeadTime' feature data distribution is left skewed & 75% of data is under 100 and 25% data is above 100."
   ]
  },
  {
   "cell_type": "markdown",
   "id": "a742ccff",
   "metadata": {},
   "source": [
    "# Descriptive Analysis & Data Preprocessing"
   ]
  },
  {
   "cell_type": "code",
   "execution_count": 13,
   "id": "4dce0918",
   "metadata": {},
   "outputs": [
    {
     "data": {
      "text/html": [
       "<style type=\"text/css\">\n",
       "#T_5bee3_row0_col0, #T_5bee3_row0_col1, #T_5bee3_row0_col2, #T_5bee3_row0_col3, #T_5bee3_row0_col4, #T_5bee3_row0_col5, #T_5bee3_row0_col6, #T_5bee3_row0_col7, #T_5bee3_row1_col0, #T_5bee3_row1_col1, #T_5bee3_row1_col2, #T_5bee3_row1_col3, #T_5bee3_row1_col4, #T_5bee3_row1_col5, #T_5bee3_row1_col6, #T_5bee3_row1_col7, #T_5bee3_row2_col0, #T_5bee3_row2_col1, #T_5bee3_row2_col2, #T_5bee3_row2_col3, #T_5bee3_row2_col4, #T_5bee3_row2_col5, #T_5bee3_row2_col6, #T_5bee3_row2_col7, #T_5bee3_row3_col0, #T_5bee3_row3_col1, #T_5bee3_row3_col2, #T_5bee3_row3_col3, #T_5bee3_row3_col4, #T_5bee3_row3_col5, #T_5bee3_row3_col6, #T_5bee3_row3_col7, #T_5bee3_row4_col0, #T_5bee3_row4_col1, #T_5bee3_row4_col2, #T_5bee3_row4_col3, #T_5bee3_row4_col4, #T_5bee3_row4_col5, #T_5bee3_row4_col6, #T_5bee3_row4_col7, #T_5bee3_row5_col0, #T_5bee3_row5_col1, #T_5bee3_row5_col2, #T_5bee3_row5_col3, #T_5bee3_row5_col4, #T_5bee3_row5_col5, #T_5bee3_row5_col6, #T_5bee3_row5_col7, #T_5bee3_row6_col0, #T_5bee3_row6_col1, #T_5bee3_row6_col2, #T_5bee3_row6_col3, #T_5bee3_row6_col4, #T_5bee3_row6_col5, #T_5bee3_row6_col6, #T_5bee3_row6_col7, #T_5bee3_row7_col0, #T_5bee3_row7_col1, #T_5bee3_row7_col2, #T_5bee3_row7_col3, #T_5bee3_row7_col4, #T_5bee3_row7_col5, #T_5bee3_row7_col6, #T_5bee3_row7_col7, #T_5bee3_row8_col0, #T_5bee3_row8_col1, #T_5bee3_row8_col2, #T_5bee3_row8_col3, #T_5bee3_row8_col4, #T_5bee3_row8_col5, #T_5bee3_row8_col6, #T_5bee3_row8_col7, #T_5bee3_row9_col0, #T_5bee3_row9_col1, #T_5bee3_row9_col2, #T_5bee3_row9_col3, #T_5bee3_row9_col4, #T_5bee3_row9_col5, #T_5bee3_row9_col6, #T_5bee3_row9_col7, #T_5bee3_row10_col0, #T_5bee3_row10_col1, #T_5bee3_row10_col2, #T_5bee3_row10_col3, #T_5bee3_row10_col4, #T_5bee3_row10_col5, #T_5bee3_row10_col6, #T_5bee3_row10_col7, #T_5bee3_row11_col0, #T_5bee3_row11_col1, #T_5bee3_row11_col2, #T_5bee3_row11_col3, #T_5bee3_row11_col4, #T_5bee3_row11_col5, #T_5bee3_row11_col6, #T_5bee3_row11_col7, #T_5bee3_row12_col0, #T_5bee3_row12_col1, #T_5bee3_row12_col2, #T_5bee3_row12_col3, #T_5bee3_row12_col4, #T_5bee3_row12_col5, #T_5bee3_row12_col6, #T_5bee3_row12_col7, #T_5bee3_row13_col0, #T_5bee3_row13_col1, #T_5bee3_row13_col2, #T_5bee3_row13_col3, #T_5bee3_row13_col4, #T_5bee3_row13_col5, #T_5bee3_row13_col6, #T_5bee3_row13_col7, #T_5bee3_row14_col0, #T_5bee3_row14_col1, #T_5bee3_row14_col2, #T_5bee3_row14_col3, #T_5bee3_row14_col4, #T_5bee3_row14_col5, #T_5bee3_row14_col6, #T_5bee3_row14_col7, #T_5bee3_row15_col0, #T_5bee3_row15_col1, #T_5bee3_row15_col2, #T_5bee3_row15_col3, #T_5bee3_row15_col4, #T_5bee3_row15_col5, #T_5bee3_row15_col6, #T_5bee3_row15_col7, #T_5bee3_row16_col0, #T_5bee3_row16_col1, #T_5bee3_row16_col2, #T_5bee3_row16_col3, #T_5bee3_row16_col4, #T_5bee3_row16_col5, #T_5bee3_row16_col6, #T_5bee3_row16_col7, #T_5bee3_row17_col0, #T_5bee3_row17_col1, #T_5bee3_row17_col2, #T_5bee3_row17_col3, #T_5bee3_row17_col4, #T_5bee3_row17_col5, #T_5bee3_row17_col6, #T_5bee3_row17_col7, #T_5bee3_row18_col0, #T_5bee3_row18_col1, #T_5bee3_row18_col2, #T_5bee3_row18_col3, #T_5bee3_row18_col4, #T_5bee3_row18_col5, #T_5bee3_row18_col6, #T_5bee3_row18_col7, #T_5bee3_row19_col0, #T_5bee3_row19_col1, #T_5bee3_row19_col2, #T_5bee3_row19_col3, #T_5bee3_row19_col4, #T_5bee3_row19_col5, #T_5bee3_row19_col6, #T_5bee3_row19_col7, #T_5bee3_row20_col0, #T_5bee3_row20_col1, #T_5bee3_row20_col2, #T_5bee3_row20_col3, #T_5bee3_row20_col4, #T_5bee3_row20_col5, #T_5bee3_row20_col6, #T_5bee3_row20_col7, #T_5bee3_row21_col0, #T_5bee3_row21_col1, #T_5bee3_row21_col2, #T_5bee3_row21_col3, #T_5bee3_row21_col4, #T_5bee3_row21_col5, #T_5bee3_row21_col6, #T_5bee3_row21_col7, #T_5bee3_row22_col0, #T_5bee3_row22_col1, #T_5bee3_row22_col2, #T_5bee3_row22_col3, #T_5bee3_row22_col4, #T_5bee3_row22_col5, #T_5bee3_row22_col6, #T_5bee3_row22_col7, #T_5bee3_row23_col0, #T_5bee3_row23_col1, #T_5bee3_row23_col2, #T_5bee3_row23_col3, #T_5bee3_row23_col4, #T_5bee3_row23_col5, #T_5bee3_row23_col6, #T_5bee3_row23_col7, #T_5bee3_row24_col0, #T_5bee3_row24_col1, #T_5bee3_row24_col2, #T_5bee3_row24_col3, #T_5bee3_row24_col4, #T_5bee3_row24_col5, #T_5bee3_row24_col6, #T_5bee3_row24_col7, #T_5bee3_row25_col0, #T_5bee3_row25_col1, #T_5bee3_row25_col2, #T_5bee3_row25_col3, #T_5bee3_row25_col4, #T_5bee3_row25_col5, #T_5bee3_row25_col6, #T_5bee3_row25_col7 {\n",
       "  background-color: #282120;\n",
       "  color: white;\n",
       "  border-color: white;\n",
       "}\n",
       "</style>\n",
       "<table id=\"T_5bee3\">\n",
       "  <thead>\n",
       "    <tr>\n",
       "      <th class=\"blank level0\" >&nbsp;</th>\n",
       "      <th id=\"T_5bee3_level0_col0\" class=\"col_heading level0 col0\" >count</th>\n",
       "      <th id=\"T_5bee3_level0_col1\" class=\"col_heading level0 col1\" >mean</th>\n",
       "      <th id=\"T_5bee3_level0_col2\" class=\"col_heading level0 col2\" >std</th>\n",
       "      <th id=\"T_5bee3_level0_col3\" class=\"col_heading level0 col3\" >min</th>\n",
       "      <th id=\"T_5bee3_level0_col4\" class=\"col_heading level0 col4\" >25%</th>\n",
       "      <th id=\"T_5bee3_level0_col5\" class=\"col_heading level0 col5\" >50%</th>\n",
       "      <th id=\"T_5bee3_level0_col6\" class=\"col_heading level0 col6\" >75%</th>\n",
       "      <th id=\"T_5bee3_level0_col7\" class=\"col_heading level0 col7\" >max</th>\n",
       "    </tr>\n",
       "  </thead>\n",
       "  <tbody>\n",
       "    <tr>\n",
       "      <th id=\"T_5bee3_level0_row0\" class=\"row_heading level0 row0\" >ID</th>\n",
       "      <td id=\"T_5bee3_row0_col0\" class=\"data row0 col0\" >82515.000000</td>\n",
       "      <td id=\"T_5bee3_row0_col1\" class=\"data row0 col1\" >41281.017621</td>\n",
       "      <td id=\"T_5bee3_row0_col2\" class=\"data row0 col2\" >23832.690901</td>\n",
       "      <td id=\"T_5bee3_row0_col3\" class=\"data row0 col3\" >1.000000</td>\n",
       "      <td id=\"T_5bee3_row0_col4\" class=\"data row0 col4\" >20647.500000</td>\n",
       "      <td id=\"T_5bee3_row0_col5\" class=\"data row0 col5\" >41277.000000</td>\n",
       "      <td id=\"T_5bee3_row0_col6\" class=\"data row0 col6\" >61914.500000</td>\n",
       "      <td id=\"T_5bee3_row0_col7\" class=\"data row0 col7\" >82580.000000</td>\n",
       "    </tr>\n",
       "    <tr>\n",
       "      <th id=\"T_5bee3_level0_row1\" class=\"row_heading level0 row1\" >Age</th>\n",
       "      <td id=\"T_5bee3_row1_col0\" class=\"data row1 col0\" >82515.000000</td>\n",
       "      <td id=\"T_5bee3_row1_col1\" class=\"data row1 col1\" >45.494846</td>\n",
       "      <td id=\"T_5bee3_row1_col2\" class=\"data row1 col2\" >16.090608</td>\n",
       "      <td id=\"T_5bee3_row1_col3\" class=\"data row1 col3\" >1.000000</td>\n",
       "      <td id=\"T_5bee3_row1_col4\" class=\"data row1 col4\" >34.000000</td>\n",
       "      <td id=\"T_5bee3_row1_col5\" class=\"data row1 col5\" >45.468554</td>\n",
       "      <td id=\"T_5bee3_row1_col6\" class=\"data row1 col6\" >56.000000</td>\n",
       "      <td id=\"T_5bee3_row1_col7\" class=\"data row1 col7\" >96.000000</td>\n",
       "    </tr>\n",
       "    <tr>\n",
       "      <th id=\"T_5bee3_level0_row2\" class=\"row_heading level0 row2\" >DaysSinceCreation</th>\n",
       "      <td id=\"T_5bee3_row2_col0\" class=\"data row2 col0\" >82515.000000</td>\n",
       "      <td id=\"T_5bee3_row2_col1\" class=\"data row2 col1\" >459.232879</td>\n",
       "      <td id=\"T_5bee3_row2_col2\" class=\"data row2 col2\" >311.253482</td>\n",
       "      <td id=\"T_5bee3_row2_col3\" class=\"data row2 col3\" >12.000000</td>\n",
       "      <td id=\"T_5bee3_row2_col4\" class=\"data row2 col4\" >183.000000</td>\n",
       "      <td id=\"T_5bee3_row2_col5\" class=\"data row2 col5\" >406.000000</td>\n",
       "      <td id=\"T_5bee3_row2_col6\" class=\"data row2 col6\" >728.000000</td>\n",
       "      <td id=\"T_5bee3_row2_col7\" class=\"data row2 col7\" >1095.000000</td>\n",
       "    </tr>\n",
       "    <tr>\n",
       "      <th id=\"T_5bee3_level0_row3\" class=\"row_heading level0 row3\" >AverageLeadTime</th>\n",
       "      <td id=\"T_5bee3_row3_col0\" class=\"data row3 col0\" >82515.000000</td>\n",
       "      <td id=\"T_5bee3_row3_col1\" class=\"data row3 col1\" >66.572563</td>\n",
       "      <td id=\"T_5bee3_row3_col2\" class=\"data row3 col2\" >87.923468</td>\n",
       "      <td id=\"T_5bee3_row3_col3\" class=\"data row3 col3\" >-1.000000</td>\n",
       "      <td id=\"T_5bee3_row3_col4\" class=\"data row3 col4\" >0.000000</td>\n",
       "      <td id=\"T_5bee3_row3_col5\" class=\"data row3 col5\" >30.000000</td>\n",
       "      <td id=\"T_5bee3_row3_col6\" class=\"data row3 col6\" >104.000000</td>\n",
       "      <td id=\"T_5bee3_row3_col7\" class=\"data row3 col7\" >588.000000</td>\n",
       "    </tr>\n",
       "    <tr>\n",
       "      <th id=\"T_5bee3_level0_row4\" class=\"row_heading level0 row4\" >LodgingRevenue</th>\n",
       "      <td id=\"T_5bee3_row4_col0\" class=\"data row4 col0\" >82515.000000</td>\n",
       "      <td id=\"T_5bee3_row4_col1\" class=\"data row4 col1\" >300.621777</td>\n",
       "      <td id=\"T_5bee3_row4_col2\" class=\"data row4 col2\" >373.406157</td>\n",
       "      <td id=\"T_5bee3_row4_col3\" class=\"data row4 col3\" >0.000000</td>\n",
       "      <td id=\"T_5bee3_row4_col4\" class=\"data row4 col4\" >67.200000</td>\n",
       "      <td id=\"T_5bee3_row4_col5\" class=\"data row4 col5\" >234.000000</td>\n",
       "      <td id=\"T_5bee3_row4_col6\" class=\"data row4 col6\" >404.000000</td>\n",
       "      <td id=\"T_5bee3_row4_col7\" class=\"data row4 col7\" >21781.000000</td>\n",
       "    </tr>\n",
       "    <tr>\n",
       "      <th id=\"T_5bee3_level0_row5\" class=\"row_heading level0 row5\" >OtherRevenue</th>\n",
       "      <td id=\"T_5bee3_row5_col0\" class=\"data row5 col0\" >82515.000000</td>\n",
       "      <td id=\"T_5bee3_row5_col1\" class=\"data row5 col1\" >67.922798</td>\n",
       "      <td id=\"T_5bee3_row5_col2\" class=\"data row5 col2\" >114.524716</td>\n",
       "      <td id=\"T_5bee3_row5_col3\" class=\"data row5 col3\" >0.000000</td>\n",
       "      <td id=\"T_5bee3_row5_col4\" class=\"data row5 col4\" >2.000000</td>\n",
       "      <td id=\"T_5bee3_row5_col5\" class=\"data row5 col5\" >39.000000</td>\n",
       "      <td id=\"T_5bee3_row5_col6\" class=\"data row5 col6\" >88.000000</td>\n",
       "      <td id=\"T_5bee3_row5_col7\" class=\"data row5 col7\" >7730.250000</td>\n",
       "    </tr>\n",
       "    <tr>\n",
       "      <th id=\"T_5bee3_level0_row6\" class=\"row_heading level0 row6\" >BookingsCanceled</th>\n",
       "      <td id=\"T_5bee3_row6_col0\" class=\"data row6 col0\" >82515.000000</td>\n",
       "      <td id=\"T_5bee3_row6_col1\" class=\"data row6 col1\" >0.002048</td>\n",
       "      <td id=\"T_5bee3_row6_col2\" class=\"data row6 col2\" >0.067203</td>\n",
       "      <td id=\"T_5bee3_row6_col3\" class=\"data row6 col3\" >0.000000</td>\n",
       "      <td id=\"T_5bee3_row6_col4\" class=\"data row6 col4\" >0.000000</td>\n",
       "      <td id=\"T_5bee3_row6_col5\" class=\"data row6 col5\" >0.000000</td>\n",
       "      <td id=\"T_5bee3_row6_col6\" class=\"data row6 col6\" >0.000000</td>\n",
       "      <td id=\"T_5bee3_row6_col7\" class=\"data row6 col7\" >9.000000</td>\n",
       "    </tr>\n",
       "    <tr>\n",
       "      <th id=\"T_5bee3_level0_row7\" class=\"row_heading level0 row7\" >BookingsNoShowed</th>\n",
       "      <td id=\"T_5bee3_row7_col0\" class=\"data row7 col0\" >82515.000000</td>\n",
       "      <td id=\"T_5bee3_row7_col1\" class=\"data row7 col1\" >0.000642</td>\n",
       "      <td id=\"T_5bee3_row7_col2\" class=\"data row7 col2\" >0.029737</td>\n",
       "      <td id=\"T_5bee3_row7_col3\" class=\"data row7 col3\" >0.000000</td>\n",
       "      <td id=\"T_5bee3_row7_col4\" class=\"data row7 col4\" >0.000000</td>\n",
       "      <td id=\"T_5bee3_row7_col5\" class=\"data row7 col5\" >0.000000</td>\n",
       "      <td id=\"T_5bee3_row7_col6\" class=\"data row7 col6\" >0.000000</td>\n",
       "      <td id=\"T_5bee3_row7_col7\" class=\"data row7 col7\" >3.000000</td>\n",
       "    </tr>\n",
       "    <tr>\n",
       "      <th id=\"T_5bee3_level0_row8\" class=\"row_heading level0 row8\" >BookingsCheckedIn</th>\n",
       "      <td id=\"T_5bee3_row8_col0\" class=\"data row8 col0\" >82515.000000</td>\n",
       "      <td id=\"T_5bee3_row8_col1\" class=\"data row8 col1\" >0.798776</td>\n",
       "      <td id=\"T_5bee3_row8_col2\" class=\"data row8 col2\" >0.696903</td>\n",
       "      <td id=\"T_5bee3_row8_col3\" class=\"data row8 col3\" >0.000000</td>\n",
       "      <td id=\"T_5bee3_row8_col4\" class=\"data row8 col4\" >1.000000</td>\n",
       "      <td id=\"T_5bee3_row8_col5\" class=\"data row8 col5\" >1.000000</td>\n",
       "      <td id=\"T_5bee3_row8_col6\" class=\"data row8 col6\" >1.000000</td>\n",
       "      <td id=\"T_5bee3_row8_col7\" class=\"data row8 col7\" >66.000000</td>\n",
       "    </tr>\n",
       "    <tr>\n",
       "      <th id=\"T_5bee3_level0_row9\" class=\"row_heading level0 row9\" >PersonsNights</th>\n",
       "      <td id=\"T_5bee3_row9_col0\" class=\"data row9 col0\" >82515.000000</td>\n",
       "      <td id=\"T_5bee3_row9_col1\" class=\"data row9 col1\" >4.670654</td>\n",
       "      <td id=\"T_5bee3_row9_col2\" class=\"data row9 col2\" >4.562870</td>\n",
       "      <td id=\"T_5bee3_row9_col3\" class=\"data row9 col3\" >0.000000</td>\n",
       "      <td id=\"T_5bee3_row9_col4\" class=\"data row9 col4\" >1.000000</td>\n",
       "      <td id=\"T_5bee3_row9_col5\" class=\"data row9 col5\" >4.000000</td>\n",
       "      <td id=\"T_5bee3_row9_col6\" class=\"data row9 col6\" >7.000000</td>\n",
       "      <td id=\"T_5bee3_row9_col7\" class=\"data row9 col7\" >116.000000</td>\n",
       "    </tr>\n",
       "    <tr>\n",
       "      <th id=\"T_5bee3_level0_row10\" class=\"row_heading level0 row10\" >RoomNights</th>\n",
       "      <td id=\"T_5bee3_row10_col0\" class=\"data row10 col0\" >82515.000000</td>\n",
       "      <td id=\"T_5bee3_row10_col1\" class=\"data row10 col1\" >2.370672</td>\n",
       "      <td id=\"T_5bee3_row10_col2\" class=\"data row10 col2\" >2.281944</td>\n",
       "      <td id=\"T_5bee3_row10_col3\" class=\"data row10 col3\" >0.000000</td>\n",
       "      <td id=\"T_5bee3_row10_col4\" class=\"data row10 col4\" >1.000000</td>\n",
       "      <td id=\"T_5bee3_row10_col5\" class=\"data row10 col5\" >2.000000</td>\n",
       "      <td id=\"T_5bee3_row10_col6\" class=\"data row10 col6\" >4.000000</td>\n",
       "      <td id=\"T_5bee3_row10_col7\" class=\"data row10 col7\" >185.000000</td>\n",
       "    </tr>\n",
       "    <tr>\n",
       "      <th id=\"T_5bee3_level0_row11\" class=\"row_heading level0 row11\" >DaysSinceLastStay</th>\n",
       "      <td id=\"T_5bee3_row11_col0\" class=\"data row11 col0\" >82515.000000</td>\n",
       "      <td id=\"T_5bee3_row11_col1\" class=\"data row11 col1\" >406.065782</td>\n",
       "      <td id=\"T_5bee3_row11_col2\" class=\"data row11 col2\" >346.446606</td>\n",
       "      <td id=\"T_5bee3_row11_col3\" class=\"data row11 col3\" >-1.000000</td>\n",
       "      <td id=\"T_5bee3_row11_col4\" class=\"data row11 col4\" >43.000000</td>\n",
       "      <td id=\"T_5bee3_row11_col5\" class=\"data row11 col5\" >379.000000</td>\n",
       "      <td id=\"T_5bee3_row11_col6\" class=\"data row11 col6\" >698.000000</td>\n",
       "      <td id=\"T_5bee3_row11_col7\" class=\"data row11 col7\" >1104.000000</td>\n",
       "    </tr>\n",
       "    <tr>\n",
       "      <th id=\"T_5bee3_level0_row12\" class=\"row_heading level0 row12\" >DaysSinceFirstStay</th>\n",
       "      <td id=\"T_5bee3_row12_col0\" class=\"data row12 col0\" >82515.000000</td>\n",
       "      <td id=\"T_5bee3_row12_col1\" class=\"data row12 col1\" >408.377216</td>\n",
       "      <td id=\"T_5bee3_row12_col2\" class=\"data row12 col2\" >347.191224</td>\n",
       "      <td id=\"T_5bee3_row12_col3\" class=\"data row12 col3\" >-1.000000</td>\n",
       "      <td id=\"T_5bee3_row12_col4\" class=\"data row12 col4\" >45.000000</td>\n",
       "      <td id=\"T_5bee3_row12_col5\" class=\"data row12 col5\" >388.000000</td>\n",
       "      <td id=\"T_5bee3_row12_col6\" class=\"data row12 col6\" >705.000000</td>\n",
       "      <td id=\"T_5bee3_row12_col7\" class=\"data row12 col7\" >1186.000000</td>\n",
       "    </tr>\n",
       "    <tr>\n",
       "      <th id=\"T_5bee3_level0_row13\" class=\"row_heading level0 row13\" >SRHighFloor</th>\n",
       "      <td id=\"T_5bee3_row13_col0\" class=\"data row13 col0\" >82515.000000</td>\n",
       "      <td id=\"T_5bee3_row13_col1\" class=\"data row13 col1\" >0.047519</td>\n",
       "      <td id=\"T_5bee3_row13_col2\" class=\"data row13 col2\" >0.212747</td>\n",
       "      <td id=\"T_5bee3_row13_col3\" class=\"data row13 col3\" >0.000000</td>\n",
       "      <td id=\"T_5bee3_row13_col4\" class=\"data row13 col4\" >0.000000</td>\n",
       "      <td id=\"T_5bee3_row13_col5\" class=\"data row13 col5\" >0.000000</td>\n",
       "      <td id=\"T_5bee3_row13_col6\" class=\"data row13 col6\" >0.000000</td>\n",
       "      <td id=\"T_5bee3_row13_col7\" class=\"data row13 col7\" >1.000000</td>\n",
       "    </tr>\n",
       "    <tr>\n",
       "      <th id=\"T_5bee3_level0_row14\" class=\"row_heading level0 row14\" >SRLowFloor</th>\n",
       "      <td id=\"T_5bee3_row14_col0\" class=\"data row14 col0\" >82515.000000</td>\n",
       "      <td id=\"T_5bee3_row14_col1\" class=\"data row14 col1\" >0.001430</td>\n",
       "      <td id=\"T_5bee3_row14_col2\" class=\"data row14 col2\" >0.037789</td>\n",
       "      <td id=\"T_5bee3_row14_col3\" class=\"data row14 col3\" >0.000000</td>\n",
       "      <td id=\"T_5bee3_row14_col4\" class=\"data row14 col4\" >0.000000</td>\n",
       "      <td id=\"T_5bee3_row14_col5\" class=\"data row14 col5\" >0.000000</td>\n",
       "      <td id=\"T_5bee3_row14_col6\" class=\"data row14 col6\" >0.000000</td>\n",
       "      <td id=\"T_5bee3_row14_col7\" class=\"data row14 col7\" >1.000000</td>\n",
       "    </tr>\n",
       "    <tr>\n",
       "      <th id=\"T_5bee3_level0_row15\" class=\"row_heading level0 row15\" >SRAccessibleRoom</th>\n",
       "      <td id=\"T_5bee3_row15_col0\" class=\"data row15 col0\" >82515.000000</td>\n",
       "      <td id=\"T_5bee3_row15_col1\" class=\"data row15 col1\" >0.000254</td>\n",
       "      <td id=\"T_5bee3_row15_col2\" class=\"data row15 col2\" >0.015951</td>\n",
       "      <td id=\"T_5bee3_row15_col3\" class=\"data row15 col3\" >0.000000</td>\n",
       "      <td id=\"T_5bee3_row15_col4\" class=\"data row15 col4\" >0.000000</td>\n",
       "      <td id=\"T_5bee3_row15_col5\" class=\"data row15 col5\" >0.000000</td>\n",
       "      <td id=\"T_5bee3_row15_col6\" class=\"data row15 col6\" >0.000000</td>\n",
       "      <td id=\"T_5bee3_row15_col7\" class=\"data row15 col7\" >1.000000</td>\n",
       "    </tr>\n",
       "    <tr>\n",
       "      <th id=\"T_5bee3_level0_row16\" class=\"row_heading level0 row16\" >SRMediumFloor</th>\n",
       "      <td id=\"T_5bee3_row16_col0\" class=\"data row16 col0\" >82515.000000</td>\n",
       "      <td id=\"T_5bee3_row16_col1\" class=\"data row16 col1\" >0.000885</td>\n",
       "      <td id=\"T_5bee3_row16_col2\" class=\"data row16 col2\" >0.029731</td>\n",
       "      <td id=\"T_5bee3_row16_col3\" class=\"data row16 col3\" >0.000000</td>\n",
       "      <td id=\"T_5bee3_row16_col4\" class=\"data row16 col4\" >0.000000</td>\n",
       "      <td id=\"T_5bee3_row16_col5\" class=\"data row16 col5\" >0.000000</td>\n",
       "      <td id=\"T_5bee3_row16_col6\" class=\"data row16 col6\" >0.000000</td>\n",
       "      <td id=\"T_5bee3_row16_col7\" class=\"data row16 col7\" >1.000000</td>\n",
       "    </tr>\n",
       "    <tr>\n",
       "      <th id=\"T_5bee3_level0_row17\" class=\"row_heading level0 row17\" >SRBathtub</th>\n",
       "      <td id=\"T_5bee3_row17_col0\" class=\"data row17 col0\" >82515.000000</td>\n",
       "      <td id=\"T_5bee3_row17_col1\" class=\"data row17 col1\" >0.002812</td>\n",
       "      <td id=\"T_5bee3_row17_col2\" class=\"data row17 col2\" >0.052950</td>\n",
       "      <td id=\"T_5bee3_row17_col3\" class=\"data row17 col3\" >0.000000</td>\n",
       "      <td id=\"T_5bee3_row17_col4\" class=\"data row17 col4\" >0.000000</td>\n",
       "      <td id=\"T_5bee3_row17_col5\" class=\"data row17 col5\" >0.000000</td>\n",
       "      <td id=\"T_5bee3_row17_col6\" class=\"data row17 col6\" >0.000000</td>\n",
       "      <td id=\"T_5bee3_row17_col7\" class=\"data row17 col7\" >1.000000</td>\n",
       "    </tr>\n",
       "    <tr>\n",
       "      <th id=\"T_5bee3_level0_row18\" class=\"row_heading level0 row18\" >SRShower</th>\n",
       "      <td id=\"T_5bee3_row18_col0\" class=\"data row18 col0\" >82515.000000</td>\n",
       "      <td id=\"T_5bee3_row18_col1\" class=\"data row18 col1\" >0.001733</td>\n",
       "      <td id=\"T_5bee3_row18_col2\" class=\"data row18 col2\" >0.041594</td>\n",
       "      <td id=\"T_5bee3_row18_col3\" class=\"data row18 col3\" >0.000000</td>\n",
       "      <td id=\"T_5bee3_row18_col4\" class=\"data row18 col4\" >0.000000</td>\n",
       "      <td id=\"T_5bee3_row18_col5\" class=\"data row18 col5\" >0.000000</td>\n",
       "      <td id=\"T_5bee3_row18_col6\" class=\"data row18 col6\" >0.000000</td>\n",
       "      <td id=\"T_5bee3_row18_col7\" class=\"data row18 col7\" >1.000000</td>\n",
       "    </tr>\n",
       "    <tr>\n",
       "      <th id=\"T_5bee3_level0_row19\" class=\"row_heading level0 row19\" >SRCrib</th>\n",
       "      <td id=\"T_5bee3_row19_col0\" class=\"data row19 col0\" >82515.000000</td>\n",
       "      <td id=\"T_5bee3_row19_col1\" class=\"data row19 col1\" >0.012531</td>\n",
       "      <td id=\"T_5bee3_row19_col2\" class=\"data row19 col2\" >0.111239</td>\n",
       "      <td id=\"T_5bee3_row19_col3\" class=\"data row19 col3\" >0.000000</td>\n",
       "      <td id=\"T_5bee3_row19_col4\" class=\"data row19 col4\" >0.000000</td>\n",
       "      <td id=\"T_5bee3_row19_col5\" class=\"data row19 col5\" >0.000000</td>\n",
       "      <td id=\"T_5bee3_row19_col6\" class=\"data row19 col6\" >0.000000</td>\n",
       "      <td id=\"T_5bee3_row19_col7\" class=\"data row19 col7\" >1.000000</td>\n",
       "    </tr>\n",
       "    <tr>\n",
       "      <th id=\"T_5bee3_level0_row20\" class=\"row_heading level0 row20\" >SRKingSizeBed</th>\n",
       "      <td id=\"T_5bee3_row20_col0\" class=\"data row20 col0\" >82515.000000</td>\n",
       "      <td id=\"T_5bee3_row20_col1\" class=\"data row20 col1\" >0.351548</td>\n",
       "      <td id=\"T_5bee3_row20_col2\" class=\"data row20 col2\" >0.477457</td>\n",
       "      <td id=\"T_5bee3_row20_col3\" class=\"data row20 col3\" >0.000000</td>\n",
       "      <td id=\"T_5bee3_row20_col4\" class=\"data row20 col4\" >0.000000</td>\n",
       "      <td id=\"T_5bee3_row20_col5\" class=\"data row20 col5\" >0.000000</td>\n",
       "      <td id=\"T_5bee3_row20_col6\" class=\"data row20 col6\" >1.000000</td>\n",
       "      <td id=\"T_5bee3_row20_col7\" class=\"data row20 col7\" >1.000000</td>\n",
       "    </tr>\n",
       "    <tr>\n",
       "      <th id=\"T_5bee3_level0_row21\" class=\"row_heading level0 row21\" >SRTwinBed</th>\n",
       "      <td id=\"T_5bee3_row21_col0\" class=\"data row21 col0\" >82515.000000</td>\n",
       "      <td id=\"T_5bee3_row21_col1\" class=\"data row21 col1\" >0.142847</td>\n",
       "      <td id=\"T_5bee3_row21_col2\" class=\"data row21 col2\" >0.349919</td>\n",
       "      <td id=\"T_5bee3_row21_col3\" class=\"data row21 col3\" >0.000000</td>\n",
       "      <td id=\"T_5bee3_row21_col4\" class=\"data row21 col4\" >0.000000</td>\n",
       "      <td id=\"T_5bee3_row21_col5\" class=\"data row21 col5\" >0.000000</td>\n",
       "      <td id=\"T_5bee3_row21_col6\" class=\"data row21 col6\" >0.000000</td>\n",
       "      <td id=\"T_5bee3_row21_col7\" class=\"data row21 col7\" >1.000000</td>\n",
       "    </tr>\n",
       "    <tr>\n",
       "      <th id=\"T_5bee3_level0_row22\" class=\"row_heading level0 row22\" >SRNearElevator</th>\n",
       "      <td id=\"T_5bee3_row22_col0\" class=\"data row22 col0\" >82515.000000</td>\n",
       "      <td id=\"T_5bee3_row22_col1\" class=\"data row22 col1\" >0.000303</td>\n",
       "      <td id=\"T_5bee3_row22_col2\" class=\"data row22 col2\" >0.017404</td>\n",
       "      <td id=\"T_5bee3_row22_col3\" class=\"data row22 col3\" >0.000000</td>\n",
       "      <td id=\"T_5bee3_row22_col4\" class=\"data row22 col4\" >0.000000</td>\n",
       "      <td id=\"T_5bee3_row22_col5\" class=\"data row22 col5\" >0.000000</td>\n",
       "      <td id=\"T_5bee3_row22_col6\" class=\"data row22 col6\" >0.000000</td>\n",
       "      <td id=\"T_5bee3_row22_col7\" class=\"data row22 col7\" >1.000000</td>\n",
       "    </tr>\n",
       "    <tr>\n",
       "      <th id=\"T_5bee3_level0_row23\" class=\"row_heading level0 row23\" >SRAwayFromElevator</th>\n",
       "      <td id=\"T_5bee3_row23_col0\" class=\"data row23 col0\" >82515.000000</td>\n",
       "      <td id=\"T_5bee3_row23_col1\" class=\"data row23 col1\" >0.003551</td>\n",
       "      <td id=\"T_5bee3_row23_col2\" class=\"data row23 col2\" >0.059484</td>\n",
       "      <td id=\"T_5bee3_row23_col3\" class=\"data row23 col3\" >0.000000</td>\n",
       "      <td id=\"T_5bee3_row23_col4\" class=\"data row23 col4\" >0.000000</td>\n",
       "      <td id=\"T_5bee3_row23_col5\" class=\"data row23 col5\" >0.000000</td>\n",
       "      <td id=\"T_5bee3_row23_col6\" class=\"data row23 col6\" >0.000000</td>\n",
       "      <td id=\"T_5bee3_row23_col7\" class=\"data row23 col7\" >1.000000</td>\n",
       "    </tr>\n",
       "    <tr>\n",
       "      <th id=\"T_5bee3_level0_row24\" class=\"row_heading level0 row24\" >SRNoAlcoholInMiniBar</th>\n",
       "      <td id=\"T_5bee3_row24_col0\" class=\"data row24 col0\" >82515.000000</td>\n",
       "      <td id=\"T_5bee3_row24_col1\" class=\"data row24 col1\" >0.000121</td>\n",
       "      <td id=\"T_5bee3_row24_col2\" class=\"data row24 col2\" >0.011008</td>\n",
       "      <td id=\"T_5bee3_row24_col3\" class=\"data row24 col3\" >0.000000</td>\n",
       "      <td id=\"T_5bee3_row24_col4\" class=\"data row24 col4\" >0.000000</td>\n",
       "      <td id=\"T_5bee3_row24_col5\" class=\"data row24 col5\" >0.000000</td>\n",
       "      <td id=\"T_5bee3_row24_col6\" class=\"data row24 col6\" >0.000000</td>\n",
       "      <td id=\"T_5bee3_row24_col7\" class=\"data row24 col7\" >1.000000</td>\n",
       "    </tr>\n",
       "    <tr>\n",
       "      <th id=\"T_5bee3_level0_row25\" class=\"row_heading level0 row25\" >SRQuietRoom</th>\n",
       "      <td id=\"T_5bee3_row25_col0\" class=\"data row25 col0\" >82515.000000</td>\n",
       "      <td id=\"T_5bee3_row25_col1\" class=\"data row25 col1\" >0.088093</td>\n",
       "      <td id=\"T_5bee3_row25_col2\" class=\"data row25 col2\" >0.283432</td>\n",
       "      <td id=\"T_5bee3_row25_col3\" class=\"data row25 col3\" >0.000000</td>\n",
       "      <td id=\"T_5bee3_row25_col4\" class=\"data row25 col4\" >0.000000</td>\n",
       "      <td id=\"T_5bee3_row25_col5\" class=\"data row25 col5\" >0.000000</td>\n",
       "      <td id=\"T_5bee3_row25_col6\" class=\"data row25 col6\" >0.000000</td>\n",
       "      <td id=\"T_5bee3_row25_col7\" class=\"data row25 col7\" >1.000000</td>\n",
       "    </tr>\n",
       "  </tbody>\n",
       "</table>\n"
      ],
      "text/plain": [
       "<pandas.io.formats.style.Styler at 0x1a464ec1720>"
      ]
     },
     "execution_count": 13,
     "metadata": {},
     "output_type": "execute_result"
    }
   ],
   "source": [
    "hotel.describe().T.style.set_properties(**{'background-color': '#282120','color': 'white','border-color': 'white'})"
   ]
  },
  {
   "cell_type": "markdown",
   "id": "5abbb618",
   "metadata": {},
   "source": [
    "As we can see there are no null values now in dataset.\n",
    "\n",
    "feature \"AverageLeadTime\" have the min value is -1, so we will remove these  negative values by checking their contribution."
   ]
  },
  {
   "cell_type": "code",
   "execution_count": 14,
   "id": "a1de845d",
   "metadata": {},
   "outputs": [
    {
     "data": {
      "text/plain": [
       "count    82505.000000\n",
       "mean        66.580753\n",
       "std         87.925649\n",
       "min          0.000000\n",
       "25%          0.000000\n",
       "50%         30.000000\n",
       "75%        104.000000\n",
       "max        588.000000\n",
       "Name: AverageLeadTime, dtype: float64"
      ]
     },
     "execution_count": 14,
     "metadata": {},
     "output_type": "execute_result"
    }
   ],
   "source": [
    "hotel =hotel[hotel['AverageLeadTime']>=0]\n",
    "hotel['AverageLeadTime'].describe()"
   ]
  },
  {
   "cell_type": "markdown",
   "id": "77e50815",
   "metadata": {},
   "source": [
    "As an result there are only 10 values are removed from 'AverageLeadTime' so it will not make big effect on our model"
   ]
  },
  {
   "cell_type": "markdown",
   "id": "a4b08e29",
   "metadata": {},
   "source": [
    "### Remove less important column"
   ]
  },
  {
   "cell_type": "code",
   "execution_count": 15,
   "id": "3b5dd483",
   "metadata": {},
   "outputs": [],
   "source": [
    "hotel.drop('ID',axis=1, inplace = True)"
   ]
  },
  {
   "cell_type": "code",
   "execution_count": 16,
   "id": "d0b41564",
   "metadata": {},
   "outputs": [
    {
     "data": {
      "text/html": [
       "<div>\n",
       "<style scoped>\n",
       "    .dataframe tbody tr th:only-of-type {\n",
       "        vertical-align: middle;\n",
       "    }\n",
       "\n",
       "    .dataframe tbody tr th {\n",
       "        vertical-align: top;\n",
       "    }\n",
       "\n",
       "    .dataframe thead th {\n",
       "        text-align: right;\n",
       "    }\n",
       "</style>\n",
       "<table border=\"1\" class=\"dataframe\">\n",
       "  <thead>\n",
       "    <tr style=\"text-align: right;\">\n",
       "      <th></th>\n",
       "      <th>Nationality</th>\n",
       "      <th>Age</th>\n",
       "      <th>DaysSinceCreation</th>\n",
       "      <th>AverageLeadTime</th>\n",
       "      <th>LodgingRevenue</th>\n",
       "      <th>OtherRevenue</th>\n",
       "      <th>BookingsCanceled</th>\n",
       "      <th>BookingsNoShowed</th>\n",
       "      <th>BookingsCheckedIn</th>\n",
       "      <th>PersonsNights</th>\n",
       "      <th>...</th>\n",
       "      <th>SRMediumFloor</th>\n",
       "      <th>SRBathtub</th>\n",
       "      <th>SRShower</th>\n",
       "      <th>SRCrib</th>\n",
       "      <th>SRKingSizeBed</th>\n",
       "      <th>SRTwinBed</th>\n",
       "      <th>SRNearElevator</th>\n",
       "      <th>SRAwayFromElevator</th>\n",
       "      <th>SRNoAlcoholInMiniBar</th>\n",
       "      <th>SRQuietRoom</th>\n",
       "    </tr>\n",
       "  </thead>\n",
       "  <tbody>\n",
       "    <tr>\n",
       "      <th>0</th>\n",
       "      <td>PRT</td>\n",
       "      <td>51.000000</td>\n",
       "      <td>150</td>\n",
       "      <td>45</td>\n",
       "      <td>371.0</td>\n",
       "      <td>105.3</td>\n",
       "      <td>1</td>\n",
       "      <td>0</td>\n",
       "      <td>3</td>\n",
       "      <td>8</td>\n",
       "      <td>...</td>\n",
       "      <td>0</td>\n",
       "      <td>0</td>\n",
       "      <td>0</td>\n",
       "      <td>0</td>\n",
       "      <td>0</td>\n",
       "      <td>0</td>\n",
       "      <td>0</td>\n",
       "      <td>0</td>\n",
       "      <td>0</td>\n",
       "      <td>0</td>\n",
       "    </tr>\n",
       "    <tr>\n",
       "      <th>1</th>\n",
       "      <td>PRT</td>\n",
       "      <td>45.468554</td>\n",
       "      <td>1095</td>\n",
       "      <td>61</td>\n",
       "      <td>280.0</td>\n",
       "      <td>53.0</td>\n",
       "      <td>0</td>\n",
       "      <td>0</td>\n",
       "      <td>1</td>\n",
       "      <td>10</td>\n",
       "      <td>...</td>\n",
       "      <td>0</td>\n",
       "      <td>0</td>\n",
       "      <td>0</td>\n",
       "      <td>0</td>\n",
       "      <td>0</td>\n",
       "      <td>0</td>\n",
       "      <td>0</td>\n",
       "      <td>0</td>\n",
       "      <td>0</td>\n",
       "      <td>0</td>\n",
       "    </tr>\n",
       "  </tbody>\n",
       "</table>\n",
       "<p>2 rows × 28 columns</p>\n",
       "</div>"
      ],
      "text/plain": [
       "  Nationality        Age  DaysSinceCreation  AverageLeadTime  LodgingRevenue  \\\n",
       "0         PRT  51.000000                150               45           371.0   \n",
       "1         PRT  45.468554               1095               61           280.0   \n",
       "\n",
       "   OtherRevenue  BookingsCanceled  BookingsNoShowed  BookingsCheckedIn  \\\n",
       "0         105.3                 1                 0                  3   \n",
       "1          53.0                 0                 0                  1   \n",
       "\n",
       "   PersonsNights  ...  SRMediumFloor  SRBathtub  SRShower SRCrib  \\\n",
       "0              8  ...              0          0         0      0   \n",
       "1             10  ...              0          0         0      0   \n",
       "\n",
       "  SRKingSizeBed  SRTwinBed  SRNearElevator  SRAwayFromElevator  \\\n",
       "0             0          0               0                   0   \n",
       "1             0          0               0                   0   \n",
       "\n",
       "   SRNoAlcoholInMiniBar  SRQuietRoom  \n",
       "0                     0            0  \n",
       "1                     0            0  \n",
       "\n",
       "[2 rows x 28 columns]"
      ]
     },
     "execution_count": 16,
     "metadata": {},
     "output_type": "execute_result"
    }
   ],
   "source": [
    "hotel.head(2)"
   ]
  },
  {
   "cell_type": "markdown",
   "id": "baf74397",
   "metadata": {},
   "source": [
    "## Lets see Distribution of Nationalities"
   ]
  },
  {
   "cell_type": "code",
   "execution_count": 17,
   "id": "38e376e1",
   "metadata": {},
   "outputs": [
    {
     "data": {
      "text/plain": [
       "FRA    14.902127\n",
       "PRT    13.783407\n",
       "DEU    12.307133\n",
       "GBR    10.426035\n",
       "ESP     5.891764\n",
       "         ...    \n",
       "GNQ     0.001212\n",
       "GIN     0.001212\n",
       "SWZ     0.001212\n",
       "SOM     0.001212\n",
       "NPL     0.001212\n",
       "Name: Nationality, Length: 187, dtype: float64"
      ]
     },
     "execution_count": 17,
     "metadata": {},
     "output_type": "execute_result"
    }
   ],
   "source": [
    "hotel['Nationality'].value_counts()*100/len(hotel)"
   ]
  },
  {
   "cell_type": "markdown",
   "id": "49de1efe",
   "metadata": {},
   "source": [
    "There are about 187 different nationalities, when we get to the encoding step, this will increase the dimensionality.\n",
    "\n",
    "As we can see above first 10-15 nations covers the almost 98% of data so we will keep only TOP 15 rest we will remove."
   ]
  },
  {
   "cell_type": "code",
   "execution_count": 18,
   "id": "2b010162",
   "metadata": {
    "scrolled": true
   },
   "outputs": [
    {
     "data": {
      "image/png": "[encoded data removed]",
      "text/plain": [
       "<Figure size 1080x576 with 1 Axes>"
      ]
     },
     "metadata": {},
     "output_type": "display_data"
    }
   ],
   "source": [
    "top_16_nation = hotel['Nationality'].value_counts().head(15)\n",
    "colors = sns.color_palette('bright')\n",
    "plt.figure(figsize=(15,8))\n",
    "plt.pie(top_16_nation, labels =top_16_nation.keys() , colors = colors, autopct='%.0f%%')\n",
    "\n",
    "plt.title('Distribution of Top 16 Nationalities',fontsize=0,color='Black')\n",
    "\n",
    "plt.show()"
   ]
  },
  {
   "cell_type": "code",
   "execution_count": 19,
   "id": "27978638",
   "metadata": {},
   "outputs": [
    {
     "name": "stdout",
     "output_type": "stream",
     "text": [
      "The number of nationalities after preprocessing is 16\n"
     ]
    }
   ],
   "source": [
    "# Remove unimportant nationalities \n",
    "names = hotel.groupby('Nationality').count().sort_values(by = 'Age', ascending = False)\n",
    "top_15_nationalities = list(names[names['Age'] < 1000]['Age'].keys())\n",
    "\n",
    "for i in top_15_nationalities:\n",
    "    hotel['Nationality'] = hotel['Nationality'].str.replace(i,'')\n",
    "    \n",
    "print('The number of nationalities after preprocessing is %s' %hotel['Nationality'].nunique())"
   ]
  },
  {
   "cell_type": "code",
   "execution_count": 20,
   "id": "1445353d",
   "metadata": {},
   "outputs": [
    {
     "data": {
      "text/plain": [
       "array(['PRT', 'DEU', 'FRA', '', 'IRL', 'ESP', 'BEL', 'NLD', 'AUT', 'ITA',\n",
       "       'USA', 'CHE', 'GBR', 'BRA', 'CAN', 'SWE'], dtype=object)"
      ]
     },
     "execution_count": 20,
     "metadata": {},
     "output_type": "execute_result"
    }
   ],
   "source": [
    "hotel['Nationality'].unique()"
   ]
  },
  {
   "cell_type": "markdown",
   "id": "e945794c",
   "metadata": {},
   "source": [
    "Now we removed successfully all the nationalities which are contribution less than 2% ,so before 187 Nations were available now is 16 Nations are there."
   ]
  },
  {
   "cell_type": "markdown",
   "id": "2ddf5606",
   "metadata": {},
   "source": [
    "### DistributionChannel & MarketSegment(These two also categorical data)"
   ]
  },
  {
   "cell_type": "code",
   "execution_count": 21,
   "id": "3ba6fdf2",
   "metadata": {},
   "outputs": [
    {
     "data": {
      "image/png": "[encoded data removed]",
      "text/plain": [
       "<Figure size 720x504 with 1 Axes>"
      ]
     },
     "metadata": {},
     "output_type": "display_data"
    }
   ],
   "source": [
    "data = hotel['DistributionChannel'].value_counts()*100 /len(hotel)\n",
    "colors = sns.color_palette('Greens')\n",
    "plt.figure(figsize=(10,7))\n",
    "plt.pie(data, labels =data.keys() , colors = colors, autopct='%.0f%%')\n",
    "\n",
    "plt.title('Booking % per Distribution Channel',fontsize=20,color='Black')\n",
    "\n",
    "plt.show()"
   ]
  },
  {
   "cell_type": "markdown",
   "id": "d8e02528",
   "metadata": {},
   "source": [
    "As shown in above pie chart, 82% booking done by \"Travel Agent/Operator\"."
   ]
  },
  {
   "cell_type": "code",
   "execution_count": 22,
   "id": "0f1998f2",
   "metadata": {},
   "outputs": [
    {
     "data": {
      "text/plain": [
       "Other                  57.464396\n",
       "TravelAgentOperator    13.907036\n",
       "Direct                 13.653718\n",
       "Groups                 11.507181\n",
       "Corporate               2.586510\n",
       "Complementary           0.586631\n",
       "Aviation                0.294528\n",
       "Name: MarketSegment, dtype: float64"
      ]
     },
     "execution_count": 22,
     "metadata": {},
     "output_type": "execute_result"
    }
   ],
   "source": [
    "hotel['MarketSegment'].value_counts()*100 /len(hotel)"
   ]
  },
  {
   "cell_type": "markdown",
   "id": "057b1e5c",
   "metadata": {},
   "source": [
    "In the MarketSegment total 7 catagories are available."
   ]
  },
  {
   "cell_type": "code",
   "execution_count": 23,
   "id": "3522a471",
   "metadata": {},
   "outputs": [],
   "source": [
    "# Encoding catagorical data into numerical data by using \"One Hot Encoding\"\n",
    "from sklearn.preprocessing import OneHotEncoder\n",
    "from sklearn.compose import make_column_transformer\n",
    "transformer = make_column_transformer(\n",
    "    (OneHotEncoder(sparse=False), ['MarketSegment', 'DistributionChannel']),\n",
    "    remainder='drop')\n",
    "\n",
    "transformed = transformer.fit_transform(hotel)\n",
    "transformed_hotel = pd.DataFrame(transformed, columns=transformer.get_feature_names_out())\n",
    "\n",
    "# Concat the two tables\n",
    "transformed_hotel.reset_index(drop=True, inplace=True)\n",
    "hotel.reset_index(drop=True, inplace=True)\n",
    "hotel_2 = pd.concat([transformed_hotel, hotel], axis=1)"
   ]
  },
  {
   "cell_type": "code",
   "execution_count": 24,
   "id": "2a736fcf",
   "metadata": {},
   "outputs": [
    {
     "name": "stdout",
     "output_type": "stream",
     "text": [
      "The shape after encoding: (82505, 37)\n"
     ]
    }
   ],
   "source": [
    "# Remove old columns\n",
    "hotel_2.drop(['MarketSegment', 'DistributionChannel'], axis = 1, inplace = True)\n",
    "print('The shape after encoding: {}'.format(hotel_2.shape))"
   ]
  },
  {
   "cell_type": "markdown",
   "id": "340806eb",
   "metadata": {},
   "source": [
    "# Checking for Balancing of data"
   ]
  },
  {
   "cell_type": "code",
   "execution_count": 25,
   "id": "cb2fb675",
   "metadata": {},
   "outputs": [
    {
     "data": {
      "text/plain": [
       "1     61706\n",
       "0     19350\n",
       "2      1141\n",
       "3       132\n",
       "4        59\n",
       "5        20\n",
       "6        20\n",
       "7        16\n",
       "8        10\n",
       "9         9\n",
       "10        7\n",
       "11        6\n",
       "12        4\n",
       "13        4\n",
       "29        3\n",
       "15        3\n",
       "23        2\n",
       "14        2\n",
       "25        1\n",
       "17        1\n",
       "66        1\n",
       "26        1\n",
       "57        1\n",
       "40        1\n",
       "18        1\n",
       "24        1\n",
       "19        1\n",
       "20        1\n",
       "34        1\n",
       "Name: BookingsCheckedIn, dtype: int64"
      ]
     },
     "execution_count": 25,
     "metadata": {},
     "output_type": "execute_result"
    }
   ],
   "source": [
    "hotel['BookingsCheckedIn'].value_counts() "
   ]
  },
  {
   "cell_type": "markdown",
   "id": "acfdab0d",
   "metadata": {},
   "source": [
    "According to our problem, we need to create the model \"which predict customer will checkedin or not\", so our label is \"BookingsCheckedIn\",\n",
    "\n",
    "in which 0--Customers booked room but not did checkedin\n",
    "\n",
    "1---Customers booked room also checkedin(came for hotel stay)\n",
    "\n",
    "2--customers checkedin 2 times,3--customers checkedin 3 times ....so on 34--customer repeatedly checkeding and came 34th tme,but only 1 customer is there.\n",
    "\n",
    "So according to my understanding this is an multiclass classification problem,but because of unavailibilty of data or data is not evenly distributed to each class & based on our and problem main motive we will, convert multiclass to binary classification. by converting all checking greter than 1=1 class.\n",
    "\n",
    "so final we will have only two classes 1----checkedin 0---not checkedin."
   ]
  },
  {
   "cell_type": "code",
   "execution_count": 26,
   "id": "548ddcc3",
   "metadata": {},
   "outputs": [
    {
     "data": {
      "text/plain": [
       "1    63155\n",
       "0    19350\n",
       "Name: BookingsCheckedIn, dtype: int64"
      ]
     },
     "execution_count": 26,
     "metadata": {},
     "output_type": "execute_result"
    }
   ],
   "source": [
    "hotel_2.loc[hotel_2['BookingsCheckedIn']>1,\"BookingsCheckedIn\"]=1\n",
    "hotel_2['BookingsCheckedIn'].value_counts()"
   ]
  },
  {
   "cell_type": "code",
   "execution_count": 27,
   "id": "b3fb8623",
   "metadata": {},
   "outputs": [
    {
     "data": {
      "image/png": "[encoded data removed]",
      "text/plain": [
       "<Figure size 432x288 with 1 Axes>"
      ]
     },
     "metadata": {
      "needs_background": "light"
     },
     "output_type": "display_data"
    }
   ],
   "source": [
    "plt.title('Customer Checkedin status',fontsize=20,color='Black')\n",
    "sns.countplot(x='BookingsCheckedIn',data=hotel_2)\n",
    "plt.show()"
   ]
  },
  {
   "cell_type": "markdown",
   "id": "7932bba1",
   "metadata": {},
   "source": [
    "Because our data is quite imbalaced ,minority class is 0-not checked in, so it can affect to our model performance,\n",
    "to overcome with this problem we can use \"SMOTE\" technique .\n",
    "\n",
    "SMOTE--Synthetic Minority Oversampling Technique, whcih will generate artifical samples by using k-nearest neighbor for the minority class."
   ]
  },
  {
   "cell_type": "code",
   "execution_count": 28,
   "id": "348abf8f",
   "metadata": {},
   "outputs": [],
   "source": [
    "hotel_2.drop('Nationality',axis=1, inplace = True)"
   ]
  },
  {
   "cell_type": "markdown",
   "id": "c811eb6c",
   "metadata": {},
   "source": [
    "# Correlation B/W Independent & Dependent Variable"
   ]
  },
  {
   "cell_type": "code",
   "execution_count": 29,
   "id": "887b89eb",
   "metadata": {},
   "outputs": [
    {
     "data": {
      "text/html": [
       "<div>\n",
       "<style scoped>\n",
       "    .dataframe tbody tr th:only-of-type {\n",
       "        vertical-align: middle;\n",
       "    }\n",
       "\n",
       "    .dataframe tbody tr th {\n",
       "        vertical-align: top;\n",
       "    }\n",
       "\n",
       "    .dataframe thead th {\n",
       "        text-align: right;\n",
       "    }\n",
       "</style>\n",
       "<table border=\"1\" class=\"dataframe\">\n",
       "  <thead>\n",
       "    <tr style=\"text-align: right;\">\n",
       "      <th></th>\n",
       "      <th>onehotencoder__MarketSegment_Aviation</th>\n",
       "      <th>onehotencoder__MarketSegment_Complementary</th>\n",
       "      <th>onehotencoder__MarketSegment_Corporate</th>\n",
       "      <th>onehotencoder__MarketSegment_Direct</th>\n",
       "      <th>onehotencoder__MarketSegment_Groups</th>\n",
       "      <th>onehotencoder__MarketSegment_Other</th>\n",
       "      <th>onehotencoder__MarketSegment_TravelAgentOperator</th>\n",
       "      <th>onehotencoder__DistributionChannel_Corporate</th>\n",
       "      <th>onehotencoder__DistributionChannel_Direct</th>\n",
       "      <th>onehotencoder__DistributionChannel_ElectronicDistribution</th>\n",
       "      <th>...</th>\n",
       "      <th>SRMediumFloor</th>\n",
       "      <th>SRBathtub</th>\n",
       "      <th>SRShower</th>\n",
       "      <th>SRCrib</th>\n",
       "      <th>SRKingSizeBed</th>\n",
       "      <th>SRTwinBed</th>\n",
       "      <th>SRNearElevator</th>\n",
       "      <th>SRAwayFromElevator</th>\n",
       "      <th>SRNoAlcoholInMiniBar</th>\n",
       "      <th>SRQuietRoom</th>\n",
       "    </tr>\n",
       "  </thead>\n",
       "  <tbody>\n",
       "    <tr>\n",
       "      <th>onehotencoder__MarketSegment_Aviation</th>\n",
       "      <td>1.00</td>\n",
       "      <td>-0.00</td>\n",
       "      <td>-0.01</td>\n",
       "      <td>-0.02</td>\n",
       "      <td>-0.02</td>\n",
       "      <td>-0.06</td>\n",
       "      <td>-0.02</td>\n",
       "      <td>0.30</td>\n",
       "      <td>-0.02</td>\n",
       "      <td>-0.00</td>\n",
       "      <td>...</td>\n",
       "      <td>-0.00</td>\n",
       "      <td>-0.00</td>\n",
       "      <td>-0.00</td>\n",
       "      <td>-0.01</td>\n",
       "      <td>-0.03</td>\n",
       "      <td>-0.02</td>\n",
       "      <td>-0.00</td>\n",
       "      <td>-0.00</td>\n",
       "      <td>-0.00</td>\n",
       "      <td>-0.02</td>\n",
       "    </tr>\n",
       "    <tr>\n",
       "      <th>onehotencoder__MarketSegment_Complementary</th>\n",
       "      <td>-0.00</td>\n",
       "      <td>1.00</td>\n",
       "      <td>-0.01</td>\n",
       "      <td>-0.03</td>\n",
       "      <td>-0.03</td>\n",
       "      <td>-0.09</td>\n",
       "      <td>-0.03</td>\n",
       "      <td>-0.00</td>\n",
       "      <td>0.14</td>\n",
       "      <td>-0.01</td>\n",
       "      <td>...</td>\n",
       "      <td>0.00</td>\n",
       "      <td>0.00</td>\n",
       "      <td>-0.00</td>\n",
       "      <td>0.02</td>\n",
       "      <td>-0.00</td>\n",
       "      <td>-0.01</td>\n",
       "      <td>-0.00</td>\n",
       "      <td>-0.00</td>\n",
       "      <td>-0.00</td>\n",
       "      <td>-0.02</td>\n",
       "    </tr>\n",
       "    <tr>\n",
       "      <th>onehotencoder__MarketSegment_Corporate</th>\n",
       "      <td>-0.01</td>\n",
       "      <td>-0.01</td>\n",
       "      <td>1.00</td>\n",
       "      <td>-0.06</td>\n",
       "      <td>-0.06</td>\n",
       "      <td>-0.19</td>\n",
       "      <td>-0.07</td>\n",
       "      <td>0.71</td>\n",
       "      <td>-0.06</td>\n",
       "      <td>-0.01</td>\n",
       "      <td>...</td>\n",
       "      <td>0.02</td>\n",
       "      <td>-0.01</td>\n",
       "      <td>-0.01</td>\n",
       "      <td>-0.01</td>\n",
       "      <td>-0.07</td>\n",
       "      <td>-0.03</td>\n",
       "      <td>-0.00</td>\n",
       "      <td>-0.00</td>\n",
       "      <td>-0.00</td>\n",
       "      <td>-0.05</td>\n",
       "    </tr>\n",
       "    <tr>\n",
       "      <th>onehotencoder__MarketSegment_Direct</th>\n",
       "      <td>-0.02</td>\n",
       "      <td>-0.03</td>\n",
       "      <td>-0.06</td>\n",
       "      <td>1.00</td>\n",
       "      <td>-0.14</td>\n",
       "      <td>-0.46</td>\n",
       "      <td>-0.16</td>\n",
       "      <td>-0.07</td>\n",
       "      <td>0.95</td>\n",
       "      <td>-0.03</td>\n",
       "      <td>...</td>\n",
       "      <td>0.01</td>\n",
       "      <td>0.03</td>\n",
       "      <td>0.03</td>\n",
       "      <td>0.05</td>\n",
       "      <td>-0.13</td>\n",
       "      <td>-0.06</td>\n",
       "      <td>0.00</td>\n",
       "      <td>0.02</td>\n",
       "      <td>-0.00</td>\n",
       "      <td>-0.06</td>\n",
       "    </tr>\n",
       "    <tr>\n",
       "      <th>onehotencoder__MarketSegment_Groups</th>\n",
       "      <td>-0.02</td>\n",
       "      <td>-0.03</td>\n",
       "      <td>-0.06</td>\n",
       "      <td>-0.14</td>\n",
       "      <td>1.00</td>\n",
       "      <td>-0.42</td>\n",
       "      <td>-0.14</td>\n",
       "      <td>0.04</td>\n",
       "      <td>-0.13</td>\n",
       "      <td>-0.03</td>\n",
       "      <td>...</td>\n",
       "      <td>-0.01</td>\n",
       "      <td>-0.02</td>\n",
       "      <td>-0.02</td>\n",
       "      <td>-0.03</td>\n",
       "      <td>-0.11</td>\n",
       "      <td>0.08</td>\n",
       "      <td>-0.00</td>\n",
       "      <td>-0.02</td>\n",
       "      <td>-0.00</td>\n",
       "      <td>-0.11</td>\n",
       "    </tr>\n",
       "    <tr>\n",
       "      <th>onehotencoder__MarketSegment_Other</th>\n",
       "      <td>-0.06</td>\n",
       "      <td>-0.09</td>\n",
       "      <td>-0.19</td>\n",
       "      <td>-0.46</td>\n",
       "      <td>-0.42</td>\n",
       "      <td>1.00</td>\n",
       "      <td>-0.47</td>\n",
       "      <td>-0.20</td>\n",
       "      <td>-0.47</td>\n",
       "      <td>0.06</td>\n",
       "      <td>...</td>\n",
       "      <td>0.00</td>\n",
       "      <td>-0.00</td>\n",
       "      <td>-0.00</td>\n",
       "      <td>-0.01</td>\n",
       "      <td>0.34</td>\n",
       "      <td>0.03</td>\n",
       "      <td>0.00</td>\n",
       "      <td>0.01</td>\n",
       "      <td>0.01</td>\n",
       "      <td>0.21</td>\n",
       "    </tr>\n",
       "    <tr>\n",
       "      <th>onehotencoder__MarketSegment_TravelAgentOperator</th>\n",
       "      <td>-0.02</td>\n",
       "      <td>-0.03</td>\n",
       "      <td>-0.07</td>\n",
       "      <td>-0.16</td>\n",
       "      <td>-0.14</td>\n",
       "      <td>-0.47</td>\n",
       "      <td>1.00</td>\n",
       "      <td>-0.05</td>\n",
       "      <td>-0.16</td>\n",
       "      <td>-0.03</td>\n",
       "      <td>...</td>\n",
       "      <td>-0.01</td>\n",
       "      <td>-0.01</td>\n",
       "      <td>-0.01</td>\n",
       "      <td>-0.01</td>\n",
       "      <td>-0.21</td>\n",
       "      <td>-0.04</td>\n",
       "      <td>0.00</td>\n",
       "      <td>-0.01</td>\n",
       "      <td>-0.00</td>\n",
       "      <td>-0.11</td>\n",
       "    </tr>\n",
       "    <tr>\n",
       "      <th>onehotencoder__DistributionChannel_Corporate</th>\n",
       "      <td>0.30</td>\n",
       "      <td>-0.00</td>\n",
       "      <td>0.71</td>\n",
       "      <td>-0.07</td>\n",
       "      <td>0.04</td>\n",
       "      <td>-0.20</td>\n",
       "      <td>-0.05</td>\n",
       "      <td>1.00</td>\n",
       "      <td>-0.07</td>\n",
       "      <td>-0.01</td>\n",
       "      <td>...</td>\n",
       "      <td>0.02</td>\n",
       "      <td>-0.01</td>\n",
       "      <td>-0.00</td>\n",
       "      <td>-0.01</td>\n",
       "      <td>-0.08</td>\n",
       "      <td>-0.03</td>\n",
       "      <td>-0.00</td>\n",
       "      <td>-0.00</td>\n",
       "      <td>-0.00</td>\n",
       "      <td>-0.05</td>\n",
       "    </tr>\n",
       "    <tr>\n",
       "      <th>onehotencoder__DistributionChannel_Direct</th>\n",
       "      <td>-0.02</td>\n",
       "      <td>0.14</td>\n",
       "      <td>-0.06</td>\n",
       "      <td>0.95</td>\n",
       "      <td>-0.13</td>\n",
       "      <td>-0.47</td>\n",
       "      <td>-0.16</td>\n",
       "      <td>-0.07</td>\n",
       "      <td>1.00</td>\n",
       "      <td>-0.03</td>\n",
       "      <td>...</td>\n",
       "      <td>0.00</td>\n",
       "      <td>0.03</td>\n",
       "      <td>0.03</td>\n",
       "      <td>0.05</td>\n",
       "      <td>-0.14</td>\n",
       "      <td>-0.06</td>\n",
       "      <td>0.00</td>\n",
       "      <td>0.02</td>\n",
       "      <td>-0.00</td>\n",
       "      <td>-0.07</td>\n",
       "    </tr>\n",
       "    <tr>\n",
       "      <th>onehotencoder__DistributionChannel_ElectronicDistribution</th>\n",
       "      <td>-0.00</td>\n",
       "      <td>-0.01</td>\n",
       "      <td>-0.01</td>\n",
       "      <td>-0.03</td>\n",
       "      <td>-0.03</td>\n",
       "      <td>0.06</td>\n",
       "      <td>-0.03</td>\n",
       "      <td>-0.01</td>\n",
       "      <td>-0.03</td>\n",
       "      <td>1.00</td>\n",
       "      <td>...</td>\n",
       "      <td>-0.00</td>\n",
       "      <td>-0.00</td>\n",
       "      <td>-0.00</td>\n",
       "      <td>-0.01</td>\n",
       "      <td>-0.04</td>\n",
       "      <td>-0.03</td>\n",
       "      <td>-0.00</td>\n",
       "      <td>0.00</td>\n",
       "      <td>-0.00</td>\n",
       "      <td>-0.02</td>\n",
       "    </tr>\n",
       "    <tr>\n",
       "      <th>onehotencoder__DistributionChannel_TravelAgentOperator</th>\n",
       "      <td>-0.11</td>\n",
       "      <td>-0.12</td>\n",
       "      <td>-0.27</td>\n",
       "      <td>-0.83</td>\n",
       "      <td>0.11</td>\n",
       "      <td>0.50</td>\n",
       "      <td>0.18</td>\n",
       "      <td>-0.38</td>\n",
       "      <td>-0.87</td>\n",
       "      <td>-0.17</td>\n",
       "      <td>...</td>\n",
       "      <td>-0.01</td>\n",
       "      <td>-0.02</td>\n",
       "      <td>-0.02</td>\n",
       "      <td>-0.04</td>\n",
       "      <td>0.17</td>\n",
       "      <td>0.08</td>\n",
       "      <td>-0.00</td>\n",
       "      <td>-0.02</td>\n",
       "      <td>0.01</td>\n",
       "      <td>0.09</td>\n",
       "    </tr>\n",
       "    <tr>\n",
       "      <th>Age</th>\n",
       "      <td>0.02</td>\n",
       "      <td>-0.01</td>\n",
       "      <td>-0.00</td>\n",
       "      <td>-0.06</td>\n",
       "      <td>0.16</td>\n",
       "      <td>-0.12</td>\n",
       "      <td>0.09</td>\n",
       "      <td>0.01</td>\n",
       "      <td>-0.07</td>\n",
       "      <td>-0.01</td>\n",
       "      <td>...</td>\n",
       "      <td>0.01</td>\n",
       "      <td>-0.02</td>\n",
       "      <td>0.01</td>\n",
       "      <td>-0.11</td>\n",
       "      <td>-0.00</td>\n",
       "      <td>0.01</td>\n",
       "      <td>0.01</td>\n",
       "      <td>0.01</td>\n",
       "      <td>-0.01</td>\n",
       "      <td>0.01</td>\n",
       "    </tr>\n",
       "    <tr>\n",
       "      <th>DaysSinceCreation</th>\n",
       "      <td>0.01</td>\n",
       "      <td>-0.00</td>\n",
       "      <td>0.01</td>\n",
       "      <td>-0.06</td>\n",
       "      <td>0.02</td>\n",
       "      <td>-0.03</td>\n",
       "      <td>0.08</td>\n",
       "      <td>0.05</td>\n",
       "      <td>-0.05</td>\n",
       "      <td>-0.02</td>\n",
       "      <td>...</td>\n",
       "      <td>0.00</td>\n",
       "      <td>-0.01</td>\n",
       "      <td>-0.01</td>\n",
       "      <td>-0.03</td>\n",
       "      <td>-0.03</td>\n",
       "      <td>-0.03</td>\n",
       "      <td>-0.00</td>\n",
       "      <td>0.01</td>\n",
       "      <td>-0.01</td>\n",
       "      <td>-0.06</td>\n",
       "    </tr>\n",
       "    <tr>\n",
       "      <th>AverageLeadTime</th>\n",
       "      <td>-0.04</td>\n",
       "      <td>-0.04</td>\n",
       "      <td>-0.08</td>\n",
       "      <td>-0.10</td>\n",
       "      <td>0.13</td>\n",
       "      <td>-0.09</td>\n",
       "      <td>0.15</td>\n",
       "      <td>-0.07</td>\n",
       "      <td>-0.11</td>\n",
       "      <td>-0.04</td>\n",
       "      <td>...</td>\n",
       "      <td>-0.00</td>\n",
       "      <td>-0.01</td>\n",
       "      <td>0.01</td>\n",
       "      <td>-0.04</td>\n",
       "      <td>-0.01</td>\n",
       "      <td>0.08</td>\n",
       "      <td>0.00</td>\n",
       "      <td>-0.00</td>\n",
       "      <td>-0.01</td>\n",
       "      <td>0.01</td>\n",
       "    </tr>\n",
       "    <tr>\n",
       "      <th>LodgingRevenue</th>\n",
       "      <td>0.03</td>\n",
       "      <td>-0.06</td>\n",
       "      <td>0.01</td>\n",
       "      <td>0.02</td>\n",
       "      <td>-0.02</td>\n",
       "      <td>0.06</td>\n",
       "      <td>-0.07</td>\n",
       "      <td>0.01</td>\n",
       "      <td>0.01</td>\n",
       "      <td>-0.00</td>\n",
       "      <td>...</td>\n",
       "      <td>0.01</td>\n",
       "      <td>0.01</td>\n",
       "      <td>0.01</td>\n",
       "      <td>-0.01</td>\n",
       "      <td>0.01</td>\n",
       "      <td>0.01</td>\n",
       "      <td>0.00</td>\n",
       "      <td>0.01</td>\n",
       "      <td>-0.00</td>\n",
       "      <td>0.05</td>\n",
       "    </tr>\n",
       "    <tr>\n",
       "      <th>OtherRevenue</th>\n",
       "      <td>0.01</td>\n",
       "      <td>-0.03</td>\n",
       "      <td>-0.00</td>\n",
       "      <td>0.01</td>\n",
       "      <td>-0.01</td>\n",
       "      <td>-0.01</td>\n",
       "      <td>0.03</td>\n",
       "      <td>-0.00</td>\n",
       "      <td>-0.00</td>\n",
       "      <td>-0.02</td>\n",
       "      <td>...</td>\n",
       "      <td>0.01</td>\n",
       "      <td>0.01</td>\n",
       "      <td>0.01</td>\n",
       "      <td>0.00</td>\n",
       "      <td>0.01</td>\n",
       "      <td>0.02</td>\n",
       "      <td>0.00</td>\n",
       "      <td>0.01</td>\n",
       "      <td>0.00</td>\n",
       "      <td>0.02</td>\n",
       "    </tr>\n",
       "    <tr>\n",
       "      <th>BookingsCanceled</th>\n",
       "      <td>0.06</td>\n",
       "      <td>0.04</td>\n",
       "      <td>0.11</td>\n",
       "      <td>0.00</td>\n",
       "      <td>-0.01</td>\n",
       "      <td>-0.03</td>\n",
       "      <td>-0.01</td>\n",
       "      <td>0.12</td>\n",
       "      <td>0.01</td>\n",
       "      <td>-0.00</td>\n",
       "      <td>...</td>\n",
       "      <td>0.02</td>\n",
       "      <td>-0.00</td>\n",
       "      <td>-0.00</td>\n",
       "      <td>-0.00</td>\n",
       "      <td>0.02</td>\n",
       "      <td>-0.01</td>\n",
       "      <td>-0.00</td>\n",
       "      <td>0.00</td>\n",
       "      <td>-0.00</td>\n",
       "      <td>-0.01</td>\n",
       "    </tr>\n",
       "    <tr>\n",
       "      <th>BookingsNoShowed</th>\n",
       "      <td>0.04</td>\n",
       "      <td>-0.00</td>\n",
       "      <td>0.09</td>\n",
       "      <td>-0.00</td>\n",
       "      <td>-0.01</td>\n",
       "      <td>-0.03</td>\n",
       "      <td>-0.00</td>\n",
       "      <td>0.10</td>\n",
       "      <td>-0.00</td>\n",
       "      <td>-0.00</td>\n",
       "      <td>...</td>\n",
       "      <td>-0.00</td>\n",
       "      <td>-0.00</td>\n",
       "      <td>-0.00</td>\n",
       "      <td>-0.00</td>\n",
       "      <td>0.01</td>\n",
       "      <td>-0.00</td>\n",
       "      <td>-0.00</td>\n",
       "      <td>-0.00</td>\n",
       "      <td>-0.00</td>\n",
       "      <td>-0.00</td>\n",
       "    </tr>\n",
       "    <tr>\n",
       "      <th>BookingsCheckedIn</th>\n",
       "      <td>0.03</td>\n",
       "      <td>0.01</td>\n",
       "      <td>0.06</td>\n",
       "      <td>-0.04</td>\n",
       "      <td>0.05</td>\n",
       "      <td>-0.05</td>\n",
       "      <td>0.03</td>\n",
       "      <td>0.06</td>\n",
       "      <td>-0.04</td>\n",
       "      <td>0.04</td>\n",
       "      <td>...</td>\n",
       "      <td>0.00</td>\n",
       "      <td>-0.01</td>\n",
       "      <td>0.00</td>\n",
       "      <td>-0.05</td>\n",
       "      <td>-0.01</td>\n",
       "      <td>-0.03</td>\n",
       "      <td>0.00</td>\n",
       "      <td>0.01</td>\n",
       "      <td>-0.01</td>\n",
       "      <td>-0.01</td>\n",
       "    </tr>\n",
       "    <tr>\n",
       "      <th>PersonsNights</th>\n",
       "      <td>0.01</td>\n",
       "      <td>-0.02</td>\n",
       "      <td>-0.04</td>\n",
       "      <td>-0.03</td>\n",
       "      <td>-0.08</td>\n",
       "      <td>0.06</td>\n",
       "      <td>0.04</td>\n",
       "      <td>-0.04</td>\n",
       "      <td>-0.03</td>\n",
       "      <td>-0.04</td>\n",
       "      <td>...</td>\n",
       "      <td>0.01</td>\n",
       "      <td>0.02</td>\n",
       "      <td>0.01</td>\n",
       "      <td>-0.01</td>\n",
       "      <td>0.04</td>\n",
       "      <td>0.01</td>\n",
       "      <td>0.00</td>\n",
       "      <td>0.01</td>\n",
       "      <td>-0.00</td>\n",
       "      <td>0.03</td>\n",
       "    </tr>\n",
       "    <tr>\n",
       "      <th>RoomNights</th>\n",
       "      <td>0.06</td>\n",
       "      <td>-0.01</td>\n",
       "      <td>0.03</td>\n",
       "      <td>-0.05</td>\n",
       "      <td>-0.00</td>\n",
       "      <td>-0.02</td>\n",
       "      <td>0.05</td>\n",
       "      <td>0.05</td>\n",
       "      <td>-0.05</td>\n",
       "      <td>-0.01</td>\n",
       "      <td>...</td>\n",
       "      <td>0.01</td>\n",
       "      <td>0.02</td>\n",
       "      <td>0.01</td>\n",
       "      <td>-0.03</td>\n",
       "      <td>0.03</td>\n",
       "      <td>-0.02</td>\n",
       "      <td>0.00</td>\n",
       "      <td>0.01</td>\n",
       "      <td>-0.00</td>\n",
       "      <td>0.02</td>\n",
       "    </tr>\n",
       "    <tr>\n",
       "      <th>DaysSinceLastStay</th>\n",
       "      <td>0.00</td>\n",
       "      <td>-0.00</td>\n",
       "      <td>0.00</td>\n",
       "      <td>-0.06</td>\n",
       "      <td>0.03</td>\n",
       "      <td>-0.02</td>\n",
       "      <td>0.07</td>\n",
       "      <td>0.03</td>\n",
       "      <td>-0.06</td>\n",
       "      <td>-0.01</td>\n",
       "      <td>...</td>\n",
       "      <td>0.00</td>\n",
       "      <td>-0.01</td>\n",
       "      <td>-0.00</td>\n",
       "      <td>-0.04</td>\n",
       "      <td>-0.02</td>\n",
       "      <td>-0.02</td>\n",
       "      <td>-0.00</td>\n",
       "      <td>0.01</td>\n",
       "      <td>-0.01</td>\n",
       "      <td>-0.04</td>\n",
       "    </tr>\n",
       "    <tr>\n",
       "      <th>DaysSinceFirstStay</th>\n",
       "      <td>0.02</td>\n",
       "      <td>0.00</td>\n",
       "      <td>0.02</td>\n",
       "      <td>-0.06</td>\n",
       "      <td>0.03</td>\n",
       "      <td>-0.03</td>\n",
       "      <td>0.07</td>\n",
       "      <td>0.05</td>\n",
       "      <td>-0.06</td>\n",
       "      <td>-0.01</td>\n",
       "      <td>...</td>\n",
       "      <td>0.01</td>\n",
       "      <td>-0.01</td>\n",
       "      <td>-0.00</td>\n",
       "      <td>-0.04</td>\n",
       "      <td>-0.02</td>\n",
       "      <td>-0.02</td>\n",
       "      <td>-0.00</td>\n",
       "      <td>0.01</td>\n",
       "      <td>-0.01</td>\n",
       "      <td>-0.04</td>\n",
       "    </tr>\n",
       "    <tr>\n",
       "      <th>SRHighFloor</th>\n",
       "      <td>-0.01</td>\n",
       "      <td>-0.01</td>\n",
       "      <td>-0.03</td>\n",
       "      <td>0.01</td>\n",
       "      <td>-0.08</td>\n",
       "      <td>0.10</td>\n",
       "      <td>-0.06</td>\n",
       "      <td>-0.04</td>\n",
       "      <td>0.00</td>\n",
       "      <td>-0.01</td>\n",
       "      <td>...</td>\n",
       "      <td>-0.00</td>\n",
       "      <td>0.03</td>\n",
       "      <td>0.01</td>\n",
       "      <td>-0.00</td>\n",
       "      <td>0.09</td>\n",
       "      <td>0.02</td>\n",
       "      <td>0.01</td>\n",
       "      <td>0.10</td>\n",
       "      <td>-0.00</td>\n",
       "      <td>0.06</td>\n",
       "    </tr>\n",
       "    <tr>\n",
       "      <th>SRLowFloor</th>\n",
       "      <td>-0.00</td>\n",
       "      <td>-0.00</td>\n",
       "      <td>-0.00</td>\n",
       "      <td>0.01</td>\n",
       "      <td>-0.01</td>\n",
       "      <td>0.01</td>\n",
       "      <td>-0.01</td>\n",
       "      <td>0.00</td>\n",
       "      <td>0.01</td>\n",
       "      <td>0.00</td>\n",
       "      <td>...</td>\n",
       "      <td>0.01</td>\n",
       "      <td>-0.00</td>\n",
       "      <td>-0.00</td>\n",
       "      <td>-0.00</td>\n",
       "      <td>0.01</td>\n",
       "      <td>0.01</td>\n",
       "      <td>-0.00</td>\n",
       "      <td>0.01</td>\n",
       "      <td>-0.00</td>\n",
       "      <td>0.01</td>\n",
       "    </tr>\n",
       "    <tr>\n",
       "      <th>SRAccessibleRoom</th>\n",
       "      <td>-0.00</td>\n",
       "      <td>-0.00</td>\n",
       "      <td>0.00</td>\n",
       "      <td>-0.00</td>\n",
       "      <td>0.00</td>\n",
       "      <td>0.00</td>\n",
       "      <td>-0.00</td>\n",
       "      <td>0.00</td>\n",
       "      <td>-0.00</td>\n",
       "      <td>-0.00</td>\n",
       "      <td>...</td>\n",
       "      <td>-0.00</td>\n",
       "      <td>-0.00</td>\n",
       "      <td>0.04</td>\n",
       "      <td>-0.00</td>\n",
       "      <td>-0.00</td>\n",
       "      <td>0.01</td>\n",
       "      <td>0.13</td>\n",
       "      <td>-0.00</td>\n",
       "      <td>-0.00</td>\n",
       "      <td>0.00</td>\n",
       "    </tr>\n",
       "    <tr>\n",
       "      <th>SRMediumFloor</th>\n",
       "      <td>-0.00</td>\n",
       "      <td>0.00</td>\n",
       "      <td>0.02</td>\n",
       "      <td>0.01</td>\n",
       "      <td>-0.01</td>\n",
       "      <td>0.00</td>\n",
       "      <td>-0.01</td>\n",
       "      <td>0.02</td>\n",
       "      <td>0.00</td>\n",
       "      <td>-0.00</td>\n",
       "      <td>...</td>\n",
       "      <td>1.00</td>\n",
       "      <td>0.01</td>\n",
       "      <td>-0.00</td>\n",
       "      <td>0.01</td>\n",
       "      <td>0.00</td>\n",
       "      <td>0.01</td>\n",
       "      <td>0.02</td>\n",
       "      <td>0.05</td>\n",
       "      <td>-0.00</td>\n",
       "      <td>0.02</td>\n",
       "    </tr>\n",
       "    <tr>\n",
       "      <th>SRBathtub</th>\n",
       "      <td>-0.00</td>\n",
       "      <td>0.00</td>\n",
       "      <td>-0.01</td>\n",
       "      <td>0.03</td>\n",
       "      <td>-0.02</td>\n",
       "      <td>-0.00</td>\n",
       "      <td>-0.01</td>\n",
       "      <td>-0.01</td>\n",
       "      <td>0.03</td>\n",
       "      <td>-0.00</td>\n",
       "      <td>...</td>\n",
       "      <td>0.01</td>\n",
       "      <td>1.00</td>\n",
       "      <td>-0.00</td>\n",
       "      <td>0.03</td>\n",
       "      <td>0.03</td>\n",
       "      <td>-0.00</td>\n",
       "      <td>-0.00</td>\n",
       "      <td>0.01</td>\n",
       "      <td>-0.00</td>\n",
       "      <td>0.01</td>\n",
       "    </tr>\n",
       "    <tr>\n",
       "      <th>SRShower</th>\n",
       "      <td>-0.00</td>\n",
       "      <td>-0.00</td>\n",
       "      <td>-0.01</td>\n",
       "      <td>0.03</td>\n",
       "      <td>-0.02</td>\n",
       "      <td>-0.00</td>\n",
       "      <td>-0.01</td>\n",
       "      <td>-0.00</td>\n",
       "      <td>0.03</td>\n",
       "      <td>-0.00</td>\n",
       "      <td>...</td>\n",
       "      <td>-0.00</td>\n",
       "      <td>-0.00</td>\n",
       "      <td>1.00</td>\n",
       "      <td>-0.00</td>\n",
       "      <td>0.02</td>\n",
       "      <td>0.00</td>\n",
       "      <td>-0.00</td>\n",
       "      <td>0.01</td>\n",
       "      <td>-0.00</td>\n",
       "      <td>0.01</td>\n",
       "    </tr>\n",
       "    <tr>\n",
       "      <th>SRCrib</th>\n",
       "      <td>-0.01</td>\n",
       "      <td>0.02</td>\n",
       "      <td>-0.01</td>\n",
       "      <td>0.05</td>\n",
       "      <td>-0.03</td>\n",
       "      <td>-0.01</td>\n",
       "      <td>-0.01</td>\n",
       "      <td>-0.01</td>\n",
       "      <td>0.05</td>\n",
       "      <td>-0.01</td>\n",
       "      <td>...</td>\n",
       "      <td>0.01</td>\n",
       "      <td>0.03</td>\n",
       "      <td>-0.00</td>\n",
       "      <td>1.00</td>\n",
       "      <td>0.02</td>\n",
       "      <td>-0.04</td>\n",
       "      <td>-0.00</td>\n",
       "      <td>0.00</td>\n",
       "      <td>0.03</td>\n",
       "      <td>-0.00</td>\n",
       "    </tr>\n",
       "    <tr>\n",
       "      <th>SRKingSizeBed</th>\n",
       "      <td>-0.03</td>\n",
       "      <td>-0.00</td>\n",
       "      <td>-0.07</td>\n",
       "      <td>-0.13</td>\n",
       "      <td>-0.11</td>\n",
       "      <td>0.34</td>\n",
       "      <td>-0.21</td>\n",
       "      <td>-0.08</td>\n",
       "      <td>-0.14</td>\n",
       "      <td>-0.04</td>\n",
       "      <td>...</td>\n",
       "      <td>0.00</td>\n",
       "      <td>0.03</td>\n",
       "      <td>0.02</td>\n",
       "      <td>0.02</td>\n",
       "      <td>1.00</td>\n",
       "      <td>-0.28</td>\n",
       "      <td>0.00</td>\n",
       "      <td>0.01</td>\n",
       "      <td>0.00</td>\n",
       "      <td>0.10</td>\n",
       "    </tr>\n",
       "    <tr>\n",
       "      <th>SRTwinBed</th>\n",
       "      <td>-0.02</td>\n",
       "      <td>-0.01</td>\n",
       "      <td>-0.03</td>\n",
       "      <td>-0.06</td>\n",
       "      <td>0.08</td>\n",
       "      <td>0.03</td>\n",
       "      <td>-0.04</td>\n",
       "      <td>-0.03</td>\n",
       "      <td>-0.06</td>\n",
       "      <td>-0.03</td>\n",
       "      <td>...</td>\n",
       "      <td>0.01</td>\n",
       "      <td>-0.00</td>\n",
       "      <td>0.00</td>\n",
       "      <td>-0.04</td>\n",
       "      <td>-0.28</td>\n",
       "      <td>1.00</td>\n",
       "      <td>0.00</td>\n",
       "      <td>-0.00</td>\n",
       "      <td>0.01</td>\n",
       "      <td>0.01</td>\n",
       "    </tr>\n",
       "    <tr>\n",
       "      <th>SRNearElevator</th>\n",
       "      <td>-0.00</td>\n",
       "      <td>-0.00</td>\n",
       "      <td>-0.00</td>\n",
       "      <td>0.00</td>\n",
       "      <td>-0.00</td>\n",
       "      <td>0.00</td>\n",
       "      <td>0.00</td>\n",
       "      <td>-0.00</td>\n",
       "      <td>0.00</td>\n",
       "      <td>-0.00</td>\n",
       "      <td>...</td>\n",
       "      <td>0.02</td>\n",
       "      <td>-0.00</td>\n",
       "      <td>-0.00</td>\n",
       "      <td>-0.00</td>\n",
       "      <td>0.00</td>\n",
       "      <td>0.00</td>\n",
       "      <td>1.00</td>\n",
       "      <td>-0.00</td>\n",
       "      <td>-0.00</td>\n",
       "      <td>0.01</td>\n",
       "    </tr>\n",
       "    <tr>\n",
       "      <th>SRAwayFromElevator</th>\n",
       "      <td>-0.00</td>\n",
       "      <td>-0.00</td>\n",
       "      <td>-0.00</td>\n",
       "      <td>0.02</td>\n",
       "      <td>-0.02</td>\n",
       "      <td>0.01</td>\n",
       "      <td>-0.01</td>\n",
       "      <td>-0.00</td>\n",
       "      <td>0.02</td>\n",
       "      <td>0.00</td>\n",
       "      <td>...</td>\n",
       "      <td>0.05</td>\n",
       "      <td>0.01</td>\n",
       "      <td>0.01</td>\n",
       "      <td>0.00</td>\n",
       "      <td>0.01</td>\n",
       "      <td>-0.00</td>\n",
       "      <td>-0.00</td>\n",
       "      <td>1.00</td>\n",
       "      <td>-0.00</td>\n",
       "      <td>0.06</td>\n",
       "    </tr>\n",
       "    <tr>\n",
       "      <th>SRNoAlcoholInMiniBar</th>\n",
       "      <td>-0.00</td>\n",
       "      <td>-0.00</td>\n",
       "      <td>-0.00</td>\n",
       "      <td>-0.00</td>\n",
       "      <td>-0.00</td>\n",
       "      <td>0.01</td>\n",
       "      <td>-0.00</td>\n",
       "      <td>-0.00</td>\n",
       "      <td>-0.00</td>\n",
       "      <td>-0.00</td>\n",
       "      <td>...</td>\n",
       "      <td>-0.00</td>\n",
       "      <td>-0.00</td>\n",
       "      <td>-0.00</td>\n",
       "      <td>0.03</td>\n",
       "      <td>0.00</td>\n",
       "      <td>0.01</td>\n",
       "      <td>-0.00</td>\n",
       "      <td>-0.00</td>\n",
       "      <td>1.00</td>\n",
       "      <td>0.00</td>\n",
       "    </tr>\n",
       "    <tr>\n",
       "      <th>SRQuietRoom</th>\n",
       "      <td>-0.02</td>\n",
       "      <td>-0.02</td>\n",
       "      <td>-0.05</td>\n",
       "      <td>-0.06</td>\n",
       "      <td>-0.11</td>\n",
       "      <td>0.21</td>\n",
       "      <td>-0.11</td>\n",
       "      <td>-0.05</td>\n",
       "      <td>-0.07</td>\n",
       "      <td>-0.02</td>\n",
       "      <td>...</td>\n",
       "      <td>0.02</td>\n",
       "      <td>0.01</td>\n",
       "      <td>0.01</td>\n",
       "      <td>-0.00</td>\n",
       "      <td>0.10</td>\n",
       "      <td>0.01</td>\n",
       "      <td>0.01</td>\n",
       "      <td>0.06</td>\n",
       "      <td>0.00</td>\n",
       "      <td>1.00</td>\n",
       "    </tr>\n",
       "  </tbody>\n",
       "</table>\n",
       "<p>36 rows × 36 columns</p>\n",
       "</div>"
      ],
      "text/plain": [
       "                                                    onehotencoder__MarketSegment_Aviation  \\\n",
       "onehotencoder__MarketSegment_Aviation                                                1.00   \n",
       "onehotencoder__MarketSegment_Complementary                                          -0.00   \n",
       "onehotencoder__MarketSegment_Corporate                                              -0.01   \n",
       "onehotencoder__MarketSegment_Direct                                                 -0.02   \n",
       "onehotencoder__MarketSegment_Groups                                                 -0.02   \n",
       "onehotencoder__MarketSegment_Other                                                  -0.06   \n",
       "onehotencoder__MarketSegment_TravelAgentOperator                                    -0.02   \n",
       "onehotencoder__DistributionChannel_Corporate                                         0.30   \n",
       "onehotencoder__DistributionChannel_Direct                                           -0.02   \n",
       "onehotencoder__DistributionChannel_ElectronicDi...                                  -0.00   \n",
       "onehotencoder__DistributionChannel_TravelAgentO...                                  -0.11   \n",
       "Age                                                                                  0.02   \n",
       "DaysSinceCreation                                                                    0.01   \n",
       "AverageLeadTime                                                                     -0.04   \n",
       "LodgingRevenue                                                                       0.03   \n",
       "OtherRevenue                                                                         0.01   \n",
       "BookingsCanceled                                                                     0.06   \n",
       "BookingsNoShowed                                                                     0.04   \n",
       "BookingsCheckedIn                                                                    0.03   \n",
       "PersonsNights                                                                        0.01   \n",
       "RoomNights                                                                           0.06   \n",
       "DaysSinceLastStay                                                                    0.00   \n",
       "DaysSinceFirstStay                                                                   0.02   \n",
       "SRHighFloor                                                                         -0.01   \n",
       "SRLowFloor                                                                          -0.00   \n",
       "SRAccessibleRoom                                                                    -0.00   \n",
       "SRMediumFloor                                                                       -0.00   \n",
       "SRBathtub                                                                           -0.00   \n",
       "SRShower                                                                            -0.00   \n",
       "SRCrib                                                                              -0.01   \n",
       "SRKingSizeBed                                                                       -0.03   \n",
       "SRTwinBed                                                                           -0.02   \n",
       "SRNearElevator                                                                      -0.00   \n",
       "SRAwayFromElevator                                                                  -0.00   \n",
       "SRNoAlcoholInMiniBar                                                                -0.00   \n",
       "SRQuietRoom                                                                         -0.02   \n",
       "\n",
       "                                                    onehotencoder__MarketSegment_Complementary  \\\n",
       "onehotencoder__MarketSegment_Aviation                                                    -0.00   \n",
       "onehotencoder__MarketSegment_Complementary                                                1.00   \n",
       "onehotencoder__MarketSegment_Corporate                                                   -0.01   \n",
       "onehotencoder__MarketSegment_Direct                                                      -0.03   \n",
       "onehotencoder__MarketSegment_Groups                                                      -0.03   \n",
       "onehotencoder__MarketSegment_Other                                                       -0.09   \n",
       "onehotencoder__MarketSegment_TravelAgentOperator                                         -0.03   \n",
       "onehotencoder__DistributionChannel_Corporate                                             -0.00   \n",
       "onehotencoder__DistributionChannel_Direct                                                 0.14   \n",
       "onehotencoder__DistributionChannel_ElectronicDi...                                       -0.01   \n",
       "onehotencoder__DistributionChannel_TravelAgentO...                                       -0.12   \n",
       "Age                                                                                      -0.01   \n",
       "DaysSinceCreation                                                                        -0.00   \n",
       "AverageLeadTime                                                                          -0.04   \n",
       "LodgingRevenue                                                                           -0.06   \n",
       "OtherRevenue                                                                             -0.03   \n",
       "BookingsCanceled                                                                          0.04   \n",
       "BookingsNoShowed                                                                         -0.00   \n",
       "BookingsCheckedIn                                                                         0.01   \n",
       "PersonsNights                                                                            -0.02   \n",
       "RoomNights                                                                               -0.01   \n",
       "DaysSinceLastStay                                                                        -0.00   \n",
       "DaysSinceFirstStay                                                                        0.00   \n",
       "SRHighFloor                                                                              -0.01   \n",
       "SRLowFloor                                                                               -0.00   \n",
       "SRAccessibleRoom                                                                         -0.00   \n",
       "SRMediumFloor                                                                             0.00   \n",
       "SRBathtub                                                                                 0.00   \n",
       "SRShower                                                                                 -0.00   \n",
       "SRCrib                                                                                    0.02   \n",
       "SRKingSizeBed                                                                            -0.00   \n",
       "SRTwinBed                                                                                -0.01   \n",
       "SRNearElevator                                                                           -0.00   \n",
       "SRAwayFromElevator                                                                       -0.00   \n",
       "SRNoAlcoholInMiniBar                                                                     -0.00   \n",
       "SRQuietRoom                                                                              -0.02   \n",
       "\n",
       "                                                    onehotencoder__MarketSegment_Corporate  \\\n",
       "onehotencoder__MarketSegment_Aviation                                                -0.01   \n",
       "onehotencoder__MarketSegment_Complementary                                           -0.01   \n",
       "onehotencoder__MarketSegment_Corporate                                                1.00   \n",
       "onehotencoder__MarketSegment_Direct                                                  -0.06   \n",
       "onehotencoder__MarketSegment_Groups                                                  -0.06   \n",
       "onehotencoder__MarketSegment_Other                                                   -0.19   \n",
       "onehotencoder__MarketSegment_TravelAgentOperator                                     -0.07   \n",
       "onehotencoder__DistributionChannel_Corporate                                          0.71   \n",
       "onehotencoder__DistributionChannel_Direct                                            -0.06   \n",
       "onehotencoder__DistributionChannel_ElectronicDi...                                   -0.01   \n",
       "onehotencoder__DistributionChannel_TravelAgentO...                                   -0.27   \n",
       "Age                                                                                  -0.00   \n",
       "DaysSinceCreation                                                                     0.01   \n",
       "AverageLeadTime                                                                      -0.08   \n",
       "LodgingRevenue                                                                        0.01   \n",
       "OtherRevenue                                                                         -0.00   \n",
       "BookingsCanceled                                                                      0.11   \n",
       "BookingsNoShowed                                                                      0.09   \n",
       "BookingsCheckedIn                                                                     0.06   \n",
       "PersonsNights                                                                        -0.04   \n",
       "RoomNights                                                                            0.03   \n",
       "DaysSinceLastStay                                                                     0.00   \n",
       "DaysSinceFirstStay                                                                    0.02   \n",
       "SRHighFloor                                                                          -0.03   \n",
       "SRLowFloor                                                                           -0.00   \n",
       "SRAccessibleRoom                                                                      0.00   \n",
       "SRMediumFloor                                                                         0.02   \n",
       "SRBathtub                                                                            -0.01   \n",
       "SRShower                                                                             -0.01   \n",
       "SRCrib                                                                               -0.01   \n",
       "SRKingSizeBed                                                                        -0.07   \n",
       "SRTwinBed                                                                            -0.03   \n",
       "SRNearElevator                                                                       -0.00   \n",
       "SRAwayFromElevator                                                                   -0.00   \n",
       "SRNoAlcoholInMiniBar                                                                 -0.00   \n",
       "SRQuietRoom                                                                          -0.05   \n",
       "\n",
       "                                                    onehotencoder__MarketSegment_Direct  \\\n",
       "onehotencoder__MarketSegment_Aviation                                             -0.02   \n",
       "onehotencoder__MarketSegment_Complementary                                        -0.03   \n",
       "onehotencoder__MarketSegment_Corporate                                            -0.06   \n",
       "onehotencoder__MarketSegment_Direct                                                1.00   \n",
       "onehotencoder__MarketSegment_Groups                                               -0.14   \n",
       "onehotencoder__MarketSegment_Other                                                -0.46   \n",
       "onehotencoder__MarketSegment_TravelAgentOperator                                  -0.16   \n",
       "onehotencoder__DistributionChannel_Corporate                                      -0.07   \n",
       "onehotencoder__DistributionChannel_Direct                                          0.95   \n",
       "onehotencoder__DistributionChannel_ElectronicDi...                                -0.03   \n",
       "onehotencoder__DistributionChannel_TravelAgentO...                                -0.83   \n",
       "Age                                                                               -0.06   \n",
       "DaysSinceCreation                                                                 -0.06   \n",
       "AverageLeadTime                                                                   -0.10   \n",
       "LodgingRevenue                                                                     0.02   \n",
       "OtherRevenue                                                                       0.01   \n",
       "BookingsCanceled                                                                   0.00   \n",
       "BookingsNoShowed                                                                  -0.00   \n",
       "BookingsCheckedIn                                                                 -0.04   \n",
       "PersonsNights                                                                     -0.03   \n",
       "RoomNights                                                                        -0.05   \n",
       "DaysSinceLastStay                                                                 -0.06   \n",
       "DaysSinceFirstStay                                                                -0.06   \n",
       "SRHighFloor                                                                        0.01   \n",
       "SRLowFloor                                                                         0.01   \n",
       "SRAccessibleRoom                                                                  -0.00   \n",
       "SRMediumFloor                                                                      0.01   \n",
       "SRBathtub                                                                          0.03   \n",
       "SRShower                                                                           0.03   \n",
       "SRCrib                                                                             0.05   \n",
       "SRKingSizeBed                                                                     -0.13   \n",
       "SRTwinBed                                                                         -0.06   \n",
       "SRNearElevator                                                                     0.00   \n",
       "SRAwayFromElevator                                                                 0.02   \n",
       "SRNoAlcoholInMiniBar                                                              -0.00   \n",
       "SRQuietRoom                                                                       -0.06   \n",
       "\n",
       "                                                    onehotencoder__MarketSegment_Groups  \\\n",
       "onehotencoder__MarketSegment_Aviation                                             -0.02   \n",
       "onehotencoder__MarketSegment_Complementary                                        -0.03   \n",
       "onehotencoder__MarketSegment_Corporate                                            -0.06   \n",
       "onehotencoder__MarketSegment_Direct                                               -0.14   \n",
       "onehotencoder__MarketSegment_Groups                                                1.00   \n",
       "onehotencoder__MarketSegment_Other                                                -0.42   \n",
       "onehotencoder__MarketSegment_TravelAgentOperator                                  -0.14   \n",
       "onehotencoder__DistributionChannel_Corporate                                       0.04   \n",
       "onehotencoder__DistributionChannel_Direct                                         -0.13   \n",
       "onehotencoder__DistributionChannel_ElectronicDi...                                -0.03   \n",
       "onehotencoder__DistributionChannel_TravelAgentO...                                 0.11   \n",
       "Age                                                                                0.16   \n",
       "DaysSinceCreation                                                                  0.02   \n",
       "AverageLeadTime                                                                    0.13   \n",
       "LodgingRevenue                                                                    -0.02   \n",
       "OtherRevenue                                                                      -0.01   \n",
       "BookingsCanceled                                                                  -0.01   \n",
       "BookingsNoShowed                                                                  -0.01   \n",
       "BookingsCheckedIn                                                                  0.05   \n",
       "PersonsNights                                                                     -0.08   \n",
       "RoomNights                                                                        -0.00   \n",
       "DaysSinceLastStay                                                                  0.03   \n",
       "DaysSinceFirstStay                                                                 0.03   \n",
       "SRHighFloor                                                                       -0.08   \n",
       "SRLowFloor                                                                        -0.01   \n",
       "SRAccessibleRoom                                                                   0.00   \n",
       "SRMediumFloor                                                                     -0.01   \n",
       "SRBathtub                                                                         -0.02   \n",
       "SRShower                                                                          -0.02   \n",
       "SRCrib                                                                            -0.03   \n",
       "SRKingSizeBed                                                                     -0.11   \n",
       "SRTwinBed                                                                          0.08   \n",
       "SRNearElevator                                                                    -0.00   \n",
       "SRAwayFromElevator                                                                -0.02   \n",
       "SRNoAlcoholInMiniBar                                                              -0.00   \n",
       "SRQuietRoom                                                                       -0.11   \n",
       "\n",
       "                                                    onehotencoder__MarketSegment_Other  \\\n",
       "onehotencoder__MarketSegment_Aviation                                            -0.06   \n",
       "onehotencoder__MarketSegment_Complementary                                       -0.09   \n",
       "onehotencoder__MarketSegment_Corporate                                           -0.19   \n",
       "onehotencoder__MarketSegment_Direct                                              -0.46   \n",
       "onehotencoder__MarketSegment_Groups                                              -0.42   \n",
       "onehotencoder__MarketSegment_Other                                                1.00   \n",
       "onehotencoder__MarketSegment_TravelAgentOperator                                 -0.47   \n",
       "onehotencoder__DistributionChannel_Corporate                                     -0.20   \n",
       "onehotencoder__DistributionChannel_Direct                                        -0.47   \n",
       "onehotencoder__DistributionChannel_ElectronicDi...                                0.06   \n",
       "onehotencoder__DistributionChannel_TravelAgentO...                                0.50   \n",
       "Age                                                                              -0.12   \n",
       "DaysSinceCreation                                                                -0.03   \n",
       "AverageLeadTime                                                                  -0.09   \n",
       "LodgingRevenue                                                                    0.06   \n",
       "OtherRevenue                                                                     -0.01   \n",
       "BookingsCanceled                                                                 -0.03   \n",
       "BookingsNoShowed                                                                 -0.03   \n",
       "BookingsCheckedIn                                                                -0.05   \n",
       "PersonsNights                                                                     0.06   \n",
       "RoomNights                                                                       -0.02   \n",
       "DaysSinceLastStay                                                                -0.02   \n",
       "DaysSinceFirstStay                                                               -0.03   \n",
       "SRHighFloor                                                                       0.10   \n",
       "SRLowFloor                                                                        0.01   \n",
       "SRAccessibleRoom                                                                  0.00   \n",
       "SRMediumFloor                                                                     0.00   \n",
       "SRBathtub                                                                        -0.00   \n",
       "SRShower                                                                         -0.00   \n",
       "SRCrib                                                                           -0.01   \n",
       "SRKingSizeBed                                                                     0.34   \n",
       "SRTwinBed                                                                         0.03   \n",
       "SRNearElevator                                                                    0.00   \n",
       "SRAwayFromElevator                                                                0.01   \n",
       "SRNoAlcoholInMiniBar                                                              0.01   \n",
       "SRQuietRoom                                                                       0.21   \n",
       "\n",
       "                                                    onehotencoder__MarketSegment_TravelAgentOperator  \\\n",
       "onehotencoder__MarketSegment_Aviation                                                          -0.02   \n",
       "onehotencoder__MarketSegment_Complementary                                                     -0.03   \n",
       "onehotencoder__MarketSegment_Corporate                                                         -0.07   \n",
       "onehotencoder__MarketSegment_Direct                                                            -0.16   \n",
       "onehotencoder__MarketSegment_Groups                                                            -0.14   \n",
       "onehotencoder__MarketSegment_Other                                                             -0.47   \n",
       "onehotencoder__MarketSegment_TravelAgentOperator                                                1.00   \n",
       "onehotencoder__DistributionChannel_Corporate                                                   -0.05   \n",
       "onehotencoder__DistributionChannel_Direct                                                      -0.16   \n",
       "onehotencoder__DistributionChannel_ElectronicDi...                                             -0.03   \n",
       "onehotencoder__DistributionChannel_TravelAgentO...                                              0.18   \n",
       "Age                                                                                             0.09   \n",
       "DaysSinceCreation                                                                               0.08   \n",
       "AverageLeadTime                                                                                 0.15   \n",
       "LodgingRevenue                                                                                 -0.07   \n",
       "OtherRevenue                                                                                    0.03   \n",
       "BookingsCanceled                                                                               -0.01   \n",
       "BookingsNoShowed                                                                               -0.00   \n",
       "BookingsCheckedIn                                                                               0.03   \n",
       "PersonsNights                                                                                   0.04   \n",
       "RoomNights                                                                                      0.05   \n",
       "DaysSinceLastStay                                                                               0.07   \n",
       "DaysSinceFirstStay                                                                              0.07   \n",
       "SRHighFloor                                                                                    -0.06   \n",
       "SRLowFloor                                                                                     -0.01   \n",
       "SRAccessibleRoom                                                                               -0.00   \n",
       "SRMediumFloor                                                                                  -0.01   \n",
       "SRBathtub                                                                                      -0.01   \n",
       "SRShower                                                                                       -0.01   \n",
       "SRCrib                                                                                         -0.01   \n",
       "SRKingSizeBed                                                                                  -0.21   \n",
       "SRTwinBed                                                                                      -0.04   \n",
       "SRNearElevator                                                                                  0.00   \n",
       "SRAwayFromElevator                                                                             -0.01   \n",
       "SRNoAlcoholInMiniBar                                                                           -0.00   \n",
       "SRQuietRoom                                                                                    -0.11   \n",
       "\n",
       "                                                    onehotencoder__DistributionChannel_Corporate  \\\n",
       "onehotencoder__MarketSegment_Aviation                                                       0.30   \n",
       "onehotencoder__MarketSegment_Complementary                                                 -0.00   \n",
       "onehotencoder__MarketSegment_Corporate                                                      0.71   \n",
       "onehotencoder__MarketSegment_Direct                                                        -0.07   \n",
       "onehotencoder__MarketSegment_Groups                                                         0.04   \n",
       "onehotencoder__MarketSegment_Other                                                         -0.20   \n",
       "onehotencoder__MarketSegment_TravelAgentOperator                                           -0.05   \n",
       "onehotencoder__DistributionChannel_Corporate                                                1.00   \n",
       "onehotencoder__DistributionChannel_Direct                                                  -0.07   \n",
       "onehotencoder__DistributionChannel_ElectronicDi...                                         -0.01   \n",
       "onehotencoder__DistributionChannel_TravelAgentO...                                         -0.38   \n",
       "Age                                                                                         0.01   \n",
       "DaysSinceCreation                                                                           0.05   \n",
       "AverageLeadTime                                                                            -0.07   \n",
       "LodgingRevenue                                                                              0.01   \n",
       "OtherRevenue                                                                               -0.00   \n",
       "BookingsCanceled                                                                            0.12   \n",
       "BookingsNoShowed                                                                            0.10   \n",
       "BookingsCheckedIn                                                                           0.06   \n",
       "PersonsNights                                                                              -0.04   \n",
       "RoomNights                                                                                  0.05   \n",
       "DaysSinceLastStay                                                                           0.03   \n",
       "DaysSinceFirstStay                                                                          0.05   \n",
       "SRHighFloor                                                                                -0.04   \n",
       "SRLowFloor                                                                                  0.00   \n",
       "SRAccessibleRoom                                                                            0.00   \n",
       "SRMediumFloor                                                                               0.02   \n",
       "SRBathtub                                                                                  -0.01   \n",
       "SRShower                                                                                   -0.00   \n",
       "SRCrib                                                                                     -0.01   \n",
       "SRKingSizeBed                                                                              -0.08   \n",
       "SRTwinBed                                                                                  -0.03   \n",
       "SRNearElevator                                                                             -0.00   \n",
       "SRAwayFromElevator                                                                         -0.00   \n",
       "SRNoAlcoholInMiniBar                                                                       -0.00   \n",
       "SRQuietRoom                                                                                -0.05   \n",
       "\n",
       "                                                    onehotencoder__DistributionChannel_Direct  \\\n",
       "onehotencoder__MarketSegment_Aviation                                                   -0.02   \n",
       "onehotencoder__MarketSegment_Complementary                                               0.14   \n",
       "onehotencoder__MarketSegment_Corporate                                                  -0.06   \n",
       "onehotencoder__MarketSegment_Direct                                                      0.95   \n",
       "onehotencoder__MarketSegment_Groups                                                     -0.13   \n",
       "onehotencoder__MarketSegment_Other                                                      -0.47   \n",
       "onehotencoder__MarketSegment_TravelAgentOperator                                        -0.16   \n",
       "onehotencoder__DistributionChannel_Corporate                                            -0.07   \n",
       "onehotencoder__DistributionChannel_Direct                                                1.00   \n",
       "onehotencoder__DistributionChannel_ElectronicDi...                                      -0.03   \n",
       "onehotencoder__DistributionChannel_TravelAgentO...                                      -0.87   \n",
       "Age                                                                                     -0.07   \n",
       "DaysSinceCreation                                                                       -0.05   \n",
       "AverageLeadTime                                                                         -0.11   \n",
       "LodgingRevenue                                                                           0.01   \n",
       "OtherRevenue                                                                            -0.00   \n",
       "BookingsCanceled                                                                         0.01   \n",
       "BookingsNoShowed                                                                        -0.00   \n",
       "BookingsCheckedIn                                                                       -0.04   \n",
       "PersonsNights                                                                           -0.03   \n",
       "RoomNights                                                                              -0.05   \n",
       "DaysSinceLastStay                                                                       -0.06   \n",
       "DaysSinceFirstStay                                                                      -0.06   \n",
       "SRHighFloor                                                                              0.00   \n",
       "SRLowFloor                                                                               0.01   \n",
       "SRAccessibleRoom                                                                        -0.00   \n",
       "SRMediumFloor                                                                            0.00   \n",
       "SRBathtub                                                                                0.03   \n",
       "SRShower                                                                                 0.03   \n",
       "SRCrib                                                                                   0.05   \n",
       "SRKingSizeBed                                                                           -0.14   \n",
       "SRTwinBed                                                                               -0.06   \n",
       "SRNearElevator                                                                           0.00   \n",
       "SRAwayFromElevator                                                                       0.02   \n",
       "SRNoAlcoholInMiniBar                                                                    -0.00   \n",
       "SRQuietRoom                                                                             -0.07   \n",
       "\n",
       "                                                    onehotencoder__DistributionChannel_ElectronicDistribution  \\\n",
       "onehotencoder__MarketSegment_Aviation                                                           -0.00           \n",
       "onehotencoder__MarketSegment_Complementary                                                      -0.01           \n",
       "onehotencoder__MarketSegment_Corporate                                                          -0.01           \n",
       "onehotencoder__MarketSegment_Direct                                                             -0.03           \n",
       "onehotencoder__MarketSegment_Groups                                                             -0.03           \n",
       "onehotencoder__MarketSegment_Other                                                               0.06           \n",
       "onehotencoder__MarketSegment_TravelAgentOperator                                                -0.03           \n",
       "onehotencoder__DistributionChannel_Corporate                                                    -0.01           \n",
       "onehotencoder__DistributionChannel_Direct                                                       -0.03           \n",
       "onehotencoder__DistributionChannel_ElectronicDi...                                               1.00           \n",
       "onehotencoder__DistributionChannel_TravelAgentO...                                              -0.17           \n",
       "Age                                                                                             -0.01           \n",
       "DaysSinceCreation                                                                               -0.02           \n",
       "AverageLeadTime                                                                                 -0.04           \n",
       "LodgingRevenue                                                                                  -0.00           \n",
       "OtherRevenue                                                                                    -0.02           \n",
       "BookingsCanceled                                                                                -0.00           \n",
       "BookingsNoShowed                                                                                -0.00           \n",
       "BookingsCheckedIn                                                                                0.04           \n",
       "PersonsNights                                                                                   -0.04           \n",
       "RoomNights                                                                                      -0.01           \n",
       "DaysSinceLastStay                                                                               -0.01           \n",
       "DaysSinceFirstStay                                                                              -0.01           \n",
       "SRHighFloor                                                                                     -0.01           \n",
       "SRLowFloor                                                                                       0.00           \n",
       "SRAccessibleRoom                                                                                -0.00           \n",
       "SRMediumFloor                                                                                   -0.00           \n",
       "SRBathtub                                                                                       -0.00           \n",
       "SRShower                                                                                        -0.00           \n",
       "SRCrib                                                                                          -0.01           \n",
       "SRKingSizeBed                                                                                   -0.04           \n",
       "SRTwinBed                                                                                       -0.03           \n",
       "SRNearElevator                                                                                  -0.00           \n",
       "SRAwayFromElevator                                                                               0.00           \n",
       "SRNoAlcoholInMiniBar                                                                            -0.00           \n",
       "SRQuietRoom                                                                                     -0.02           \n",
       "\n",
       "                                                    ...  SRMediumFloor  \\\n",
       "onehotencoder__MarketSegment_Aviation               ...          -0.00   \n",
       "onehotencoder__MarketSegment_Complementary          ...           0.00   \n",
       "onehotencoder__MarketSegment_Corporate              ...           0.02   \n",
       "onehotencoder__MarketSegment_Direct                 ...           0.01   \n",
       "onehotencoder__MarketSegment_Groups                 ...          -0.01   \n",
       "onehotencoder__MarketSegment_Other                  ...           0.00   \n",
       "onehotencoder__MarketSegment_TravelAgentOperator    ...          -0.01   \n",
       "onehotencoder__DistributionChannel_Corporate        ...           0.02   \n",
       "onehotencoder__DistributionChannel_Direct           ...           0.00   \n",
       "onehotencoder__DistributionChannel_ElectronicDi...  ...          -0.00   \n",
       "onehotencoder__DistributionChannel_TravelAgentO...  ...          -0.01   \n",
       "Age                                                 ...           0.01   \n",
       "DaysSinceCreation                                   ...           0.00   \n",
       "AverageLeadTime                                     ...          -0.00   \n",
       "LodgingRevenue                                      ...           0.01   \n",
       "OtherRevenue                                        ...           0.01   \n",
       "BookingsCanceled                                    ...           0.02   \n",
       "BookingsNoShowed                                    ...          -0.00   \n",
       "BookingsCheckedIn                                   ...           0.00   \n",
       "PersonsNights                                       ...           0.01   \n",
       "RoomNights                                          ...           0.01   \n",
       "DaysSinceLastStay                                   ...           0.00   \n",
       "DaysSinceFirstStay                                  ...           0.01   \n",
       "SRHighFloor                                         ...          -0.00   \n",
       "SRLowFloor                                          ...           0.01   \n",
       "SRAccessibleRoom                                    ...          -0.00   \n",
       "SRMediumFloor                                       ...           1.00   \n",
       "SRBathtub                                           ...           0.01   \n",
       "SRShower                                            ...          -0.00   \n",
       "SRCrib                                              ...           0.01   \n",
       "SRKingSizeBed                                       ...           0.00   \n",
       "SRTwinBed                                           ...           0.01   \n",
       "SRNearElevator                                      ...           0.02   \n",
       "SRAwayFromElevator                                  ...           0.05   \n",
       "SRNoAlcoholInMiniBar                                ...          -0.00   \n",
       "SRQuietRoom                                         ...           0.02   \n",
       "\n",
       "                                                    SRBathtub  SRShower  \\\n",
       "onehotencoder__MarketSegment_Aviation                   -0.00     -0.00   \n",
       "onehotencoder__MarketSegment_Complementary               0.00     -0.00   \n",
       "onehotencoder__MarketSegment_Corporate                  -0.01     -0.01   \n",
       "onehotencoder__MarketSegment_Direct                      0.03      0.03   \n",
       "onehotencoder__MarketSegment_Groups                     -0.02     -0.02   \n",
       "onehotencoder__MarketSegment_Other                      -0.00     -0.00   \n",
       "onehotencoder__MarketSegment_TravelAgentOperator        -0.01     -0.01   \n",
       "onehotencoder__DistributionChannel_Corporate            -0.01     -0.00   \n",
       "onehotencoder__DistributionChannel_Direct                0.03      0.03   \n",
       "onehotencoder__DistributionChannel_ElectronicDi...      -0.00     -0.00   \n",
       "onehotencoder__DistributionChannel_TravelAgentO...      -0.02     -0.02   \n",
       "Age                                                     -0.02      0.01   \n",
       "DaysSinceCreation                                       -0.01     -0.01   \n",
       "AverageLeadTime                                         -0.01      0.01   \n",
       "LodgingRevenue                                           0.01      0.01   \n",
       "OtherRevenue                                             0.01      0.01   \n",
       "BookingsCanceled                                        -0.00     -0.00   \n",
       "BookingsNoShowed                                        -0.00     -0.00   \n",
       "BookingsCheckedIn                                       -0.01      0.00   \n",
       "PersonsNights                                            0.02      0.01   \n",
       "RoomNights                                               0.02      0.01   \n",
       "DaysSinceLastStay                                       -0.01     -0.00   \n",
       "DaysSinceFirstStay                                      -0.01     -0.00   \n",
       "SRHighFloor                                              0.03      0.01   \n",
       "SRLowFloor                                              -0.00     -0.00   \n",
       "SRAccessibleRoom                                        -0.00      0.04   \n",
       "SRMediumFloor                                            0.01     -0.00   \n",
       "SRBathtub                                                1.00     -0.00   \n",
       "SRShower                                                -0.00      1.00   \n",
       "SRCrib                                                   0.03     -0.00   \n",
       "SRKingSizeBed                                            0.03      0.02   \n",
       "SRTwinBed                                               -0.00      0.00   \n",
       "SRNearElevator                                          -0.00     -0.00   \n",
       "SRAwayFromElevator                                       0.01      0.01   \n",
       "SRNoAlcoholInMiniBar                                    -0.00     -0.00   \n",
       "SRQuietRoom                                              0.01      0.01   \n",
       "\n",
       "                                                    SRCrib  SRKingSizeBed  \\\n",
       "onehotencoder__MarketSegment_Aviation                -0.01          -0.03   \n",
       "onehotencoder__MarketSegment_Complementary            0.02          -0.00   \n",
       "onehotencoder__MarketSegment_Corporate               -0.01          -0.07   \n",
       "onehotencoder__MarketSegment_Direct                   0.05          -0.13   \n",
       "onehotencoder__MarketSegment_Groups                  -0.03          -0.11   \n",
       "onehotencoder__MarketSegment_Other                   -0.01           0.34   \n",
       "onehotencoder__MarketSegment_TravelAgentOperator     -0.01          -0.21   \n",
       "onehotencoder__DistributionChannel_Corporate         -0.01          -0.08   \n",
       "onehotencoder__DistributionChannel_Direct             0.05          -0.14   \n",
       "onehotencoder__DistributionChannel_ElectronicDi...   -0.01          -0.04   \n",
       "onehotencoder__DistributionChannel_TravelAgentO...   -0.04           0.17   \n",
       "Age                                                  -0.11          -0.00   \n",
       "DaysSinceCreation                                    -0.03          -0.03   \n",
       "AverageLeadTime                                      -0.04          -0.01   \n",
       "LodgingRevenue                                       -0.01           0.01   \n",
       "OtherRevenue                                          0.00           0.01   \n",
       "BookingsCanceled                                     -0.00           0.02   \n",
       "BookingsNoShowed                                     -0.00           0.01   \n",
       "BookingsCheckedIn                                    -0.05          -0.01   \n",
       "PersonsNights                                        -0.01           0.04   \n",
       "RoomNights                                           -0.03           0.03   \n",
       "DaysSinceLastStay                                    -0.04          -0.02   \n",
       "DaysSinceFirstStay                                   -0.04          -0.02   \n",
       "SRHighFloor                                          -0.00           0.09   \n",
       "SRLowFloor                                           -0.00           0.01   \n",
       "SRAccessibleRoom                                     -0.00          -0.00   \n",
       "SRMediumFloor                                         0.01           0.00   \n",
       "SRBathtub                                             0.03           0.03   \n",
       "SRShower                                             -0.00           0.02   \n",
       "SRCrib                                                1.00           0.02   \n",
       "SRKingSizeBed                                         0.02           1.00   \n",
       "SRTwinBed                                            -0.04          -0.28   \n",
       "SRNearElevator                                       -0.00           0.00   \n",
       "SRAwayFromElevator                                    0.00           0.01   \n",
       "SRNoAlcoholInMiniBar                                  0.03           0.00   \n",
       "SRQuietRoom                                          -0.00           0.10   \n",
       "\n",
       "                                                    SRTwinBed  SRNearElevator  \\\n",
       "onehotencoder__MarketSegment_Aviation                   -0.02           -0.00   \n",
       "onehotencoder__MarketSegment_Complementary              -0.01           -0.00   \n",
       "onehotencoder__MarketSegment_Corporate                  -0.03           -0.00   \n",
       "onehotencoder__MarketSegment_Direct                     -0.06            0.00   \n",
       "onehotencoder__MarketSegment_Groups                      0.08           -0.00   \n",
       "onehotencoder__MarketSegment_Other                       0.03            0.00   \n",
       "onehotencoder__MarketSegment_TravelAgentOperator        -0.04            0.00   \n",
       "onehotencoder__DistributionChannel_Corporate            -0.03           -0.00   \n",
       "onehotencoder__DistributionChannel_Direct               -0.06            0.00   \n",
       "onehotencoder__DistributionChannel_ElectronicDi...      -0.03           -0.00   \n",
       "onehotencoder__DistributionChannel_TravelAgentO...       0.08           -0.00   \n",
       "Age                                                      0.01            0.01   \n",
       "DaysSinceCreation                                       -0.03           -0.00   \n",
       "AverageLeadTime                                          0.08            0.00   \n",
       "LodgingRevenue                                           0.01            0.00   \n",
       "OtherRevenue                                             0.02            0.00   \n",
       "BookingsCanceled                                        -0.01           -0.00   \n",
       "BookingsNoShowed                                        -0.00           -0.00   \n",
       "BookingsCheckedIn                                       -0.03            0.00   \n",
       "PersonsNights                                            0.01            0.00   \n",
       "RoomNights                                              -0.02            0.00   \n",
       "DaysSinceLastStay                                       -0.02           -0.00   \n",
       "DaysSinceFirstStay                                      -0.02           -0.00   \n",
       "SRHighFloor                                              0.02            0.01   \n",
       "SRLowFloor                                               0.01           -0.00   \n",
       "SRAccessibleRoom                                         0.01            0.13   \n",
       "SRMediumFloor                                            0.01            0.02   \n",
       "SRBathtub                                               -0.00           -0.00   \n",
       "SRShower                                                 0.00           -0.00   \n",
       "SRCrib                                                  -0.04           -0.00   \n",
       "SRKingSizeBed                                           -0.28            0.00   \n",
       "SRTwinBed                                                1.00            0.00   \n",
       "SRNearElevator                                           0.00            1.00   \n",
       "SRAwayFromElevator                                      -0.00           -0.00   \n",
       "SRNoAlcoholInMiniBar                                     0.01           -0.00   \n",
       "SRQuietRoom                                              0.01            0.01   \n",
       "\n",
       "                                                    SRAwayFromElevator  \\\n",
       "onehotencoder__MarketSegment_Aviation                            -0.00   \n",
       "onehotencoder__MarketSegment_Complementary                       -0.00   \n",
       "onehotencoder__MarketSegment_Corporate                           -0.00   \n",
       "onehotencoder__MarketSegment_Direct                               0.02   \n",
       "onehotencoder__MarketSegment_Groups                              -0.02   \n",
       "onehotencoder__MarketSegment_Other                                0.01   \n",
       "onehotencoder__MarketSegment_TravelAgentOperator                 -0.01   \n",
       "onehotencoder__DistributionChannel_Corporate                     -0.00   \n",
       "onehotencoder__DistributionChannel_Direct                         0.02   \n",
       "onehotencoder__DistributionChannel_ElectronicDi...                0.00   \n",
       "onehotencoder__DistributionChannel_TravelAgentO...               -0.02   \n",
       "Age                                                               0.01   \n",
       "DaysSinceCreation                                                 0.01   \n",
       "AverageLeadTime                                                  -0.00   \n",
       "LodgingRevenue                                                    0.01   \n",
       "OtherRevenue                                                      0.01   \n",
       "BookingsCanceled                                                  0.00   \n",
       "BookingsNoShowed                                                 -0.00   \n",
       "BookingsCheckedIn                                                 0.01   \n",
       "PersonsNights                                                     0.01   \n",
       "RoomNights                                                        0.01   \n",
       "DaysSinceLastStay                                                 0.01   \n",
       "DaysSinceFirstStay                                                0.01   \n",
       "SRHighFloor                                                       0.10   \n",
       "SRLowFloor                                                        0.01   \n",
       "SRAccessibleRoom                                                 -0.00   \n",
       "SRMediumFloor                                                     0.05   \n",
       "SRBathtub                                                         0.01   \n",
       "SRShower                                                          0.01   \n",
       "SRCrib                                                            0.00   \n",
       "SRKingSizeBed                                                     0.01   \n",
       "SRTwinBed                                                        -0.00   \n",
       "SRNearElevator                                                   -0.00   \n",
       "SRAwayFromElevator                                                1.00   \n",
       "SRNoAlcoholInMiniBar                                             -0.00   \n",
       "SRQuietRoom                                                       0.06   \n",
       "\n",
       "                                                    SRNoAlcoholInMiniBar  \\\n",
       "onehotencoder__MarketSegment_Aviation                              -0.00   \n",
       "onehotencoder__MarketSegment_Complementary                         -0.00   \n",
       "onehotencoder__MarketSegment_Corporate                             -0.00   \n",
       "onehotencoder__MarketSegment_Direct                                -0.00   \n",
       "onehotencoder__MarketSegment_Groups                                -0.00   \n",
       "onehotencoder__MarketSegment_Other                                  0.01   \n",
       "onehotencoder__MarketSegment_TravelAgentOperator                   -0.00   \n",
       "onehotencoder__DistributionChannel_Corporate                       -0.00   \n",
       "onehotencoder__DistributionChannel_Direct                          -0.00   \n",
       "onehotencoder__DistributionChannel_ElectronicDi...                 -0.00   \n",
       "onehotencoder__DistributionChannel_TravelAgentO...                  0.01   \n",
       "Age                                                                -0.01   \n",
       "DaysSinceCreation                                                  -0.01   \n",
       "AverageLeadTime                                                    -0.01   \n",
       "LodgingRevenue                                                     -0.00   \n",
       "OtherRevenue                                                        0.00   \n",
       "BookingsCanceled                                                   -0.00   \n",
       "BookingsNoShowed                                                   -0.00   \n",
       "BookingsCheckedIn                                                  -0.01   \n",
       "PersonsNights                                                      -0.00   \n",
       "RoomNights                                                         -0.00   \n",
       "DaysSinceLastStay                                                  -0.01   \n",
       "DaysSinceFirstStay                                                 -0.01   \n",
       "SRHighFloor                                                        -0.00   \n",
       "SRLowFloor                                                         -0.00   \n",
       "SRAccessibleRoom                                                   -0.00   \n",
       "SRMediumFloor                                                      -0.00   \n",
       "SRBathtub                                                          -0.00   \n",
       "SRShower                                                           -0.00   \n",
       "SRCrib                                                              0.03   \n",
       "SRKingSizeBed                                                       0.00   \n",
       "SRTwinBed                                                           0.01   \n",
       "SRNearElevator                                                     -0.00   \n",
       "SRAwayFromElevator                                                 -0.00   \n",
       "SRNoAlcoholInMiniBar                                                1.00   \n",
       "SRQuietRoom                                                         0.00   \n",
       "\n",
       "                                                    SRQuietRoom  \n",
       "onehotencoder__MarketSegment_Aviation                     -0.02  \n",
       "onehotencoder__MarketSegment_Complementary                -0.02  \n",
       "onehotencoder__MarketSegment_Corporate                    -0.05  \n",
       "onehotencoder__MarketSegment_Direct                       -0.06  \n",
       "onehotencoder__MarketSegment_Groups                       -0.11  \n",
       "onehotencoder__MarketSegment_Other                         0.21  \n",
       "onehotencoder__MarketSegment_TravelAgentOperator          -0.11  \n",
       "onehotencoder__DistributionChannel_Corporate              -0.05  \n",
       "onehotencoder__DistributionChannel_Direct                 -0.07  \n",
       "onehotencoder__DistributionChannel_ElectronicDi...        -0.02  \n",
       "onehotencoder__DistributionChannel_TravelAgentO...         0.09  \n",
       "Age                                                        0.01  \n",
       "DaysSinceCreation                                         -0.06  \n",
       "AverageLeadTime                                            0.01  \n",
       "LodgingRevenue                                             0.05  \n",
       "OtherRevenue                                               0.02  \n",
       "BookingsCanceled                                          -0.01  \n",
       "BookingsNoShowed                                          -0.00  \n",
       "BookingsCheckedIn                                         -0.01  \n",
       "PersonsNights                                              0.03  \n",
       "RoomNights                                                 0.02  \n",
       "DaysSinceLastStay                                         -0.04  \n",
       "DaysSinceFirstStay                                        -0.04  \n",
       "SRHighFloor                                                0.06  \n",
       "SRLowFloor                                                 0.01  \n",
       "SRAccessibleRoom                                           0.00  \n",
       "SRMediumFloor                                              0.02  \n",
       "SRBathtub                                                  0.01  \n",
       "SRShower                                                   0.01  \n",
       "SRCrib                                                    -0.00  \n",
       "SRKingSizeBed                                              0.10  \n",
       "SRTwinBed                                                  0.01  \n",
       "SRNearElevator                                             0.01  \n",
       "SRAwayFromElevator                                         0.06  \n",
       "SRNoAlcoholInMiniBar                                       0.00  \n",
       "SRQuietRoom                                                1.00  \n",
       "\n",
       "[36 rows x 36 columns]"
      ]
     },
     "execution_count": 29,
     "metadata": {},
     "output_type": "execute_result"
    }
   ],
   "source": [
    "hotel_2.corr().round(2)"
   ]
  },
  {
   "cell_type": "code",
   "execution_count": 30,
   "id": "6eeda509",
   "metadata": {},
   "outputs": [
    {
     "data": {
      "image/png": "[encoded data removed]",
      "text/plain": [
       "<Figure size 1440x720 with 2 Axes>"
      ]
     },
     "metadata": {
      "needs_background": "light"
     },
     "output_type": "display_data"
    }
   ],
   "source": [
    "correlation = hotel_2.corr().round(2)\n",
    "plt.figure(figsize = (20,10))\n",
    "sns.heatmap(correlation, annot = None, cmap = 'RdYlGn')\n",
    "plt.show()"
   ]
  },
  {
   "cell_type": "markdown",
   "id": "9abd4bb4",
   "metadata": {},
   "source": [
    "Because of having large dimetions/features,quite difficult to check relationship.\n",
    "\n",
    "But as per observation \"RoomNights\" feature is highly correlated with \"BookingsCheckedIn\" i.e 0.65.\n",
    "\n",
    "The value of Pearson's Correlation Coefficient can be between -1 to +1. 1 means that they are highly correlated and 0 means no correlation.\n",
    "\n",
    "also we can apply the PCA(Principle componenet analysis) method to reduce the dimentionality."
   ]
  },
  {
   "cell_type": "markdown",
   "id": "2208611f",
   "metadata": {},
   "source": [
    "# Calculating Important Features"
   ]
  },
  {
   "cell_type": "code",
   "execution_count": 31,
   "id": "ff963d9d",
   "metadata": {},
   "outputs": [],
   "source": [
    "X = hotel_2.drop('BookingsCheckedIn',axis=1)\n",
    "y = hotel_2['BookingsCheckedIn']"
   ]
  },
  {
   "cell_type": "code",
   "execution_count": 32,
   "id": "f07d1cdb",
   "metadata": {},
   "outputs": [
    {
     "data": {
      "text/html": [
       "<style>#sk-container-id-1 {color: black;background-color: white;}#sk-container-id-1 pre{padding: 0;}#sk-container-id-1 div.sk-toggleable {background-color: white;}#sk-container-id-1 label.sk-toggleable__label {cursor: pointer;display: block;width: 100%;margin-bottom: 0;padding: 0.3em;box-sizing: border-box;text-align: center;}#sk-container-id-1 label.sk-toggleable__label-arrow:before {content: \"▸\";float: left;margin-right: 0.25em;color: #696969;}#sk-container-id-1 label.sk-toggleable__label-arrow:hover:before {color: black;}#sk-container-id-1 div.sk-estimator:hover label.sk-toggleable__label-arrow:before {color: black;}#sk-container-id-1 div.sk-toggleable__content {max-height: 0;max-width: 0;overflow: hidden;text-align: left;background-color: #f0f8ff;}#sk-container-id-1 div.sk-toggleable__content pre {margin: 0.2em;color: black;border-radius: 0.25em;background-color: #f0f8ff;}#sk-container-id-1 input.sk-toggleable__control:checked~div.sk-toggleable__content {max-height: 200px;max-width: 100%;overflow: auto;}#sk-container-id-1 input.sk-toggleable__control:checked~label.sk-toggleable__label-arrow:before {content: \"▾\";}#sk-container-id-1 div.sk-estimator input.sk-toggleable__control:checked~label.sk-toggleable__label {background-color: #d4ebff;}#sk-container-id-1 div.sk-label input.sk-toggleable__control:checked~label.sk-toggleable__label {background-color: #d4ebff;}#sk-container-id-1 input.sk-hidden--visually {border: 0;clip: rect(1px 1px 1px 1px);clip: rect(1px, 1px, 1px, 1px);height: 1px;margin: -1px;overflow: hidden;padding: 0;position: absolute;width: 1px;}#sk-container-id-1 div.sk-estimator {font-family: monospace;background-color: #f0f8ff;border: 1px dotted black;border-radius: 0.25em;box-sizing: border-box;margin-bottom: 0.5em;}#sk-container-id-1 div.sk-estimator:hover {background-color: #d4ebff;}#sk-container-id-1 div.sk-parallel-item::after {content: \"\";width: 100%;border-bottom: 1px solid gray;flex-grow: 1;}#sk-container-id-1 div.sk-label:hover label.sk-toggleable__label {background-color: #d4ebff;}#sk-container-id-1 div.sk-serial::before {content: \"\";position: absolute;border-left: 1px solid gray;box-sizing: border-box;top: 0;bottom: 0;left: 50%;z-index: 0;}#sk-container-id-1 div.sk-serial {display: flex;flex-direction: column;align-items: center;background-color: white;padding-right: 0.2em;padding-left: 0.2em;position: relative;}#sk-container-id-1 div.sk-item {position: relative;z-index: 1;}#sk-container-id-1 div.sk-parallel {display: flex;align-items: stretch;justify-content: center;background-color: white;position: relative;}#sk-container-id-1 div.sk-item::before, #sk-container-id-1 div.sk-parallel-item::before {content: \"\";position: absolute;border-left: 1px solid gray;box-sizing: border-box;top: 0;bottom: 0;left: 50%;z-index: -1;}#sk-container-id-1 div.sk-parallel-item {display: flex;flex-direction: column;z-index: 1;position: relative;background-color: white;}#sk-container-id-1 div.sk-parallel-item:first-child::after {align-self: flex-end;width: 50%;}#sk-container-id-1 div.sk-parallel-item:last-child::after {align-self: flex-start;width: 50%;}#sk-container-id-1 div.sk-parallel-item:only-child::after {width: 0;}#sk-container-id-1 div.sk-dashed-wrapped {border: 1px dashed gray;margin: 0 0.4em 0.5em 0.4em;box-sizing: border-box;padding-bottom: 0.4em;background-color: white;}#sk-container-id-1 div.sk-label label {font-family: monospace;font-weight: bold;display: inline-block;line-height: 1.2em;}#sk-container-id-1 div.sk-label-container {text-align: center;}#sk-container-id-1 div.sk-container {/* jupyter's `normalize.less` sets `[hidden] { display: none; }` but bootstrap.min.css set `[hidden] { display: none !important; }` so we also need the `!important` here to be able to override the default hidden behavior on the sphinx rendered scikit-learn.org. See: https://github.com/scikit-learn/scikit-learn/issues/21755 */display: inline-block !important;position: relative;}#sk-container-id-1 div.sk-text-repr-fallback {display: none;}</style><div id=\"sk-container-id-1\" class=\"sk-top-container\"><div class=\"sk-text-repr-fallback\"><pre>ExtraTreesRegressor()</pre><b>In a Jupyter environment, please rerun this cell to show the HTML representation or trust the notebook. <br />On GitHub, the HTML representation is unable to render, please try loading this page with nbviewer.org.</b></div><div class=\"sk-container\" hidden><div class=\"sk-item\"><div class=\"sk-estimator sk-toggleable\"><input class=\"sk-toggleable__control sk-hidden--visually\" id=\"sk-estimator-id-1\" type=\"checkbox\" checked><label for=\"sk-estimator-id-1\" class=\"sk-toggleable__label sk-toggleable__label-arrow\">ExtraTreesRegressor</label><div class=\"sk-toggleable__content\"><pre>ExtraTreesRegressor()</pre></div></div></div></div></div>"
      ],
      "text/plain": [
       "ExtraTreesRegressor()"
      ]
     },
     "execution_count": 32,
     "metadata": {},
     "output_type": "execute_result"
    }
   ],
   "source": [
    "#Feature importance- Calculating magnitude of coff\n",
    "from sklearn.ensemble import ExtraTreesRegressor\n",
    "model=ExtraTreesRegressor()\n",
    "model.fit(X,y)"
   ]
  },
  {
   "cell_type": "code",
   "execution_count": 33,
   "id": "ab03ce0a",
   "metadata": {},
   "outputs": [
    {
     "name": "stdout",
     "output_type": "stream",
     "text": [
      "[0.00000000e+00 0.00000000e+00 0.00000000e+00 0.00000000e+00\n",
      " 0.00000000e+00 0.00000000e+00 0.00000000e+00 0.00000000e+00\n",
      " 0.00000000e+00 0.00000000e+00 0.00000000e+00 7.75748179e-04\n",
      " 2.17718623e-02 4.94186143e-02 2.60242827e-02 2.33838631e-04\n",
      " 0.00000000e+00 0.00000000e+00 4.12395130e-02 3.37751854e-02\n",
      " 4.13805433e-01 4.12955522e-01 0.00000000e+00 0.00000000e+00\n",
      " 0.00000000e+00 0.00000000e+00 0.00000000e+00 0.00000000e+00\n",
      " 0.00000000e+00 0.00000000e+00 0.00000000e+00 0.00000000e+00\n",
      " 0.00000000e+00 0.00000000e+00 0.00000000e+00]\n"
     ]
    }
   ],
   "source": [
    "print(model.feature_importances_)"
   ]
  },
  {
   "cell_type": "code",
   "execution_count": 34,
   "id": "ae58dc32",
   "metadata": {},
   "outputs": [
    {
     "data": {
      "image/png": "[encoded data removed]",
      "text/plain": [
       "<Figure size 432x288 with 1 Axes>"
      ]
     },
     "metadata": {
      "needs_background": "light"
     },
     "output_type": "display_data"
    }
   ],
   "source": [
    "#Plot the graph to better understanding of feature importance\n",
    "feat_importance =pd.Series(model.feature_importances_,index =X.columns)\n",
    "feat_importance.nlargest(8).plot(kind='barh',color='Green')\n",
    "plt.show()"
   ]
  },
  {
   "cell_type": "markdown",
   "id": "fc0e5902",
   "metadata": {},
   "source": [
    "# Applying SMOTE to solve the imbalanced data issue"
   ]
  },
  {
   "cell_type": "code",
   "execution_count": 35,
   "id": "d91037c0",
   "metadata": {},
   "outputs": [],
   "source": [
    "#spliting x & y for training dataset\n",
    "X = hotel_2.drop('BookingsCheckedIn',axis=1)\n",
    "y = hotel_2['BookingsCheckedIn']"
   ]
  },
  {
   "cell_type": "code",
   "execution_count": 36,
   "id": "a29c4b4b",
   "metadata": {},
   "outputs": [],
   "source": [
    "#splitting xtrain & y train\n",
    "from sklearn.model_selection import train_test_split\n",
    "xtrain,xtest,ytrain,ytest =train_test_split(X,y,test_size=0.2,random_state=42)"
   ]
  },
  {
   "cell_type": "code",
   "execution_count": 37,
   "id": "8e99ccb9",
   "metadata": {},
   "outputs": [
    {
     "data": {
      "text/plain": [
       "{0: 15433, 1: 50571}"
      ]
     },
     "execution_count": 37,
     "metadata": {},
     "output_type": "execute_result"
    }
   ],
   "source": [
    "unique, count =np.unique(ytrain,return_counts=True)\n",
    "ytrain_dict_value_count ={k:v for (k,v) in zip (unique,count)}\n",
    "ytrain_dict_value_count"
   ]
  },
  {
   "cell_type": "code",
   "execution_count": 38,
   "id": "fa6dc569",
   "metadata": {},
   "outputs": [],
   "source": [
    "from imblearn.over_sampling import SMOTE\n",
    "sm=SMOTE(random_state=42)\n",
    "xtrain_res,ytrain_res =sm.fit_resample(xtrain,ytrain)\n"
   ]
  },
  {
   "cell_type": "code",
   "execution_count": 39,
   "id": "499cf353",
   "metadata": {},
   "outputs": [
    {
     "data": {
      "text/plain": [
       "{0: 50571, 1: 50571}"
      ]
     },
     "execution_count": 39,
     "metadata": {},
     "output_type": "execute_result"
    }
   ],
   "source": [
    "unique, count =np.unique(ytrain_res,return_counts=True)\n",
    "ytrain_smote_value_count ={k:v for (k,v) in zip (unique,count)}\n",
    "ytrain_smote_value_count"
   ]
  },
  {
   "cell_type": "markdown",
   "id": "9c313a8f",
   "metadata": {},
   "source": [
    "\n",
    "We know that our dataset is imbalanced,because\n",
    "\n",
    "Outcome 1= No.customer who checkedIN to hotel =60K records available, Outcome 0= No.customer who not did checkedIN to hotel=20K records available, so almost 74% data avaiable for class 1 and for class 0 almost 26% of data availble\n",
    "\n",
    "so our both 0 and 1 catagories records are not equally distributes.which will give \"Biased result\".\n",
    "\n",
    "To overcome with this Imbalacing of dataset we have few techniques\n",
    "\n",
    "1.Undersampling of Mejority Class(Outcome-0)---But if we use this method most of the data will be waste so this is not the best approch, we want to utilise full data without loosing information.\n",
    "\n",
    "2.Oversampling Minority Class (0) by duplicate--this we can do.\n",
    "\n",
    "3.SMOTE-Synthetic Minority Oversampling Technique.---We uses this technique.\n",
    "\n",
    "Before applying SMOTE training dataset class={0: 15433, 1: 50571}\n",
    "\n",
    "after applying SMOTE training dataset class ={0: 50571, 1: 50571}\n",
    "means now class 0 and 1 are evenly distributed and will feed to model training"
   ]
  },
  {
   "cell_type": "markdown",
   "id": "dabb6550",
   "metadata": {},
   "source": [
    "# 1. Model Training Using Logistic Regression"
   ]
  },
  {
   "cell_type": "code",
   "execution_count": 40,
   "id": "40bcb3b8",
   "metadata": {},
   "outputs": [],
   "source": [
    "from sklearn.linear_model import LogisticRegression\n",
    "clf = LogisticRegression().fit(xtrain_res,ytrain_res)"
   ]
  },
  {
   "cell_type": "code",
   "execution_count": 41,
   "id": "2e70b8b3",
   "metadata": {},
   "outputs": [],
   "source": [
    "y_prediction = clf.predict(xtest)"
   ]
  },
  {
   "cell_type": "code",
   "execution_count": 42,
   "id": "551332f0",
   "metadata": {},
   "outputs": [],
   "source": [
    "from sklearn.metrics import classification_report,accuracy_score,confusion_matrix"
   ]
  },
  {
   "cell_type": "code",
   "execution_count": 43,
   "id": "9cc1d8ab",
   "metadata": {
    "scrolled": true
   },
   "outputs": [
    {
     "name": "stdout",
     "output_type": "stream",
     "text": [
      "              precision    recall  f1-score   support\n",
      "\n",
      "           0       1.00      1.00      1.00      3917\n",
      "           1       1.00      1.00      1.00     12584\n",
      "\n",
      "    accuracy                           1.00     16501\n",
      "   macro avg       1.00      1.00      1.00     16501\n",
      "weighted avg       1.00      1.00      1.00     16501\n",
      "\n",
      "1.0\n",
      "[[ 3917     0]\n",
      " [    0 12584]]\n"
     ]
    }
   ],
   "source": [
    "print(classification_report(ytest,y_prediction))\n",
    "print(accuracy_score(ytest,y_prediction))\n",
    "print(confusion_matrix(ytest,y_prediction))"
   ]
  },
  {
   "cell_type": "markdown",
   "id": "07e28989",
   "metadata": {},
   "source": [
    "Model accuracy is 100% lets see accuracy on test dataset further"
   ]
  },
  {
   "cell_type": "markdown",
   "id": "c60ba76b",
   "metadata": {},
   "source": [
    "# Using Random Forest Classifier"
   ]
  },
  {
   "cell_type": "code",
   "execution_count": 44,
   "id": "38271bb2",
   "metadata": {},
   "outputs": [
    {
     "data": {
      "text/html": [
       "<style>#sk-container-id-2 {color: black;background-color: white;}#sk-container-id-2 pre{padding: 0;}#sk-container-id-2 div.sk-toggleable {background-color: white;}#sk-container-id-2 label.sk-toggleable__label {cursor: pointer;display: block;width: 100%;margin-bottom: 0;padding: 0.3em;box-sizing: border-box;text-align: center;}#sk-container-id-2 label.sk-toggleable__label-arrow:before {content: \"▸\";float: left;margin-right: 0.25em;color: #696969;}#sk-container-id-2 label.sk-toggleable__label-arrow:hover:before {color: black;}#sk-container-id-2 div.sk-estimator:hover label.sk-toggleable__label-arrow:before {color: black;}#sk-container-id-2 div.sk-toggleable__content {max-height: 0;max-width: 0;overflow: hidden;text-align: left;background-color: #f0f8ff;}#sk-container-id-2 div.sk-toggleable__content pre {margin: 0.2em;color: black;border-radius: 0.25em;background-color: #f0f8ff;}#sk-container-id-2 input.sk-toggleable__control:checked~div.sk-toggleable__content {max-height: 200px;max-width: 100%;overflow: auto;}#sk-container-id-2 input.sk-toggleable__control:checked~label.sk-toggleable__label-arrow:before {content: \"▾\";}#sk-container-id-2 div.sk-estimator input.sk-toggleable__control:checked~label.sk-toggleable__label {background-color: #d4ebff;}#sk-container-id-2 div.sk-label input.sk-toggleable__control:checked~label.sk-toggleable__label {background-color: #d4ebff;}#sk-container-id-2 input.sk-hidden--visually {border: 0;clip: rect(1px 1px 1px 1px);clip: rect(1px, 1px, 1px, 1px);height: 1px;margin: -1px;overflow: hidden;padding: 0;position: absolute;width: 1px;}#sk-container-id-2 div.sk-estimator {font-family: monospace;background-color: #f0f8ff;border: 1px dotted black;border-radius: 0.25em;box-sizing: border-box;margin-bottom: 0.5em;}#sk-container-id-2 div.sk-estimator:hover {background-color: #d4ebff;}#sk-container-id-2 div.sk-parallel-item::after {content: \"\";width: 100%;border-bottom: 1px solid gray;flex-grow: 1;}#sk-container-id-2 div.sk-label:hover label.sk-toggleable__label {background-color: #d4ebff;}#sk-container-id-2 div.sk-serial::before {content: \"\";position: absolute;border-left: 1px solid gray;box-sizing: border-box;top: 0;bottom: 0;left: 50%;z-index: 0;}#sk-container-id-2 div.sk-serial {display: flex;flex-direction: column;align-items: center;background-color: white;padding-right: 0.2em;padding-left: 0.2em;position: relative;}#sk-container-id-2 div.sk-item {position: relative;z-index: 1;}#sk-container-id-2 div.sk-parallel {display: flex;align-items: stretch;justify-content: center;background-color: white;position: relative;}#sk-container-id-2 div.sk-item::before, #sk-container-id-2 div.sk-parallel-item::before {content: \"\";position: absolute;border-left: 1px solid gray;box-sizing: border-box;top: 0;bottom: 0;left: 50%;z-index: -1;}#sk-container-id-2 div.sk-parallel-item {display: flex;flex-direction: column;z-index: 1;position: relative;background-color: white;}#sk-container-id-2 div.sk-parallel-item:first-child::after {align-self: flex-end;width: 50%;}#sk-container-id-2 div.sk-parallel-item:last-child::after {align-self: flex-start;width: 50%;}#sk-container-id-2 div.sk-parallel-item:only-child::after {width: 0;}#sk-container-id-2 div.sk-dashed-wrapped {border: 1px dashed gray;margin: 0 0.4em 0.5em 0.4em;box-sizing: border-box;padding-bottom: 0.4em;background-color: white;}#sk-container-id-2 div.sk-label label {font-family: monospace;font-weight: bold;display: inline-block;line-height: 1.2em;}#sk-container-id-2 div.sk-label-container {text-align: center;}#sk-container-id-2 div.sk-container {/* jupyter's `normalize.less` sets `[hidden] { display: none; }` but bootstrap.min.css set `[hidden] { display: none !important; }` so we also need the `!important` here to be able to override the default hidden behavior on the sphinx rendered scikit-learn.org. See: https://github.com/scikit-learn/scikit-learn/issues/21755 */display: inline-block !important;position: relative;}#sk-container-id-2 div.sk-text-repr-fallback {display: none;}</style><div id=\"sk-container-id-2\" class=\"sk-top-container\"><div class=\"sk-text-repr-fallback\"><pre>RandomForestClassifier()</pre><b>In a Jupyter environment, please rerun this cell to show the HTML representation or trust the notebook. <br />On GitHub, the HTML representation is unable to render, please try loading this page with nbviewer.org.</b></div><div class=\"sk-container\" hidden><div class=\"sk-item\"><div class=\"sk-estimator sk-toggleable\"><input class=\"sk-toggleable__control sk-hidden--visually\" id=\"sk-estimator-id-2\" type=\"checkbox\" checked><label for=\"sk-estimator-id-2\" class=\"sk-toggleable__label sk-toggleable__label-arrow\">RandomForestClassifier</label><div class=\"sk-toggleable__content\"><pre>RandomForestClassifier()</pre></div></div></div></div></div>"
      ],
      "text/plain": [
       "RandomForestClassifier()"
      ]
     },
     "execution_count": 44,
     "metadata": {},
     "output_type": "execute_result"
    }
   ],
   "source": [
    "from sklearn.ensemble import RandomForestClassifier\n",
    "rfc = RandomForestClassifier()\n",
    "rfc.fit(xtrain_res,ytrain_res)"
   ]
  },
  {
   "cell_type": "code",
   "execution_count": 45,
   "id": "60c5b4ca",
   "metadata": {},
   "outputs": [],
   "source": [
    "y_predict_forest = rfc.predict(xtest)"
   ]
  },
  {
   "cell_type": "code",
   "execution_count": 46,
   "id": "ab81256c",
   "metadata": {},
   "outputs": [
    {
     "name": "stdout",
     "output_type": "stream",
     "text": [
      "              precision    recall  f1-score   support\n",
      "\n",
      "           0       1.00      1.00      1.00      3917\n",
      "           1       1.00      1.00      1.00     12584\n",
      "\n",
      "    accuracy                           1.00     16501\n",
      "   macro avg       1.00      1.00      1.00     16501\n",
      "weighted avg       1.00      1.00      1.00     16501\n",
      "\n",
      "1.0\n",
      "[[ 3917     0]\n",
      " [    0 12584]]\n"
     ]
    }
   ],
   "source": [
    "print(classification_report(ytest,y_predict_forest))\n",
    "print(accuracy_score(ytest,y_predict_forest))\n",
    "print(confusion_matrix(ytest,y_predict_forest))"
   ]
  },
  {
   "cell_type": "markdown",
   "id": "6dad6c00",
   "metadata": {},
   "source": [
    "# Test_Data Importing "
   ]
  },
  {
   "cell_type": "code",
   "execution_count": 47,
   "id": "b69e497c",
   "metadata": {},
   "outputs": [
    {
     "data": {
      "text/html": [
       "<div>\n",
       "<style scoped>\n",
       "    .dataframe tbody tr th:only-of-type {\n",
       "        vertical-align: middle;\n",
       "    }\n",
       "\n",
       "    .dataframe tbody tr th {\n",
       "        vertical-align: top;\n",
       "    }\n",
       "\n",
       "    .dataframe thead th {\n",
       "        text-align: right;\n",
       "    }\n",
       "</style>\n",
       "<table border=\"1\" class=\"dataframe\">\n",
       "  <thead>\n",
       "    <tr style=\"text-align: right;\">\n",
       "      <th></th>\n",
       "      <th>ID</th>\n",
       "      <th>Nationality</th>\n",
       "      <th>Age</th>\n",
       "      <th>DaysSinceCreation</th>\n",
       "      <th>AverageLeadTime</th>\n",
       "      <th>LodgingRevenue</th>\n",
       "      <th>OtherRevenue</th>\n",
       "      <th>BookingsCanceled</th>\n",
       "      <th>BookingsNoShowed</th>\n",
       "      <th>BookingsCheckedIn</th>\n",
       "      <th>...</th>\n",
       "      <th>SRMediumFloor</th>\n",
       "      <th>SRBathtub</th>\n",
       "      <th>SRShower</th>\n",
       "      <th>SRCrib</th>\n",
       "      <th>SRKingSizeBed</th>\n",
       "      <th>SRTwinBed</th>\n",
       "      <th>SRNearElevator</th>\n",
       "      <th>SRAwayFromElevator</th>\n",
       "      <th>SRNoAlcoholInMiniBar</th>\n",
       "      <th>SRQuietRoom</th>\n",
       "    </tr>\n",
       "  </thead>\n",
       "  <tbody>\n",
       "    <tr>\n",
       "      <th>0</th>\n",
       "      <td>82591</td>\n",
       "      <td>SGP</td>\n",
       "      <td>47.0</td>\n",
       "      <td>11</td>\n",
       "      <td>0</td>\n",
       "      <td>0.00</td>\n",
       "      <td>0.0</td>\n",
       "      <td>0</td>\n",
       "      <td>0</td>\n",
       "      <td>0</td>\n",
       "      <td>...</td>\n",
       "      <td>0</td>\n",
       "      <td>0</td>\n",
       "      <td>0</td>\n",
       "      <td>0</td>\n",
       "      <td>0</td>\n",
       "      <td>0</td>\n",
       "      <td>0</td>\n",
       "      <td>0</td>\n",
       "      <td>0</td>\n",
       "      <td>0</td>\n",
       "    </tr>\n",
       "    <tr>\n",
       "      <th>1</th>\n",
       "      <td>82592</td>\n",
       "      <td>SGP</td>\n",
       "      <td>16.0</td>\n",
       "      <td>11</td>\n",
       "      <td>130</td>\n",
       "      <td>483.48</td>\n",
       "      <td>155.1</td>\n",
       "      <td>0</td>\n",
       "      <td>0</td>\n",
       "      <td>1</td>\n",
       "      <td>...</td>\n",
       "      <td>0</td>\n",
       "      <td>0</td>\n",
       "      <td>0</td>\n",
       "      <td>0</td>\n",
       "      <td>0</td>\n",
       "      <td>0</td>\n",
       "      <td>0</td>\n",
       "      <td>0</td>\n",
       "      <td>0</td>\n",
       "      <td>0</td>\n",
       "    </tr>\n",
       "    <tr>\n",
       "      <th>2</th>\n",
       "      <td>82593</td>\n",
       "      <td>SGP</td>\n",
       "      <td>15.0</td>\n",
       "      <td>11</td>\n",
       "      <td>0</td>\n",
       "      <td>0.00</td>\n",
       "      <td>0.0</td>\n",
       "      <td>0</td>\n",
       "      <td>0</td>\n",
       "      <td>0</td>\n",
       "      <td>...</td>\n",
       "      <td>0</td>\n",
       "      <td>0</td>\n",
       "      <td>0</td>\n",
       "      <td>0</td>\n",
       "      <td>0</td>\n",
       "      <td>0</td>\n",
       "      <td>0</td>\n",
       "      <td>0</td>\n",
       "      <td>0</td>\n",
       "      <td>0</td>\n",
       "    </tr>\n",
       "    <tr>\n",
       "      <th>3</th>\n",
       "      <td>82594</td>\n",
       "      <td>SGP</td>\n",
       "      <td>12.0</td>\n",
       "      <td>11</td>\n",
       "      <td>0</td>\n",
       "      <td>0.00</td>\n",
       "      <td>0.0</td>\n",
       "      <td>0</td>\n",
       "      <td>0</td>\n",
       "      <td>0</td>\n",
       "      <td>...</td>\n",
       "      <td>0</td>\n",
       "      <td>0</td>\n",
       "      <td>0</td>\n",
       "      <td>0</td>\n",
       "      <td>0</td>\n",
       "      <td>0</td>\n",
       "      <td>0</td>\n",
       "      <td>0</td>\n",
       "      <td>0</td>\n",
       "      <td>0</td>\n",
       "    </tr>\n",
       "    <tr>\n",
       "      <th>4</th>\n",
       "      <td>82595</td>\n",
       "      <td>PRT</td>\n",
       "      <td>NaN</td>\n",
       "      <td>11</td>\n",
       "      <td>0</td>\n",
       "      <td>0.00</td>\n",
       "      <td>0.0</td>\n",
       "      <td>0</td>\n",
       "      <td>0</td>\n",
       "      <td>0</td>\n",
       "      <td>...</td>\n",
       "      <td>0</td>\n",
       "      <td>0</td>\n",
       "      <td>0</td>\n",
       "      <td>0</td>\n",
       "      <td>1</td>\n",
       "      <td>0</td>\n",
       "      <td>0</td>\n",
       "      <td>0</td>\n",
       "      <td>0</td>\n",
       "      <td>0</td>\n",
       "    </tr>\n",
       "  </tbody>\n",
       "</table>\n",
       "<p>5 rows × 29 columns</p>\n",
       "</div>"
      ],
      "text/plain": [
       "      ID Nationality   Age  DaysSinceCreation  AverageLeadTime  \\\n",
       "0  82591         SGP  47.0                 11                0   \n",
       "1  82592         SGP  16.0                 11              130   \n",
       "2  82593         SGP  15.0                 11                0   \n",
       "3  82594         SGP  12.0                 11                0   \n",
       "4  82595         PRT   NaN                 11                0   \n",
       "\n",
       "   LodgingRevenue  OtherRevenue  BookingsCanceled  BookingsNoShowed  \\\n",
       "0            0.00           0.0                 0                 0   \n",
       "1          483.48         155.1                 0                 0   \n",
       "2            0.00           0.0                 0                 0   \n",
       "3            0.00           0.0                 0                 0   \n",
       "4            0.00           0.0                 0                 0   \n",
       "\n",
       "   BookingsCheckedIn  ...  SRMediumFloor  SRBathtub  SRShower  SRCrib  \\\n",
       "0                  0  ...              0          0         0       0   \n",
       "1                  1  ...              0          0         0       0   \n",
       "2                  0  ...              0          0         0       0   \n",
       "3                  0  ...              0          0         0       0   \n",
       "4                  0  ...              0          0         0       0   \n",
       "\n",
       "  SRKingSizeBed SRTwinBed  SRNearElevator  SRAwayFromElevator  \\\n",
       "0             0         0               0                   0   \n",
       "1             0         0               0                   0   \n",
       "2             0         0               0                   0   \n",
       "3             0         0               0                   0   \n",
       "4             1         0               0                   0   \n",
       "\n",
       "   SRNoAlcoholInMiniBar  SRQuietRoom  \n",
       "0                     0            0  \n",
       "1                     0            0  \n",
       "2                     0            0  \n",
       "3                     0            0  \n",
       "4                     0            0  \n",
       "\n",
       "[5 rows x 29 columns]"
      ]
     },
     "execution_count": 47,
     "metadata": {},
     "output_type": "execute_result"
    }
   ],
   "source": [
    "test_data =pd.read_csv('test_data_evaluation_part2.csv',index_col=0)\n",
    "test_data.head()"
   ]
  },
  {
   "cell_type": "code",
   "execution_count": 48,
   "id": "5164a3fd",
   "metadata": {},
   "outputs": [
    {
     "data": {
      "text/plain": [
       "(1000, 29)"
      ]
     },
     "execution_count": 48,
     "metadata": {},
     "output_type": "execute_result"
    }
   ],
   "source": [
    "test_data.shape"
   ]
  },
  {
   "cell_type": "code",
   "execution_count": 49,
   "id": "5d5aa115",
   "metadata": {},
   "outputs": [
    {
     "data": {
      "text/plain": [
       "49"
      ]
     },
     "execution_count": 49,
     "metadata": {},
     "output_type": "execute_result"
    }
   ],
   "source": [
    "test_data['Nationality'].nunique()\n"
   ]
  },
  {
   "cell_type": "code",
   "execution_count": 50,
   "id": "3acf4471",
   "metadata": {},
   "outputs": [],
   "source": [
    "test_data.drop('Nationality',axis=1,inplace=True)\n",
    "test_data.drop('ID',axis=1,inplace=True)"
   ]
  },
  {
   "cell_type": "markdown",
   "id": "296af204",
   "metadata": {},
   "source": [
    "As per the i observed, Nationality in training dataset having no. of unique category =187\n",
    "after encoding & compressing we get total 61 features in training dataset.\n",
    "\n",
    "But in test data only 49 nationalities available ,which we conflict dimention of test and train data and also nationality is not an important feature here thats why we drop nationality from train and test dataset"
   ]
  },
  {
   "cell_type": "code",
   "execution_count": 51,
   "id": "46391310",
   "metadata": {},
   "outputs": [
    {
     "name": "stdout",
     "output_type": "stream",
     "text": [
      "<class 'pandas.core.frame.DataFrame'>\n",
      "Int64Index: 1000 entries, 0 to 999\n",
      "Data columns (total 27 columns):\n",
      " #   Column                Non-Null Count  Dtype  \n",
      "---  ------                --------------  -----  \n",
      " 0   Age                   967 non-null    float64\n",
      " 1   DaysSinceCreation     1000 non-null   int64  \n",
      " 2   AverageLeadTime       1000 non-null   int64  \n",
      " 3   LodgingRevenue        1000 non-null   float64\n",
      " 4   OtherRevenue          1000 non-null   float64\n",
      " 5   BookingsCanceled      1000 non-null   int64  \n",
      " 6   BookingsNoShowed      1000 non-null   int64  \n",
      " 7   BookingsCheckedIn     1000 non-null   int64  \n",
      " 8   PersonsNights         1000 non-null   int64  \n",
      " 9   RoomNights            1000 non-null   int64  \n",
      " 10  DaysSinceLastStay     1000 non-null   int64  \n",
      " 11  DaysSinceFirstStay    1000 non-null   int64  \n",
      " 12  DistributionChannel   1000 non-null   object \n",
      " 13  MarketSegment         1000 non-null   object \n",
      " 14  SRHighFloor           1000 non-null   int64  \n",
      " 15  SRLowFloor            1000 non-null   int64  \n",
      " 16  SRAccessibleRoom      1000 non-null   int64  \n",
      " 17  SRMediumFloor         1000 non-null   int64  \n",
      " 18  SRBathtub             1000 non-null   int64  \n",
      " 19  SRShower              1000 non-null   int64  \n",
      " 20  SRCrib                1000 non-null   int64  \n",
      " 21  SRKingSizeBed         1000 non-null   int64  \n",
      " 22  SRTwinBed             1000 non-null   int64  \n",
      " 23  SRNearElevator        1000 non-null   int64  \n",
      " 24  SRAwayFromElevator    1000 non-null   int64  \n",
      " 25  SRNoAlcoholInMiniBar  1000 non-null   int64  \n",
      " 26  SRQuietRoom           1000 non-null   int64  \n",
      "dtypes: float64(3), int64(22), object(2)\n",
      "memory usage: 218.8+ KB\n"
     ]
    }
   ],
   "source": [
    "test_data.info()"
   ]
  },
  {
   "cell_type": "code",
   "execution_count": 52,
   "id": "c5fcb68c",
   "metadata": {},
   "outputs": [
    {
     "data": {
      "text/plain": [
       "count    1000.000000\n",
       "mean       39.720786\n",
       "std        18.842071\n",
       "min         0.000000\n",
       "25%        25.000000\n",
       "50%        41.000000\n",
       "75%        53.000000\n",
       "max        90.000000\n",
       "Name: Age, dtype: float64"
      ]
     },
     "execution_count": 52,
     "metadata": {},
     "output_type": "execute_result"
    }
   ],
   "source": [
    "test_data['Age'].fillna(value=test_data['Age'].mean(),inplace=True)\n",
    "test_data['Age'].describe()"
   ]
  },
  {
   "cell_type": "code",
   "execution_count": 53,
   "id": "a62d5396",
   "metadata": {},
   "outputs": [],
   "source": [
    "from sklearn.preprocessing import OneHotEncoder\n",
    "from sklearn.compose import make_column_transformer\n",
    "transformer = make_column_transformer(\n",
    "    (OneHotEncoder(sparse=False), ['MarketSegment', 'DistributionChannel']),\n",
    "    remainder='drop')\n",
    "\n",
    "transformed = transformer.fit_transform(test_data)\n",
    "transformed_test_data = pd.DataFrame(transformed, columns=transformer.get_feature_names_out())\n",
    "\n",
    "# Concat the two tables\n",
    "transformed_test_data.reset_index(drop=True, inplace=True)\n",
    "hotel.reset_index(drop=True, inplace=True)\n",
    "test_data_encod = pd.concat([transformed_test_data, test_data], axis=1)"
   ]
  },
  {
   "cell_type": "code",
   "execution_count": 54,
   "id": "59e10964",
   "metadata": {},
   "outputs": [
    {
     "name": "stdout",
     "output_type": "stream",
     "text": [
      "The shape after encoding: (1000, 36)\n"
     ]
    }
   ],
   "source": [
    "# Remove old columns\n",
    "test_data_encod.drop(['MarketSegment', 'DistributionChannel'], axis = 1, inplace = True)\n",
    "print('The shape after encoding: {}'.format(test_data_encod.shape))"
   ]
  },
  {
   "cell_type": "code",
   "execution_count": 55,
   "id": "4003dab7",
   "metadata": {},
   "outputs": [
    {
     "data": {
      "text/plain": [
       "Other                  577\n",
       "TravelAgentOperator    184\n",
       "Direct                 177\n",
       "Corporate               34\n",
       "Complementary           26\n",
       "Groups                   1\n",
       "Aviation                 1\n",
       "Name: MarketSegment, dtype: int64"
      ]
     },
     "execution_count": 55,
     "metadata": {},
     "output_type": "execute_result"
    }
   ],
   "source": [
    "test_data['MarketSegment'].value_counts()"
   ]
  },
  {
   "cell_type": "code",
   "execution_count": 56,
   "id": "b812eb62",
   "metadata": {},
   "outputs": [
    {
     "data": {
      "text/plain": [
       "TravelAgentOperator       763\n",
       "Direct                    201\n",
       "Corporate                  35\n",
       "ElectronicDistribution      1\n",
       "Name: DistributionChannel, dtype: int64"
      ]
     },
     "execution_count": 56,
     "metadata": {},
     "output_type": "execute_result"
    }
   ],
   "source": [
    "test_data['DistributionChannel'].value_counts()"
   ]
  },
  {
   "cell_type": "code",
   "execution_count": 57,
   "id": "8c616e44",
   "metadata": {},
   "outputs": [
    {
     "data": {
      "text/plain": [
       "0    521\n",
       "1    479\n",
       "Name: BookingsCheckedIn, dtype: int64"
      ]
     },
     "execution_count": 57,
     "metadata": {},
     "output_type": "execute_result"
    }
   ],
   "source": [
    "test_data_encod.loc[test_data_encod['BookingsCheckedIn']>1,\"BookingsCheckedIn\"]=1\n",
    "test_data_encod['BookingsCheckedIn'].value_counts()"
   ]
  },
  {
   "cell_type": "code",
   "execution_count": 58,
   "id": "0a63bc68",
   "metadata": {},
   "outputs": [
    {
     "name": "stdout",
     "output_type": "stream",
     "text": [
      "<class 'pandas.core.frame.DataFrame'>\n",
      "RangeIndex: 1000 entries, 0 to 999\n",
      "Data columns (total 36 columns):\n",
      " #   Column                                                     Non-Null Count  Dtype  \n",
      "---  ------                                                     --------------  -----  \n",
      " 0   onehotencoder__MarketSegment_Aviation                      1000 non-null   float64\n",
      " 1   onehotencoder__MarketSegment_Complementary                 1000 non-null   float64\n",
      " 2   onehotencoder__MarketSegment_Corporate                     1000 non-null   float64\n",
      " 3   onehotencoder__MarketSegment_Direct                        1000 non-null   float64\n",
      " 4   onehotencoder__MarketSegment_Groups                        1000 non-null   float64\n",
      " 5   onehotencoder__MarketSegment_Other                         1000 non-null   float64\n",
      " 6   onehotencoder__MarketSegment_TravelAgentOperator           1000 non-null   float64\n",
      " 7   onehotencoder__DistributionChannel_Corporate               1000 non-null   float64\n",
      " 8   onehotencoder__DistributionChannel_Direct                  1000 non-null   float64\n",
      " 9   onehotencoder__DistributionChannel_ElectronicDistribution  1000 non-null   float64\n",
      " 10  onehotencoder__DistributionChannel_TravelAgentOperator     1000 non-null   float64\n",
      " 11  Age                                                        1000 non-null   float64\n",
      " 12  DaysSinceCreation                                          1000 non-null   int64  \n",
      " 13  AverageLeadTime                                            1000 non-null   int64  \n",
      " 14  LodgingRevenue                                             1000 non-null   float64\n",
      " 15  OtherRevenue                                               1000 non-null   float64\n",
      " 16  BookingsCanceled                                           1000 non-null   int64  \n",
      " 17  BookingsNoShowed                                           1000 non-null   int64  \n",
      " 18  BookingsCheckedIn                                          1000 non-null   int64  \n",
      " 19  PersonsNights                                              1000 non-null   int64  \n",
      " 20  RoomNights                                                 1000 non-null   int64  \n",
      " 21  DaysSinceLastStay                                          1000 non-null   int64  \n",
      " 22  DaysSinceFirstStay                                         1000 non-null   int64  \n",
      " 23  SRHighFloor                                                1000 non-null   int64  \n",
      " 24  SRLowFloor                                                 1000 non-null   int64  \n",
      " 25  SRAccessibleRoom                                           1000 non-null   int64  \n",
      " 26  SRMediumFloor                                              1000 non-null   int64  \n",
      " 27  SRBathtub                                                  1000 non-null   int64  \n",
      " 28  SRShower                                                   1000 non-null   int64  \n",
      " 29  SRCrib                                                     1000 non-null   int64  \n",
      " 30  SRKingSizeBed                                              1000 non-null   int64  \n",
      " 31  SRTwinBed                                                  1000 non-null   int64  \n",
      " 32  SRNearElevator                                             1000 non-null   int64  \n",
      " 33  SRAwayFromElevator                                         1000 non-null   int64  \n",
      " 34  SRNoAlcoholInMiniBar                                       1000 non-null   int64  \n",
      " 35  SRQuietRoom                                                1000 non-null   int64  \n",
      "dtypes: float64(14), int64(22)\n",
      "memory usage: 281.4 KB\n"
     ]
    }
   ],
   "source": [
    "test_data_encod.info()"
   ]
  },
  {
   "cell_type": "markdown",
   "id": "b1ad0fce",
   "metadata": {},
   "source": [
    "# Testing model on test_data\n"
   ]
  },
  {
   "cell_type": "markdown",
   "id": "35a8a859",
   "metadata": {},
   "source": [
    "### 1.Logistic-Regression Model testing on Test_data"
   ]
  },
  {
   "cell_type": "code",
   "execution_count": 59,
   "id": "ddbd8ed7",
   "metadata": {},
   "outputs": [],
   "source": [
    "x_test = test_data_encod.drop('BookingsCheckedIn',axis=1)\n",
    "y_test = test_data_encod['BookingsCheckedIn']"
   ]
  },
  {
   "cell_type": "code",
   "execution_count": 60,
   "id": "b60b2ab0",
   "metadata": {},
   "outputs": [],
   "source": [
    "y_test_predict_logistic= clf.predict(x_test)"
   ]
  },
  {
   "cell_type": "code",
   "execution_count": 61,
   "id": "88700d83",
   "metadata": {},
   "outputs": [
    {
     "name": "stdout",
     "output_type": "stream",
     "text": [
      "              precision    recall  f1-score   support\n",
      "\n",
      "           0       0.99      1.00      0.99       521\n",
      "           1       1.00      0.99      0.99       479\n",
      "\n",
      "    accuracy                           0.99      1000\n",
      "   macro avg       0.99      0.99      0.99      1000\n",
      "weighted avg       0.99      0.99      0.99      1000\n",
      "\n",
      "0.994\n",
      "[[521   0]\n",
      " [  6 473]]\n"
     ]
    }
   ],
   "source": [
    "print(classification_report(y_test,y_test_predict_logistic))\n",
    "print(accuracy_score(y_test,y_test_predict_logistic))\n",
    "print(confusion_matrix(y_test,y_test_predict_logistic))"
   ]
  },
  {
   "cell_type": "markdown",
   "id": "b94b286b",
   "metadata": {},
   "source": [
    "### 2.Random-Forest-Classifier Model testing on Test_data"
   ]
  },
  {
   "cell_type": "code",
   "execution_count": 62,
   "id": "0d7549fe",
   "metadata": {},
   "outputs": [],
   "source": [
    "#random forest on test data\n",
    "y_predict_forest = rfc.predict(x_test)"
   ]
  },
  {
   "cell_type": "code",
   "execution_count": 63,
   "id": "f4abe937",
   "metadata": {},
   "outputs": [
    {
     "name": "stdout",
     "output_type": "stream",
     "text": [
      "              precision    recall  f1-score   support\n",
      "\n",
      "           0       1.00      1.00      1.00       521\n",
      "           1       1.00      1.00      1.00       479\n",
      "\n",
      "    accuracy                           1.00      1000\n",
      "   macro avg       1.00      1.00      1.00      1000\n",
      "weighted avg       1.00      1.00      1.00      1000\n",
      "\n",
      "1.0\n",
      "[[521   0]\n",
      " [  0 479]]\n"
     ]
    }
   ],
   "source": [
    "print(classification_report(y_test,y_predict_forest))\n",
    "print(accuracy_score(y_test,y_predict_forest))\n",
    "print(confusion_matrix(y_test,y_predict_forest))"
   ]
  },
  {
   "cell_type": "code",
   "execution_count": 64,
   "id": "4c7abf0d",
   "metadata": {},
   "outputs": [],
   "source": [
    "#accuracy evaluation\n",
    "from sklearn.metrics import accuracy_score\n",
    "accuracy_logistic=accuracy_score(y_test,y_test_predict_logistic)\n",
    "\n",
    "accuracy_Forest=accuracy_score(y_test,y_predict_forest)\n"
   ]
  },
  {
   "cell_type": "code",
   "execution_count": 65,
   "id": "cb010454",
   "metadata": {},
   "outputs": [
    {
     "name": "stdout",
     "output_type": "stream",
     "text": [
      "Logistic Regression : 99\n",
      "Random Forest Classifier : 100\n"
     ]
    }
   ],
   "source": [
    "#accuracy test\n",
    "print(\"Logistic Regression :\", round(accuracy_logistic*100))\n",
    "\n",
    "print(\"Random Forest Classifier :\",round(accuracy_Forest*100))\n"
   ]
  },
  {
   "cell_type": "code",
   "execution_count": 66,
   "id": "1eeacdca",
   "metadata": {},
   "outputs": [
    {
     "data": {
      "text/html": [
       "<div>\n",
       "<style scoped>\n",
       "    .dataframe tbody tr th:only-of-type {\n",
       "        vertical-align: middle;\n",
       "    }\n",
       "\n",
       "    .dataframe tbody tr th {\n",
       "        vertical-align: top;\n",
       "    }\n",
       "\n",
       "    .dataframe thead th {\n",
       "        text-align: right;\n",
       "    }\n",
       "</style>\n",
       "<table border=\"1\" class=\"dataframe\">\n",
       "  <thead>\n",
       "    <tr style=\"text-align: right;\">\n",
       "      <th>Predicted</th>\n",
       "      <th>0</th>\n",
       "      <th>1</th>\n",
       "      <th>All</th>\n",
       "    </tr>\n",
       "    <tr>\n",
       "      <th>True</th>\n",
       "      <th></th>\n",
       "      <th></th>\n",
       "      <th></th>\n",
       "    </tr>\n",
       "  </thead>\n",
       "  <tbody>\n",
       "    <tr>\n",
       "      <th>0</th>\n",
       "      <td>521</td>\n",
       "      <td>0</td>\n",
       "      <td>521</td>\n",
       "    </tr>\n",
       "    <tr>\n",
       "      <th>1</th>\n",
       "      <td>0</td>\n",
       "      <td>479</td>\n",
       "      <td>479</td>\n",
       "    </tr>\n",
       "    <tr>\n",
       "      <th>All</th>\n",
       "      <td>521</td>\n",
       "      <td>479</td>\n",
       "      <td>1000</td>\n",
       "    </tr>\n",
       "  </tbody>\n",
       "</table>\n",
       "</div>"
      ],
      "text/plain": [
       "Predicted    0    1   All\n",
       "True                     \n",
       "0          521    0   521\n",
       "1            0  479   479\n",
       "All        521  479  1000"
      ]
     },
     "execution_count": 66,
     "metadata": {},
     "output_type": "execute_result"
    }
   ],
   "source": [
    "#Confusion Matrix for Random Forest Algorithm\n",
    "from sklearn.metrics import confusion_matrix\n",
    "cm = confusion_matrix(y_test,y_predict_forest)\n",
    "pd.crosstab(y_test, y_predict_forest, rownames=['True'], colnames=['Predicted'], margins=True)"
   ]
  },
  {
   "cell_type": "code",
   "execution_count": 67,
   "id": "3f796c2f",
   "metadata": {},
   "outputs": [
    {
     "data": {
      "text/plain": [
       "Text(0.5, 15.0, 'Predicted label')"
      ]
     },
     "execution_count": 67,
     "metadata": {},
     "output_type": "execute_result"
    },
    {
     "data": {
      "image/png": "[encoded data removed]",
      "text/plain": [
       "<Figure size 432x288 with 2 Axes>"
      ]
     },
     "metadata": {
      "needs_background": "light"
     },
     "output_type": "display_data"
    }
   ],
   "source": [
    "#Confusion Matrix Heatmap for Logistic Regression algorithm\n",
    "from sklearn import metrics\n",
    "p = sns.heatmap(pd.DataFrame(cm), annot=True, cmap=\"summer\" ,fmt='g')\n",
    "plt.title('Confusion matrix on test data')\n",
    "plt.ylabel('Actual label')\n",
    "plt.xlabel('Predicted label')"
   ]
  },
  {
   "cell_type": "markdown",
   "id": "69a05bf3",
   "metadata": {},
   "source": [
    "Finally our model accuracy using\n",
    "\n",
    "1.Logistic Regression : 99%\n",
    "Confusion matrix is [521     0][6      473]  which means model got confused 6 time to predict 1(Customer Checked In),and it wrongly predicted 0(Customer not CheckedIn) 6times.\n",
    "                    \n",
    "also 994 times out of 1000time, model predicted actual result.\n",
    "\n",
    "2.Random Forest Classifier : 100%  on the test data,\n",
    "\n",
    "so definatly it is not overfitting.\n",
    "\n",
    "So while model deployment we will use Random forest classifier.\n",
    "\n"
   ]
  },
  {
   "cell_type": "markdown",
   "id": "0026c56b",
   "metadata": {},
   "source": [
    "# Model Saving"
   ]
  },
  {
   "cell_type": "code",
   "execution_count": 68,
   "id": "2008541f",
   "metadata": {},
   "outputs": [
    {
     "data": {
      "text/plain": [
       "array([0.000e+00, 0.000e+00, 1.000e+00, 0.000e+00, 0.000e+00, 0.000e+00,\n",
       "       0.000e+00, 1.000e+00, 0.000e+00, 0.000e+00, 0.000e+00, 5.100e+01,\n",
       "       1.500e+02, 4.500e+01, 3.710e+02, 1.053e+02, 1.000e+00, 0.000e+00,\n",
       "       1.000e+00, 8.000e+00, 5.000e+00, 1.510e+02, 1.074e+03, 0.000e+00,\n",
       "       0.000e+00, 0.000e+00, 0.000e+00, 0.000e+00, 0.000e+00, 0.000e+00,\n",
       "       0.000e+00, 0.000e+00, 0.000e+00, 0.000e+00, 0.000e+00, 0.000e+00])"
      ]
     },
     "execution_count": 68,
     "metadata": {},
     "output_type": "execute_result"
    }
   ],
   "source": [
    "np.array(hotel_2.iloc[0])"
   ]
  },
  {
   "cell_type": "code",
   "execution_count": 69,
   "id": "c2935d1a",
   "metadata": {},
   "outputs": [],
   "source": [
    "input_data =(0.0,0.0,1.0,0.0,0.0,0.0,0.0,1.0,0.0,0.0,0.0,51.0,150.0,45.0,371.0,105.3,1.0,0.0,8.0,5.0,151.0,1074.0,0.0,\n",
    "             0.0,0.0,0.0,0.0,0.0,0.0,0.0,0.0,0.0,0.0,0.0,0.0)\n"
   ]
  },
  {
   "cell_type": "code",
   "execution_count": 70,
   "id": "c745f0cf",
   "metadata": {},
   "outputs": [],
   "source": [
    "#hotel_2.info()"
   ]
  },
  {
   "cell_type": "code",
   "execution_count": 71,
   "id": "9295da34",
   "metadata": {},
   "outputs": [
    {
     "name": "stdout",
     "output_type": "stream",
     "text": [
      "[1]\n",
      "This Customer will do Checkin\n"
     ]
    },
    {
     "name": "stderr",
     "output_type": "stream",
     "text": [
      "C:\\Users\\anura\\AppData\\Local\\Programs\\Python\\Python310\\lib\\site-packages\\sklearn\\base.py:450: UserWarning: X does not have valid feature names, but RandomForestClassifier was fitted with feature names\n",
      "  warnings.warn(\n"
     ]
    }
   ],
   "source": [
    "#changing the input data to numpy array\n",
    "input_data_as_np_array =np.array(input_data)\n",
    "\n",
    "#reshape the numpy array as we predicting for instances\n",
    "input_data_reshape =input_data_as_np_array.reshape(1,-1)\n",
    "\n",
    "prediction =rfc.predict(input_data_reshape)\n",
    "print(prediction)\n",
    "\n",
    "if (prediction[0] == 0 ):\n",
    "    print('This Customer will not Checkin')\n",
    "else:\n",
    "    print('This Customer will do Checkin')\n",
    "    "
   ]
  },
  {
   "cell_type": "markdown",
   "id": "914a543e",
   "metadata": {},
   "source": [
    "# Saving the Trained model"
   ]
  },
  {
   "cell_type": "code",
   "execution_count": 72,
   "id": "26ce5c49",
   "metadata": {},
   "outputs": [],
   "source": [
    "import pickle"
   ]
  },
  {
   "cell_type": "code",
   "execution_count": 73,
   "id": "26c0cd8a",
   "metadata": {},
   "outputs": [],
   "source": [
    "filename ='trained_model.sav'\n",
    "pickle.dump(rfc,open(filename, 'wb'))"
   ]
  },
  {
   "cell_type": "code",
   "execution_count": 74,
   "id": "bbde74b0",
   "metadata": {},
   "outputs": [],
   "source": [
    "#Loading the saved model\n",
    "loaded_model =pickle.load(open('trained_model.sav','rb'))"
   ]
  },
  {
   "cell_type": "code",
   "execution_count": 75,
   "id": "1bea5ffb",
   "metadata": {},
   "outputs": [
    {
     "name": "stdout",
     "output_type": "stream",
     "text": [
      "[1]\n",
      "This Customer will do Checkin\n"
     ]
    },
    {
     "name": "stderr",
     "output_type": "stream",
     "text": [
      "C:\\Users\\anura\\AppData\\Local\\Programs\\Python\\Python310\\lib\\site-packages\\sklearn\\base.py:450: UserWarning: X does not have valid feature names, but RandomForestClassifier was fitted with feature names\n",
      "  warnings.warn(\n"
     ]
    }
   ],
   "source": [
    "#changing the input data to numpy array\n",
    "input_data_as_np_array =np.array(input_data)\n",
    "\n",
    "#reshape the numpy array as we predicting for instances\n",
    "input_data_reshape =input_data_as_np_array.reshape(1,-1)\n",
    "\n",
    "prediction =loaded_model.predict(input_data_reshape)\n",
    "print(prediction)\n",
    "\n",
    "if (prediction[0] == 0 ):\n",
    "    print('This Customer will not Checkin')\n",
    "else:\n",
    "    print('This Customer will do Checkin')\n",
    "    "
   ]
  },
  {
   "cell_type": "markdown",
   "id": "3764350f",
   "metadata": {},
   "source": [
    "."
   ]
  },
  {
   "cell_type": "markdown",
   "id": "c429eea1",
   "metadata": {},
   "source": [
    "# --------00000-------00000---------Thank You---------00000---------000000--------"
   ]
  },
  {
   "cell_type": "markdown",
   "id": "740b5786",
   "metadata": {},
   "source": [
    "# Few Interesting Visualizations"
   ]
  },
  {
   "cell_type": "markdown",
   "id": "cd0d6ad8",
   "metadata": {},
   "source": [
    "## 1.People really are cancelling a LOT"
   ]
  },
  {
   "cell_type": "code",
   "execution_count": 76,
   "id": "8d576b30",
   "metadata": {},
   "outputs": [
    {
     "data": {
      "image/png": "[encoded data removed]",
      "text/plain": [
       "<Figure size 432x288 with 1 Axes>"
      ]
     },
     "metadata": {
      "needs_background": "light"
     },
     "output_type": "display_data"
    },
    {
     "data": {
      "text/plain": [
       "1    76.546876\n",
       "0    23.453124\n",
       "Name: BookingsCheckedIn, dtype: float64"
      ]
     },
     "execution_count": 76,
     "metadata": {},
     "output_type": "execute_result"
    }
   ],
   "source": [
    "plt.title('Booking Cancellation status',fontsize=20,color='Black')\n",
    "sns.countplot(x='BookingsCheckedIn',data=hotel_2)\n",
    "plt.show()\n",
    "hotel_2['BookingsCheckedIn'].value_counts()*100/len(hotel_2)"
   ]
  },
  {
   "cell_type": "markdown",
   "id": "2c3d388d",
   "metadata": {},
   "source": [
    "# Insides"
   ]
  },
  {
   "cell_type": "markdown",
   "id": "e33f3b56",
   "metadata": {},
   "source": [
    "1-Not cancelled 76% of people make the hotel Booking,and came for stay\n",
    "\n",
    "0-Booking cancelled, 23% of guests cancelled their booking"
   ]
  },
  {
   "cell_type": "markdown",
   "id": "63ad561f",
   "metadata": {},
   "source": [
    "## 2.Top Nationalities Contributing for maximum guests"
   ]
  },
  {
   "cell_type": "code",
   "execution_count": 77,
   "id": "35f12f00",
   "metadata": {},
   "outputs": [
    {
     "data": {
      "image/png": "[encoded data removed]",
      "text/plain": [
       "<Figure size 864x576 with 1 Axes>"
      ]
     },
     "metadata": {},
     "output_type": "display_data"
    }
   ],
   "source": [
    "top_10_nation = hotel['Nationality'].value_counts().head(10)\n",
    "colors = sns.color_palette('bright')\n",
    "plt.figure(figsize=(12,8))\n",
    "plt.pie(top_10_nation, labels =top_10_nation.keys() , colors = colors, autopct='%.0f%%')\n",
    "\n",
    "plt.title('Distribution of Top 10 Nationalities',fontsize=0,color='Black')\n",
    "\n",
    "plt.show()"
   ]
  },
  {
   "cell_type": "markdown",
   "id": "8e16ac02",
   "metadata": {},
   "source": [
    "## Insides"
   ]
  },
  {
   "cell_type": "markdown",
   "id": "290a1d59",
   "metadata": {},
   "source": [
    "Top 3 Nations from where almost 50% of guest are comming\n",
    "\n",
    "i.e 1.Frabce 2.Portugal3.Germany"
   ]
  },
  {
   "cell_type": "markdown",
   "id": "09f69c61",
   "metadata": {},
   "source": [
    "## 3.Top Distribution Channels Whose Contribution is High"
   ]
  },
  {
   "cell_type": "code",
   "execution_count": 78,
   "id": "959c4df7",
   "metadata": {},
   "outputs": [
    {
     "data": {
      "image/png": "[encoded data removed]",
      "text/plain": [
       "<Figure size 720x504 with 1 Axes>"
      ]
     },
     "metadata": {},
     "output_type": "display_data"
    }
   ],
   "source": [
    "data = hotel['DistributionChannel'].value_counts()*100 /len(hotel)\n",
    "colors = sns.color_palette('Greens_r')\n",
    "plt.figure(figsize=(10,7))\n",
    "plt.pie(data, labels =data.keys() , colors = colors, autopct='%.0f%%')\n",
    "\n",
    "plt.title('Booking % per Distribution Channel',fontsize=20,color='Black')\n",
    "\n",
    "plt.show()"
   ]
  },
  {
   "cell_type": "markdown",
   "id": "571e6f9f",
   "metadata": {},
   "source": [
    "## Insides"
   ]
  },
  {
   "cell_type": "markdown",
   "id": "4c0fedae",
   "metadata": {},
   "source": [
    "84% Of Hotel booking for the guest is done through the \"Travel Agent Operators\"\n",
    "\n",
    "14% of Hotel booking done through Direct"
   ]
  },
  {
   "cell_type": "markdown",
   "id": "e7819e4a",
   "metadata": {},
   "source": [
    "## 4.Customers asking for the Facillities"
   ]
  },
  {
   "cell_type": "markdown",
   "id": "4e72a756",
   "metadata": {},
   "source": [
    "### 4.1.Customer Asking for High Floor"
   ]
  },
  {
   "cell_type": "code",
   "execution_count": 79,
   "id": "5070a3b1",
   "metadata": {},
   "outputs": [
    {
     "data": {
      "image/png": "[encoded data removed]",
      "text/plain": [
       "<Figure size 432x288 with 1 Axes>"
      ]
     },
     "metadata": {
      "needs_background": "light"
     },
     "output_type": "display_data"
    },
    {
     "data": {
      "text/plain": [
       "0    95.247561\n",
       "1     4.752439\n",
       "Name: SRHighFloor, dtype: float64"
      ]
     },
     "execution_count": 79,
     "metadata": {},
     "output_type": "execute_result"
    }
   ],
   "source": [
    "plt.title('Customer Asking for High Floor',fontsize=20,color='Black')\n",
    "sns.countplot(x='SRHighFloor',data=hotel_2)\n",
    "plt.show()\n",
    "hotel_2['SRHighFloor'].value_counts()*100/len(hotel_2)"
   ]
  },
  {
   "cell_type": "markdown",
   "id": "7f5f9831",
   "metadata": {},
   "source": [
    "Around 5% Customers asking for the high floor"
   ]
  },
  {
   "cell_type": "markdown",
   "id": "e7b2f570",
   "metadata": {},
   "source": [
    "### 4.2.Customer Asking for Low Floor"
   ]
  },
  {
   "cell_type": "code",
   "execution_count": 80,
   "id": "fc90843f",
   "metadata": {},
   "outputs": [
    {
     "data": {
      "image/png": "[encoded data removed]",
      "text/plain": [
       "<Figure size 432x288 with 1 Axes>"
      ]
     },
     "metadata": {
      "needs_background": "light"
     },
     "output_type": "display_data"
    },
    {
     "data": {
      "text/plain": [
       "0    99.856978\n",
       "1     0.143022\n",
       "Name: SRLowFloor, dtype: float64"
      ]
     },
     "execution_count": 80,
     "metadata": {},
     "output_type": "execute_result"
    }
   ],
   "source": [
    "plt.title('Customer Asking for low Floor',fontsize=20,color='Black')\n",
    "sns.countplot(x='SRLowFloor',data=hotel_2)\n",
    "plt.show()\n",
    "hotel_2['SRLowFloor'].value_counts()*100/len(hotel_2)"
   ]
  },
  {
   "cell_type": "markdown",
   "id": "cdb98fe6",
   "metadata": {},
   "source": [
    "### 4.3.Customer Asking for KingSizeBed"
   ]
  },
  {
   "cell_type": "code",
   "execution_count": 81,
   "id": "8401af66",
   "metadata": {},
   "outputs": [
    {
     "data": {
      "image/png": "[encoded data removed]",
      "text/plain": [
       "<Figure size 432x288 with 1 Axes>"
      ]
     },
     "metadata": {
      "needs_background": "light"
     },
     "output_type": "display_data"
    },
    {
     "data": {
      "text/plain": [
       "0    64.840919\n",
       "1    35.159081\n",
       "Name: SRKingSizeBed, dtype: float64"
      ]
     },
     "execution_count": 81,
     "metadata": {},
     "output_type": "execute_result"
    }
   ],
   "source": [
    "plt.title('Customer Asking for SRKingSizeBed',fontsize=20,color='Black')\n",
    "sns.countplot(x='SRKingSizeBed',data=hotel_2)\n",
    "plt.show()\n",
    "hotel_2['SRKingSizeBed'].value_counts()*100/len(hotel_2)"
   ]
  },
  {
   "cell_type": "markdown",
   "id": "3dcc77d1",
   "metadata": {},
   "source": [
    "### 4.4.Customer Asking for QuietRoom"
   ]
  },
  {
   "cell_type": "code",
   "execution_count": 82,
   "id": "429aab61",
   "metadata": {},
   "outputs": [
    {
     "data": {
      "image/png": "[encoded data removed]",
      "text/plain": [
       "<Figure size 432x288 with 1 Axes>"
      ]
     },
     "metadata": {
      "needs_background": "light"
     },
     "output_type": "display_data"
    },
    {
     "data": {
      "text/plain": [
       "0    91.189625\n",
       "1     8.810375\n",
       "Name: SRQuietRoom, dtype: float64"
      ]
     },
     "execution_count": 82,
     "metadata": {},
     "output_type": "execute_result"
    }
   ],
   "source": [
    "plt.title('Customer Asking for QuietRoom',fontsize=20,color='Black')\n",
    "sns.countplot(x='SRQuietRoom',data=hotel_2)\n",
    "plt.show()\n",
    "hotel_2['SRQuietRoom'].value_counts()*100/len(hotel_2)"
   ]
  },
  {
   "cell_type": "markdown",
   "id": "c53569df",
   "metadata": {},
   "source": [
    "# --------00000-------00000---------Thank You---------00000---------000000--------"
   ]
  }
 ],
 "metadata": {
  "kernelspec": {
   "display_name": "Python 3 (ipykernel)",
   "language": "python",
   "name": "python3"
  },
  "language_info": {
   "codemirror_mode": {
    "name": "ipython",
    "version": 3
   },
   "file_extension": ".py",
   "mimetype": "text/x-python",
   "name": "python",
   "nbconvert_exporter": "python",
   "pygments_lexer": "ipython3",
   "version": "3.10.1"
  }
 },
 "nbformat": 4,
 "nbformat_minor": 5
}
